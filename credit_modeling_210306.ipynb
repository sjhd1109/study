{
  "nbformat": 4,
  "nbformat_minor": 0,
  "metadata": {
    "colab": {
      "name": "credit_modeling_210306.ipynb",
      "provenance": [],
      "mount_file_id": "1zEk23FAE76DvYWQOnKaQJwDxKG1WYa5h",
      "authorship_tag": "ABX9TyMjHUXqFTsPeWF12/ZPcIjd",
      "include_colab_link": true
    },
    "kernelspec": {
      "name": "python3",
      "display_name": "Python 3"
    }
  },
  "cells": [
    {
      "cell_type": "markdown",
      "metadata": {
        "id": "view-in-github",
        "colab_type": "text"
      },
      "source": [
        "<a href=\"https://colab.research.google.com/github/sjhd1109/study/blob/main/credit_modeling_210306.ipynb\" target=\"_parent\"><img src=\"https://colab.research.google.com/assets/colab-badge.svg\" alt=\"Open In Colab\"/></a>"
      ]
    },
    {
      "cell_type": "markdown",
      "metadata": {
        "id": "GaiqsjJt_IGe"
      },
      "source": [
        "## credit modeling\r\n",
        "- 로지스틱스\r\n",
        "- 케라스"
      ]
    },
    {
      "cell_type": "code",
      "metadata": {
        "id": "a9g7DvOZARax"
      },
      "source": [
        "import numpy as np\r\n",
        "import pandas as pd\r\n",
        "from sklearn.linear_model import LogisticRegression\r\n",
        "from sklearn.model_selection import train_test_split\r\n",
        "from sklearn.metrics import confusion_matrix\r\n",
        "from sklearn.metrics import accuracy_score, roc_auc_score, roc_curve\r\n",
        "import statsmodels.api as sm\r\n",
        "import matplotlib.pyplot as plt\r\n",
        "import time "
      ],
      "execution_count": null,
      "outputs": []
    },
    {
      "cell_type": "code",
      "metadata": {
        "colab": {
          "base_uri": "https://localhost:8080/"
        },
        "id": "BkM6Ys0n_PwW",
        "outputId": "f20c0a69-dcb8-4c0b-c86a-d614849329cb"
      },
      "source": [
        "from google.colab import drive \r\n",
        "drive.mount('/content/drive') # 새로운 창에서 key 를 받아서 입력해야합니다."
      ],
      "execution_count": null,
      "outputs": [
        {
          "output_type": "stream",
          "text": [
            "Drive already mounted at /content/drive; to attempt to forcibly remount, call drive.mount(\"/content/drive\", force_remount=True).\n"
          ],
          "name": "stdout"
        }
      ]
    },
    {
      "cell_type": "code",
      "metadata": {
        "id": "zHvlMLD5FnPZ"
      },
      "source": [
        "train = '/content/drive/MyDrive/train_df.csv'\r\n",
        "test = '/content/drive/MyDrive/test_df.csv'"
      ],
      "execution_count": null,
      "outputs": []
    },
    {
      "cell_type": "code",
      "metadata": {
        "id": "KCTxxMP9HMPm",
        "colab": {
          "base_uri": "https://localhost:8080/",
          "height": 391
        },
        "outputId": "a35fdff9-0816-4928-917b-fed744fc11b3"
      },
      "source": [
        "train_df = pd.read_csv(train, index_col=0)\r\n",
        "test_df = pd.read_csv(test,index_col=0 )\r\n",
        "\r\n",
        "train_df"
      ],
      "execution_count": null,
      "outputs": [
        {
          "output_type": "execute_result",
          "data": {
            "text/html": [
              "<div>\n",
              "<style scoped>\n",
              "    .dataframe tbody tr th:only-of-type {\n",
              "        vertical-align: middle;\n",
              "    }\n",
              "\n",
              "    .dataframe tbody tr th {\n",
              "        vertical-align: top;\n",
              "    }\n",
              "\n",
              "    .dataframe thead th {\n",
              "        text-align: right;\n",
              "    }\n",
              "</style>\n",
              "<table border=\"1\" class=\"dataframe\">\n",
              "  <thead>\n",
              "    <tr style=\"text-align: right;\">\n",
              "      <th></th>\n",
              "      <th>checking</th>\n",
              "      <th>history</th>\n",
              "      <th>purpose</th>\n",
              "      <th>savings</th>\n",
              "      <th>employed</th>\n",
              "      <th>installp</th>\n",
              "      <th>martial</th>\n",
              "      <th>coapp</th>\n",
              "      <th>resident</th>\n",
              "      <th>property</th>\n",
              "      <th>age</th>\n",
              "      <th>other</th>\n",
              "      <th>housing</th>\n",
              "      <th>existcr</th>\n",
              "      <th>job</th>\n",
              "      <th>depends</th>\n",
              "      <th>telephon</th>\n",
              "      <th>foreign</th>\n",
              "      <th>goodbad</th>\n",
              "    </tr>\n",
              "  </thead>\n",
              "  <tbody>\n",
              "    <tr>\n",
              "      <th>0</th>\n",
              "      <td>2</td>\n",
              "      <td>5</td>\n",
              "      <td>3</td>\n",
              "      <td>1</td>\n",
              "      <td>4</td>\n",
              "      <td>4</td>\n",
              "      <td>3</td>\n",
              "      <td>1</td>\n",
              "      <td>3</td>\n",
              "      <td>3</td>\n",
              "      <td>1</td>\n",
              "      <td>3</td>\n",
              "      <td>1</td>\n",
              "      <td>1</td>\n",
              "      <td>3</td>\n",
              "      <td>1</td>\n",
              "      <td>2</td>\n",
              "      <td>1</td>\n",
              "      <td>1</td>\n",
              "    </tr>\n",
              "    <tr>\n",
              "      <th>1</th>\n",
              "      <td>1</td>\n",
              "      <td>3</td>\n",
              "      <td>1</td>\n",
              "      <td>1</td>\n",
              "      <td>2</td>\n",
              "      <td>4</td>\n",
              "      <td>2</td>\n",
              "      <td>1</td>\n",
              "      <td>3</td>\n",
              "      <td>3</td>\n",
              "      <td>1</td>\n",
              "      <td>3</td>\n",
              "      <td>1</td>\n",
              "      <td>1</td>\n",
              "      <td>3</td>\n",
              "      <td>1</td>\n",
              "      <td>2</td>\n",
              "      <td>1</td>\n",
              "      <td>0</td>\n",
              "    </tr>\n",
              "    <tr>\n",
              "      <th>2</th>\n",
              "      <td>4</td>\n",
              "      <td>5</td>\n",
              "      <td>4</td>\n",
              "      <td>1</td>\n",
              "      <td>3</td>\n",
              "      <td>1</td>\n",
              "      <td>2</td>\n",
              "      <td>1</td>\n",
              "      <td>1</td>\n",
              "      <td>3</td>\n",
              "      <td>1</td>\n",
              "      <td>3</td>\n",
              "      <td>2</td>\n",
              "      <td>2</td>\n",
              "      <td>3</td>\n",
              "      <td>1</td>\n",
              "      <td>2</td>\n",
              "      <td>1</td>\n",
              "      <td>0</td>\n",
              "    </tr>\n",
              "    <tr>\n",
              "      <th>3</th>\n",
              "      <td>4</td>\n",
              "      <td>3</td>\n",
              "      <td>1</td>\n",
              "      <td>1</td>\n",
              "      <td>3</td>\n",
              "      <td>3</td>\n",
              "      <td>4</td>\n",
              "      <td>1</td>\n",
              "      <td>2</td>\n",
              "      <td>1</td>\n",
              "      <td>1</td>\n",
              "      <td>3</td>\n",
              "      <td>2</td>\n",
              "      <td>2</td>\n",
              "      <td>3</td>\n",
              "      <td>1</td>\n",
              "      <td>2</td>\n",
              "      <td>1</td>\n",
              "      <td>0</td>\n",
              "    </tr>\n",
              "    <tr>\n",
              "      <th>4</th>\n",
              "      <td>1</td>\n",
              "      <td>3</td>\n",
              "      <td>1</td>\n",
              "      <td>2</td>\n",
              "      <td>4</td>\n",
              "      <td>4</td>\n",
              "      <td>3</td>\n",
              "      <td>1</td>\n",
              "      <td>3</td>\n",
              "      <td>3</td>\n",
              "      <td>1</td>\n",
              "      <td>3</td>\n",
              "      <td>2</td>\n",
              "      <td>1</td>\n",
              "      <td>4</td>\n",
              "      <td>2</td>\n",
              "      <td>2</td>\n",
              "      <td>1</td>\n",
              "      <td>0</td>\n",
              "    </tr>\n",
              "    <tr>\n",
              "      <th>...</th>\n",
              "      <td>...</td>\n",
              "      <td>...</td>\n",
              "      <td>...</td>\n",
              "      <td>...</td>\n",
              "      <td>...</td>\n",
              "      <td>...</td>\n",
              "      <td>...</td>\n",
              "      <td>...</td>\n",
              "      <td>...</td>\n",
              "      <td>...</td>\n",
              "      <td>...</td>\n",
              "      <td>...</td>\n",
              "      <td>...</td>\n",
              "      <td>...</td>\n",
              "      <td>...</td>\n",
              "      <td>...</td>\n",
              "      <td>...</td>\n",
              "      <td>...</td>\n",
              "      <td>...</td>\n",
              "    </tr>\n",
              "    <tr>\n",
              "      <th>695</th>\n",
              "      <td>2</td>\n",
              "      <td>5</td>\n",
              "      <td>4</td>\n",
              "      <td>1</td>\n",
              "      <td>5</td>\n",
              "      <td>4</td>\n",
              "      <td>3</td>\n",
              "      <td>1</td>\n",
              "      <td>2</td>\n",
              "      <td>2</td>\n",
              "      <td>2</td>\n",
              "      <td>3</td>\n",
              "      <td>2</td>\n",
              "      <td>2</td>\n",
              "      <td>2</td>\n",
              "      <td>1</td>\n",
              "      <td>1</td>\n",
              "      <td>1</td>\n",
              "      <td>0</td>\n",
              "    </tr>\n",
              "    <tr>\n",
              "      <th>696</th>\n",
              "      <td>4</td>\n",
              "      <td>5</td>\n",
              "      <td>7</td>\n",
              "      <td>5</td>\n",
              "      <td>2</td>\n",
              "      <td>2</td>\n",
              "      <td>3</td>\n",
              "      <td>1</td>\n",
              "      <td>1</td>\n",
              "      <td>2</td>\n",
              "      <td>2</td>\n",
              "      <td>3</td>\n",
              "      <td>2</td>\n",
              "      <td>2</td>\n",
              "      <td>2</td>\n",
              "      <td>2</td>\n",
              "      <td>1</td>\n",
              "      <td>1</td>\n",
              "      <td>1</td>\n",
              "    </tr>\n",
              "    <tr>\n",
              "      <th>697</th>\n",
              "      <td>1</td>\n",
              "      <td>3</td>\n",
              "      <td>3</td>\n",
              "      <td>1</td>\n",
              "      <td>1</td>\n",
              "      <td>4</td>\n",
              "      <td>3</td>\n",
              "      <td>1</td>\n",
              "      <td>3</td>\n",
              "      <td>2</td>\n",
              "      <td>2</td>\n",
              "      <td>3</td>\n",
              "      <td>2</td>\n",
              "      <td>1</td>\n",
              "      <td>4</td>\n",
              "      <td>1</td>\n",
              "      <td>2</td>\n",
              "      <td>1</td>\n",
              "      <td>0</td>\n",
              "    </tr>\n",
              "    <tr>\n",
              "      <th>698</th>\n",
              "      <td>4</td>\n",
              "      <td>3</td>\n",
              "      <td>4</td>\n",
              "      <td>1</td>\n",
              "      <td>5</td>\n",
              "      <td>4</td>\n",
              "      <td>3</td>\n",
              "      <td>1</td>\n",
              "      <td>4</td>\n",
              "      <td>3</td>\n",
              "      <td>2</td>\n",
              "      <td>3</td>\n",
              "      <td>2</td>\n",
              "      <td>1</td>\n",
              "      <td>3</td>\n",
              "      <td>1</td>\n",
              "      <td>1</td>\n",
              "      <td>1</td>\n",
              "      <td>0</td>\n",
              "    </tr>\n",
              "    <tr>\n",
              "      <th>699</th>\n",
              "      <td>1</td>\n",
              "      <td>3</td>\n",
              "      <td>4</td>\n",
              "      <td>1</td>\n",
              "      <td>3</td>\n",
              "      <td>4</td>\n",
              "      <td>3</td>\n",
              "      <td>1</td>\n",
              "      <td>4</td>\n",
              "      <td>4</td>\n",
              "      <td>2</td>\n",
              "      <td>3</td>\n",
              "      <td>3</td>\n",
              "      <td>1</td>\n",
              "      <td>3</td>\n",
              "      <td>1</td>\n",
              "      <td>2</td>\n",
              "      <td>1</td>\n",
              "      <td>0</td>\n",
              "    </tr>\n",
              "  </tbody>\n",
              "</table>\n",
              "<p>700 rows × 19 columns</p>\n",
              "</div>"
            ],
            "text/plain": [
              "     checking  history  purpose  savings  ...  depends  telephon  foreign  goodbad\n",
              "0           2        5        3        1  ...        1         2        1        1\n",
              "1           1        3        1        1  ...        1         2        1        0\n",
              "2           4        5        4        1  ...        1         2        1        0\n",
              "3           4        3        1        1  ...        1         2        1        0\n",
              "4           1        3        1        2  ...        2         2        1        0\n",
              "..        ...      ...      ...      ...  ...      ...       ...      ...      ...\n",
              "695         2        5        4        1  ...        1         1        1        0\n",
              "696         4        5        7        5  ...        2         1        1        1\n",
              "697         1        3        3        1  ...        1         2        1        0\n",
              "698         4        3        4        1  ...        1         1        1        0\n",
              "699         1        3        4        1  ...        1         2        1        0\n",
              "\n",
              "[700 rows x 19 columns]"
            ]
          },
          "metadata": {
            "tags": []
          },
          "execution_count": 482
        }
      ]
    },
    {
      "cell_type": "code",
      "metadata": {
        "id": "gYOp63taJ2j0",
        "colab": {
          "base_uri": "https://localhost:8080/",
          "height": 391
        },
        "outputId": "6befc4a6-3a03-465c-adab-354c51b83f1b"
      },
      "source": [
        "x_train = train_df[['checking',\t'history'\t,'purpose',\t'savings'\t,'employed',\t'coapp',\t'resident',\t'property'\t, 'other',\t'housing','foreign']]\r\n",
        "y_train = train_df['goodbad']\r\n",
        "\r\n",
        "x_test = test_df[['checking',\t'history'\t,'purpose',\t'savings'\t,'employed',\t'coapp',\t'resident',\t'property'\t, 'other',\t'housing','foreign']]\r\n",
        "y_test = test_df['goodbad']\r\n",
        "\r\n",
        "\r\n",
        "x_train"
      ],
      "execution_count": null,
      "outputs": [
        {
          "output_type": "execute_result",
          "data": {
            "text/html": [
              "<div>\n",
              "<style scoped>\n",
              "    .dataframe tbody tr th:only-of-type {\n",
              "        vertical-align: middle;\n",
              "    }\n",
              "\n",
              "    .dataframe tbody tr th {\n",
              "        vertical-align: top;\n",
              "    }\n",
              "\n",
              "    .dataframe thead th {\n",
              "        text-align: right;\n",
              "    }\n",
              "</style>\n",
              "<table border=\"1\" class=\"dataframe\">\n",
              "  <thead>\n",
              "    <tr style=\"text-align: right;\">\n",
              "      <th></th>\n",
              "      <th>checking</th>\n",
              "      <th>history</th>\n",
              "      <th>purpose</th>\n",
              "      <th>savings</th>\n",
              "      <th>employed</th>\n",
              "      <th>coapp</th>\n",
              "      <th>resident</th>\n",
              "      <th>property</th>\n",
              "      <th>other</th>\n",
              "      <th>housing</th>\n",
              "      <th>foreign</th>\n",
              "    </tr>\n",
              "  </thead>\n",
              "  <tbody>\n",
              "    <tr>\n",
              "      <th>0</th>\n",
              "      <td>2</td>\n",
              "      <td>5</td>\n",
              "      <td>3</td>\n",
              "      <td>1</td>\n",
              "      <td>4</td>\n",
              "      <td>1</td>\n",
              "      <td>3</td>\n",
              "      <td>3</td>\n",
              "      <td>3</td>\n",
              "      <td>1</td>\n",
              "      <td>1</td>\n",
              "    </tr>\n",
              "    <tr>\n",
              "      <th>1</th>\n",
              "      <td>1</td>\n",
              "      <td>3</td>\n",
              "      <td>1</td>\n",
              "      <td>1</td>\n",
              "      <td>2</td>\n",
              "      <td>1</td>\n",
              "      <td>3</td>\n",
              "      <td>3</td>\n",
              "      <td>3</td>\n",
              "      <td>1</td>\n",
              "      <td>1</td>\n",
              "    </tr>\n",
              "    <tr>\n",
              "      <th>2</th>\n",
              "      <td>4</td>\n",
              "      <td>5</td>\n",
              "      <td>4</td>\n",
              "      <td>1</td>\n",
              "      <td>3</td>\n",
              "      <td>1</td>\n",
              "      <td>1</td>\n",
              "      <td>3</td>\n",
              "      <td>3</td>\n",
              "      <td>2</td>\n",
              "      <td>1</td>\n",
              "    </tr>\n",
              "    <tr>\n",
              "      <th>3</th>\n",
              "      <td>4</td>\n",
              "      <td>3</td>\n",
              "      <td>1</td>\n",
              "      <td>1</td>\n",
              "      <td>3</td>\n",
              "      <td>1</td>\n",
              "      <td>2</td>\n",
              "      <td>1</td>\n",
              "      <td>3</td>\n",
              "      <td>2</td>\n",
              "      <td>1</td>\n",
              "    </tr>\n",
              "    <tr>\n",
              "      <th>4</th>\n",
              "      <td>1</td>\n",
              "      <td>3</td>\n",
              "      <td>1</td>\n",
              "      <td>2</td>\n",
              "      <td>4</td>\n",
              "      <td>1</td>\n",
              "      <td>3</td>\n",
              "      <td>3</td>\n",
              "      <td>3</td>\n",
              "      <td>2</td>\n",
              "      <td>1</td>\n",
              "    </tr>\n",
              "    <tr>\n",
              "      <th>...</th>\n",
              "      <td>...</td>\n",
              "      <td>...</td>\n",
              "      <td>...</td>\n",
              "      <td>...</td>\n",
              "      <td>...</td>\n",
              "      <td>...</td>\n",
              "      <td>...</td>\n",
              "      <td>...</td>\n",
              "      <td>...</td>\n",
              "      <td>...</td>\n",
              "      <td>...</td>\n",
              "    </tr>\n",
              "    <tr>\n",
              "      <th>695</th>\n",
              "      <td>2</td>\n",
              "      <td>5</td>\n",
              "      <td>4</td>\n",
              "      <td>1</td>\n",
              "      <td>5</td>\n",
              "      <td>1</td>\n",
              "      <td>2</td>\n",
              "      <td>2</td>\n",
              "      <td>3</td>\n",
              "      <td>2</td>\n",
              "      <td>1</td>\n",
              "    </tr>\n",
              "    <tr>\n",
              "      <th>696</th>\n",
              "      <td>4</td>\n",
              "      <td>5</td>\n",
              "      <td>7</td>\n",
              "      <td>5</td>\n",
              "      <td>2</td>\n",
              "      <td>1</td>\n",
              "      <td>1</td>\n",
              "      <td>2</td>\n",
              "      <td>3</td>\n",
              "      <td>2</td>\n",
              "      <td>1</td>\n",
              "    </tr>\n",
              "    <tr>\n",
              "      <th>697</th>\n",
              "      <td>1</td>\n",
              "      <td>3</td>\n",
              "      <td>3</td>\n",
              "      <td>1</td>\n",
              "      <td>1</td>\n",
              "      <td>1</td>\n",
              "      <td>3</td>\n",
              "      <td>2</td>\n",
              "      <td>3</td>\n",
              "      <td>2</td>\n",
              "      <td>1</td>\n",
              "    </tr>\n",
              "    <tr>\n",
              "      <th>698</th>\n",
              "      <td>4</td>\n",
              "      <td>3</td>\n",
              "      <td>4</td>\n",
              "      <td>1</td>\n",
              "      <td>5</td>\n",
              "      <td>1</td>\n",
              "      <td>4</td>\n",
              "      <td>3</td>\n",
              "      <td>3</td>\n",
              "      <td>2</td>\n",
              "      <td>1</td>\n",
              "    </tr>\n",
              "    <tr>\n",
              "      <th>699</th>\n",
              "      <td>1</td>\n",
              "      <td>3</td>\n",
              "      <td>4</td>\n",
              "      <td>1</td>\n",
              "      <td>3</td>\n",
              "      <td>1</td>\n",
              "      <td>4</td>\n",
              "      <td>4</td>\n",
              "      <td>3</td>\n",
              "      <td>3</td>\n",
              "      <td>1</td>\n",
              "    </tr>\n",
              "  </tbody>\n",
              "</table>\n",
              "<p>700 rows × 11 columns</p>\n",
              "</div>"
            ],
            "text/plain": [
              "     checking  history  purpose  savings  ...  property  other  housing  foreign\n",
              "0           2        5        3        1  ...         3      3        1        1\n",
              "1           1        3        1        1  ...         3      3        1        1\n",
              "2           4        5        4        1  ...         3      3        2        1\n",
              "3           4        3        1        1  ...         1      3        2        1\n",
              "4           1        3        1        2  ...         3      3        2        1\n",
              "..        ...      ...      ...      ...  ...       ...    ...      ...      ...\n",
              "695         2        5        4        1  ...         2      3        2        1\n",
              "696         4        5        7        5  ...         2      3        2        1\n",
              "697         1        3        3        1  ...         2      3        2        1\n",
              "698         4        3        4        1  ...         3      3        2        1\n",
              "699         1        3        4        1  ...         4      3        3        1\n",
              "\n",
              "[700 rows x 11 columns]"
            ]
          },
          "metadata": {
            "tags": []
          },
          "execution_count": 479
        }
      ]
    },
    {
      "cell_type": "code",
      "metadata": {
        "colab": {
          "base_uri": "https://localhost:8080/"
        },
        "id": "o9GCrwS7Br1L",
        "outputId": "7e16618c-853f-45d1-cfa0-5dd3bdc9a140"
      },
      "source": [
        "model1 = sm.Logit(y_train, x_train)\r\n",
        "results = model1.fit(method = \"newton\")"
      ],
      "execution_count": null,
      "outputs": [
        {
          "output_type": "stream",
          "text": [
            "Optimization terminated successfully.\n",
            "         Current function value: 0.603448\n",
            "         Iterations 5\n"
          ],
          "name": "stdout"
        }
      ]
    },
    {
      "cell_type": "code",
      "metadata": {
        "colab": {
          "base_uri": "https://localhost:8080/",
          "height": 368
        },
        "id": "0RVH1zPCDurO",
        "outputId": "d62d2071-ae88-443b-8b5e-1b150cbbefef"
      },
      "source": [
        "results.summary()"
      ],
      "execution_count": null,
      "outputs": [
        {
          "output_type": "execute_result",
          "data": {
            "text/html": [
              "<table class=\"simpletable\">\n",
              "<caption>Logit Regression Results</caption>\n",
              "<tr>\n",
              "  <th>Dep. Variable:</th>        <td>goodbad</td>     <th>  No. Observations:  </th>  <td>   700</td> \n",
              "</tr>\n",
              "<tr>\n",
              "  <th>Model:</th>                 <td>Logit</td>      <th>  Df Residuals:      </th>  <td>   689</td> \n",
              "</tr>\n",
              "<tr>\n",
              "  <th>Method:</th>                 <td>MLE</td>       <th>  Df Model:          </th>  <td>    10</td> \n",
              "</tr>\n",
              "<tr>\n",
              "  <th>Date:</th>            <td>Fri, 05 Mar 2021</td> <th>  Pseudo R-squ.:     </th> <td>0.006162</td>\n",
              "</tr>\n",
              "<tr>\n",
              "  <th>Time:</th>                <td>13:08:54</td>     <th>  Log-Likelihood:    </th> <td> -422.41</td>\n",
              "</tr>\n",
              "<tr>\n",
              "  <th>converged:</th>             <td>True</td>       <th>  LL-Null:           </th> <td> -425.03</td>\n",
              "</tr>\n",
              "<tr>\n",
              "  <th>Covariance Type:</th>     <td>nonrobust</td>    <th>  LLR p-value:       </th>  <td>0.8747</td> \n",
              "</tr>\n",
              "</table>\n",
              "<table class=\"simpletable\">\n",
              "<tr>\n",
              "      <td></td>        <th>coef</th>     <th>std err</th>      <th>z</th>      <th>P>|z|</th>  <th>[0.025</th>    <th>0.975]</th>  \n",
              "</tr>\n",
              "<tr>\n",
              "  <th>checking</th> <td>    0.0321</td> <td>    0.069</td> <td>    0.467</td> <td> 0.640</td> <td>   -0.103</td> <td>    0.167</td>\n",
              "</tr>\n",
              "<tr>\n",
              "  <th>history</th>  <td>    0.0631</td> <td>    0.081</td> <td>    0.779</td> <td> 0.436</td> <td>   -0.096</td> <td>    0.222</td>\n",
              "</tr>\n",
              "<tr>\n",
              "  <th>purpose</th>  <td>   -0.0463</td> <td>    0.033</td> <td>   -1.391</td> <td> 0.164</td> <td>   -0.112</td> <td>    0.019</td>\n",
              "</tr>\n",
              "<tr>\n",
              "  <th>savings</th>  <td>    0.0458</td> <td>    0.055</td> <td>    0.836</td> <td> 0.403</td> <td>   -0.062</td> <td>    0.153</td>\n",
              "</tr>\n",
              "<tr>\n",
              "  <th>employed</th> <td>   -0.0506</td> <td>    0.073</td> <td>   -0.697</td> <td> 0.486</td> <td>   -0.193</td> <td>    0.092</td>\n",
              "</tr>\n",
              "<tr>\n",
              "  <th>coapp</th>    <td>    0.0212</td> <td>    0.181</td> <td>    0.117</td> <td> 0.907</td> <td>   -0.334</td> <td>    0.377</td>\n",
              "</tr>\n",
              "<tr>\n",
              "  <th>resident</th> <td>   -0.1175</td> <td>    0.079</td> <td>   -1.496</td> <td> 0.135</td> <td>   -0.271</td> <td>    0.036</td>\n",
              "</tr>\n",
              "<tr>\n",
              "  <th>property</th> <td>   -0.0096</td> <td>    0.085</td> <td>   -0.113</td> <td> 0.910</td> <td>   -0.176</td> <td>    0.157</td>\n",
              "</tr>\n",
              "<tr>\n",
              "  <th>other</th>    <td>   -0.1614</td> <td>    0.107</td> <td>   -1.505</td> <td> 0.132</td> <td>   -0.372</td> <td>    0.049</td>\n",
              "</tr>\n",
              "<tr>\n",
              "  <th>housing</th>  <td>    0.1442</td> <td>    0.159</td> <td>    0.905</td> <td> 0.366</td> <td>   -0.168</td> <td>    0.457</td>\n",
              "</tr>\n",
              "<tr>\n",
              "  <th>foreign</th>  <td>   -0.4260</td> <td>    0.378</td> <td>   -1.128</td> <td> 0.259</td> <td>   -1.166</td> <td>    0.314</td>\n",
              "</tr>\n",
              "</table>"
            ],
            "text/plain": [
              "<class 'statsmodels.iolib.summary.Summary'>\n",
              "\"\"\"\n",
              "                           Logit Regression Results                           \n",
              "==============================================================================\n",
              "Dep. Variable:                goodbad   No. Observations:                  700\n",
              "Model:                          Logit   Df Residuals:                      689\n",
              "Method:                           MLE   Df Model:                           10\n",
              "Date:                Fri, 05 Mar 2021   Pseudo R-squ.:                0.006162\n",
              "Time:                        13:08:54   Log-Likelihood:                -422.41\n",
              "converged:                       True   LL-Null:                       -425.03\n",
              "Covariance Type:            nonrobust   LLR p-value:                    0.8747\n",
              "==============================================================================\n",
              "                 coef    std err          z      P>|z|      [0.025      0.975]\n",
              "------------------------------------------------------------------------------\n",
              "checking       0.0321      0.069      0.467      0.640      -0.103       0.167\n",
              "history        0.0631      0.081      0.779      0.436      -0.096       0.222\n",
              "purpose       -0.0463      0.033     -1.391      0.164      -0.112       0.019\n",
              "savings        0.0458      0.055      0.836      0.403      -0.062       0.153\n",
              "employed      -0.0506      0.073     -0.697      0.486      -0.193       0.092\n",
              "coapp          0.0212      0.181      0.117      0.907      -0.334       0.377\n",
              "resident      -0.1175      0.079     -1.496      0.135      -0.271       0.036\n",
              "property      -0.0096      0.085     -0.113      0.910      -0.176       0.157\n",
              "other         -0.1614      0.107     -1.505      0.132      -0.372       0.049\n",
              "housing        0.1442      0.159      0.905      0.366      -0.168       0.457\n",
              "foreign       -0.4260      0.378     -1.128      0.259      -1.166       0.314\n",
              "==============================================================================\n",
              "\"\"\""
            ]
          },
          "metadata": {
            "tags": []
          },
          "execution_count": 376
        }
      ]
    },
    {
      "cell_type": "code",
      "metadata": {
        "colab": {
          "base_uri": "https://localhost:8080/"
        },
        "id": "fTu6OqttDxVv",
        "outputId": "60acb9ca-a1b8-4e58-db81-f10d3479f144"
      },
      "source": [
        "results.params"
      ],
      "execution_count": null,
      "outputs": [
        {
          "output_type": "execute_result",
          "data": {
            "text/plain": [
              "checking    0.032095\n",
              "history     0.063095\n",
              "purpose    -0.046329\n",
              "savings     0.045820\n",
              "employed   -0.050598\n",
              "coapp       0.021175\n",
              "resident   -0.117454\n",
              "property   -0.009630\n",
              "other      -0.161443\n",
              "housing     0.144224\n",
              "foreign    -0.426014\n",
              "dtype: float64"
            ]
          },
          "metadata": {
            "tags": []
          },
          "execution_count": 377
        }
      ]
    },
    {
      "cell_type": "code",
      "metadata": {
        "colab": {
          "base_uri": "https://localhost:8080/"
        },
        "id": "U5dpqnT-Dylm",
        "outputId": "dcc78b05-0d75-4101-8166-4f87a56b0bdf"
      },
      "source": [
        "np.exp(results.params)"
      ],
      "execution_count": null,
      "outputs": [
        {
          "output_type": "execute_result",
          "data": {
            "text/plain": [
              "checking    1.032616\n",
              "history     1.065128\n",
              "purpose     0.954727\n",
              "savings     1.046886\n",
              "employed    0.950661\n",
              "coapp       1.021401\n",
              "resident    0.889182\n",
              "property    0.990416\n",
              "other       0.850915\n",
              "housing     1.155143\n",
              "foreign     0.653107\n",
              "dtype: float64"
            ]
          },
          "metadata": {
            "tags": []
          },
          "execution_count": 378
        }
      ]
    },
    {
      "cell_type": "code",
      "metadata": {
        "colab": {
          "base_uri": "https://localhost:8080/"
        },
        "id": "-3QnuSUVD4qe",
        "outputId": "45d03365-e2d6-471a-9920-2937d1f328f5"
      },
      "source": [
        "pred_y = results.predict(x_test)\r\n",
        "pred_y"
      ],
      "execution_count": null,
      "outputs": [
        {
          "output_type": "execute_result",
          "data": {
            "text/plain": [
              "0      0.345806\n",
              "1      0.254334\n",
              "2      0.246892\n",
              "3      0.307122\n",
              "4      0.226162\n",
              "         ...   \n",
              "295    0.248634\n",
              "296    0.340915\n",
              "297    0.259884\n",
              "298    0.371727\n",
              "299    0.287660\n",
              "Length: 300, dtype: float64"
            ]
          },
          "metadata": {
            "tags": []
          },
          "execution_count": 379
        }
      ]
    },
    {
      "cell_type": "code",
      "metadata": {
        "colab": {
          "base_uri": "https://localhost:8080/"
        },
        "id": "hXwhTiXyEBQK",
        "outputId": "d56d3efc-ab01-4787-859d-81f01f5a89eb"
      },
      "source": [
        "# 임계값 함수\r\n",
        "\r\n",
        "def cut_off(y, threshold) :\r\n",
        "    Y = y.copy()  # 대문자 Y를 새로운 변수로 하여 기존의 y값에 영향이 가지 않도록 한다.\r\n",
        "    Y[Y>threshold] = 1\r\n",
        "    Y[Y<threshold] = 0\r\n",
        "    return Y.astype(int)\r\n",
        "    \r\n",
        "pred_y1 = cut_off(pred_y, 0.5)\r\n",
        "pred_y1"
      ],
      "execution_count": null,
      "outputs": [
        {
          "output_type": "execute_result",
          "data": {
            "text/plain": [
              "0      0\n",
              "1      0\n",
              "2      0\n",
              "3      0\n",
              "4      0\n",
              "      ..\n",
              "295    0\n",
              "296    0\n",
              "297    0\n",
              "298    0\n",
              "299    0\n",
              "Length: 300, dtype: int64"
            ]
          },
          "metadata": {
            "tags": []
          },
          "execution_count": 380
        }
      ]
    },
    {
      "cell_type": "code",
      "metadata": {
        "colab": {
          "base_uri": "https://localhost:8080/"
        },
        "id": "zywUKU1rFDHc",
        "outputId": "88f6ff9f-1787-49ef-b0ff-c0aa8343353d"
      },
      "source": [
        "# confusion matrix (분류 표를 나타낸 행렬)\r\n",
        "\r\n",
        "cfmat = confusion_matrix(y_test, pred_y1)\r\n",
        "print(cfmat)"
      ],
      "execution_count": null,
      "outputs": [
        {
          "output_type": "stream",
          "text": [
            "[[207   0]\n",
            " [ 93   0]]\n"
          ],
          "name": "stdout"
        }
      ]
    },
    {
      "cell_type": "code",
      "metadata": {
        "colab": {
          "base_uri": "https://localhost:8080/"
        },
        "id": "kprW31wmE_p8",
        "outputId": "af389fe1-2787-4bd5-890a-41711ce01236"
      },
      "source": [
        "# confusion matrix accuracy(정확도) 계산함수\r\n",
        "\r\n",
        "def acc(cfmat):\r\n",
        "\treturn (cfmat[0,0] + cfmat[1,1])/(cfmat[0,0] + cfmat[1,1] + cfmat[0,1] + cfmat[1,0])\r\n",
        "acc(cfmat)"
      ],
      "execution_count": null,
      "outputs": [
        {
          "output_type": "execute_result",
          "data": {
            "text/plain": [
              "0.69"
            ]
          },
          "metadata": {
            "tags": []
          },
          "execution_count": 382
        }
      ]
    },
    {
      "cell_type": "code",
      "metadata": {
        "colab": {
          "base_uri": "https://localhost:8080/",
          "height": 363
        },
        "id": "8zKswDA6_2Hu",
        "outputId": "44923a90-d58d-47b8-8c89-6c9b5f6ed39a"
      },
      "source": [
        "# 임계값 0~1에 따른 정확도 확인\r\n",
        "\r\n",
        "threshold = np.arange(0,1,0.1)\r\n",
        "table = pd.DataFrame(columns = ['ACC'])\r\n",
        "for i in threshold :\r\n",
        "\tpred_Y = cut_off(y_pred,i)\r\n",
        "\tcfmat = confusion_matrix(y_test,pred_y1)\r\n",
        "\ttable.loc[i] = acc(cfmat)\r\n",
        "table.index.name = \"threshold\"\r\n",
        "table.columns.name = \"performance\"\r\n",
        "table"
      ],
      "execution_count": null,
      "outputs": [
        {
          "output_type": "execute_result",
          "data": {
            "text/html": [
              "<div>\n",
              "<style scoped>\n",
              "    .dataframe tbody tr th:only-of-type {\n",
              "        vertical-align: middle;\n",
              "    }\n",
              "\n",
              "    .dataframe tbody tr th {\n",
              "        vertical-align: top;\n",
              "    }\n",
              "\n",
              "    .dataframe thead th {\n",
              "        text-align: right;\n",
              "    }\n",
              "</style>\n",
              "<table border=\"1\" class=\"dataframe\">\n",
              "  <thead>\n",
              "    <tr style=\"text-align: right;\">\n",
              "      <th>performance</th>\n",
              "      <th>ACC</th>\n",
              "    </tr>\n",
              "    <tr>\n",
              "      <th>threshold</th>\n",
              "      <th></th>\n",
              "    </tr>\n",
              "  </thead>\n",
              "  <tbody>\n",
              "    <tr>\n",
              "      <th>0.0</th>\n",
              "      <td>0.69</td>\n",
              "    </tr>\n",
              "    <tr>\n",
              "      <th>0.1</th>\n",
              "      <td>0.69</td>\n",
              "    </tr>\n",
              "    <tr>\n",
              "      <th>0.2</th>\n",
              "      <td>0.69</td>\n",
              "    </tr>\n",
              "    <tr>\n",
              "      <th>0.3</th>\n",
              "      <td>0.69</td>\n",
              "    </tr>\n",
              "    <tr>\n",
              "      <th>0.4</th>\n",
              "      <td>0.69</td>\n",
              "    </tr>\n",
              "    <tr>\n",
              "      <th>0.5</th>\n",
              "      <td>0.69</td>\n",
              "    </tr>\n",
              "    <tr>\n",
              "      <th>0.6</th>\n",
              "      <td>0.69</td>\n",
              "    </tr>\n",
              "    <tr>\n",
              "      <th>0.7</th>\n",
              "      <td>0.69</td>\n",
              "    </tr>\n",
              "    <tr>\n",
              "      <th>0.8</th>\n",
              "      <td>0.69</td>\n",
              "    </tr>\n",
              "    <tr>\n",
              "      <th>0.9</th>\n",
              "      <td>0.69</td>\n",
              "    </tr>\n",
              "  </tbody>\n",
              "</table>\n",
              "</div>"
            ],
            "text/plain": [
              "performance   ACC\n",
              "threshold        \n",
              "0.0          0.69\n",
              "0.1          0.69\n",
              "0.2          0.69\n",
              "0.3          0.69\n",
              "0.4          0.69\n",
              "0.5          0.69\n",
              "0.6          0.69\n",
              "0.7          0.69\n",
              "0.8          0.69\n",
              "0.9          0.69"
            ]
          },
          "metadata": {
            "tags": []
          },
          "execution_count": 383
        }
      ]
    },
    {
      "cell_type": "code",
      "metadata": {
        "colab": {
          "base_uri": "https://localhost:8080/",
          "height": 280
        },
        "id": "9YV83zMJFLJ6",
        "outputId": "81e4078e-4bfe-4612-8a85-bf10c78e7359"
      },
      "source": [
        "# sklearn에서 ROC 패키지 활용\r\n",
        "fpr, tpr, thresholds = metrics.roc_curve(y_test,pred_y,pos_label = 1)\r\n",
        "\r\n",
        "# ROC curve\r\n",
        "plt.plot(fpr,tpr)\r\n",
        "\r\n",
        "# AUC\r\n",
        "auc = np.trapz(tpr,fpr)\r\n",
        "print(\"AUC:\",auc)"
      ],
      "execution_count": null,
      "outputs": [
        {
          "output_type": "stream",
          "text": [
            "AUC: 0.4696119682094437\n"
          ],
          "name": "stdout"
        },
        {
          "output_type": "display_data",
          "data": {
            "image/png": "[encoded data removed]",
            "text/plain": [
              "<Figure size 432x288 with 1 Axes>"
            ]
          },
          "metadata": {
            "tags": [],
            "image/png": {
              "width": 369,
              "height": 246
            },
            "needs_background": "light"
          }
        }
      ]
    },
    {
      "cell_type": "markdown",
      "metadata": {
        "id": "aDEM5EdYajyd"
      },
      "source": [
        "##케라스"
      ]
    },
    {
      "cell_type": "code",
      "metadata": {
        "id": "jHTO1wmTcc5R"
      },
      "source": [
        "from sklearn.preprocessing import LabelEncoder\r\n",
        "from keras.models import Sequential\r\n",
        "from keras import regularizers\r\n",
        "from keras import optimizers\r\n",
        "from keras.layers import Dense, Dropout\r\n",
        "from pandas.api.types import is_string_dtype\r\n",
        "import tensorflow as tf"
      ],
      "execution_count": null,
      "outputs": []
    },
    {
      "cell_type": "code",
      "metadata": {
        "id": "XNXnw_f_w2uq"
      },
      "source": [
        "#원핫인코딩_train_df\r\n",
        "dataset = train_df.values\r\n",
        "X = dataset[:,:18].astype('float')  #df 에서 goodbad 제외\r\n",
        "y_obj = dataset[:,-1]   #target \r\n",
        "\r\n",
        "e=LabelEncoder()\r\n",
        "e.fit(y_obj)\r\n",
        "y=e.transform(y_obj)\r\n",
        "y_encoded=tf.keras.utils.to_categorical(y)\r\n",
        "y_encoded[:18]\r\n",
        "\r\n",
        "\r\n",
        "\r\n",
        "#원핫인코딩_test_df\r\n",
        "dataset1 = test_df.values\r\n",
        "test_X = dataset1[:,:18].astype('float')  #df 에서 goodbad 제외\r\n",
        "y_obj1 = dataset1[:,-1]   #target \r\n",
        "\r\n",
        "e1=LabelEncoder()\r\n",
        "e1.fit(y_obj1)\r\n",
        "y1=e1.transform(y_obj1)\r\n",
        "test_Y=tf.keras.utils.to_categorical(y1)\r\n",
        "y1_encoded[:18]"
      ],
      "execution_count": null,
      "outputs": []
    },
    {
      "cell_type": "code",
      "metadata": {
        "id": "W4bNkvIcykQ_"
      },
      "source": [
        "train_X, val_X, train_Y, val_Y = train_test_split(X, y_encoded, test_size=0.8, random_state=0)"
      ],
      "execution_count": null,
      "outputs": []
    },
    {
      "cell_type": "code",
      "metadata": {
        "id": "cY-9vEmKu56e"
      },
      "source": [
        "model = Sequential()\r\n",
        "\r\n",
        "# 옵티마이저는 경사하강법 sgd를 사용\r\n",
        "sgd = optimizers.SGD(lr=0.03, decay=0, momentum=0.9, nesterov=False)\r\n",
        "model.add(Dense(18, input_dim=train_X.shape[1], activation='relu'))\r\n",
        "model.add(Dense(8, activation='relu'))\r\n",
        "model.add(Dense(2, activation='sigmoid'))\r\n",
        "model.compile(loss='binary_crossentropy',\r\n",
        "              optimizer='sgd',\r\n",
        "              metrics=['accuracy','mae', 'mse'])"
      ],
      "execution_count": null,
      "outputs": []
    },
    {
      "cell_type": "code",
      "metadata": {
        "colab": {
          "base_uri": "https://localhost:8080/"
        },
        "id": "iF6rxc_s1QAi",
        "outputId": "cf279035-45c2-4422-e94e-78f9b0398d95"
      },
      "source": [
        "history=model.fit(train_X, train_Y, validation_data=(val_X, val_Y), epochs=100, batch_size=100)"
      ],
      "execution_count": null,
      "outputs": [
        {
          "output_type": "stream",
          "text": [
            "Epoch 1/100\n",
            "2/2 [==============================] - 0s 133ms/step - loss: 0.5920 - accuracy: 0.7000 - mae: 0.4047 - mse: 0.2022 - val_loss: 0.6206 - val_accuracy: 0.7018 - val_mae: 0.4154 - val_mse: 0.2136\n",
            "Epoch 2/100\n",
            "2/2 [==============================] - 0s 63ms/step - loss: 0.5919 - accuracy: 0.7000 - mae: 0.4046 - mse: 0.2022 - val_loss: 0.6206 - val_accuracy: 0.7018 - val_mae: 0.4152 - val_mse: 0.2136\n",
            "Epoch 3/100\n",
            "2/2 [==============================] - 0s 69ms/step - loss: 0.5918 - accuracy: 0.7000 - mae: 0.4043 - mse: 0.2021 - val_loss: 0.6206 - val_accuracy: 0.7018 - val_mae: 0.4153 - val_mse: 0.2136\n",
            "Epoch 4/100\n",
            "2/2 [==============================] - 0s 69ms/step - loss: 0.5917 - accuracy: 0.7000 - mae: 0.4045 - mse: 0.2021 - val_loss: 0.6206 - val_accuracy: 0.7018 - val_mae: 0.4151 - val_mse: 0.2135\n",
            "Epoch 5/100\n",
            "2/2 [==============================] - 0s 65ms/step - loss: 0.5918 - accuracy: 0.7000 - mae: 0.4040 - mse: 0.2022 - val_loss: 0.6204 - val_accuracy: 0.7018 - val_mae: 0.4164 - val_mse: 0.2135\n",
            "Epoch 6/100\n",
            "2/2 [==============================] - 0s 64ms/step - loss: 0.5913 - accuracy: 0.7000 - mae: 0.4053 - mse: 0.2020 - val_loss: 0.6203 - val_accuracy: 0.7018 - val_mae: 0.4166 - val_mse: 0.2135\n",
            "Epoch 7/100\n",
            "2/2 [==============================] - 0s 68ms/step - loss: 0.5913 - accuracy: 0.7000 - mae: 0.4057 - mse: 0.2020 - val_loss: 0.6204 - val_accuracy: 0.7018 - val_mae: 0.4158 - val_mse: 0.2135\n",
            "Epoch 8/100\n",
            "2/2 [==============================] - 0s 71ms/step - loss: 0.5909 - accuracy: 0.7000 - mae: 0.4048 - mse: 0.2018 - val_loss: 0.6204 - val_accuracy: 0.7018 - val_mae: 0.4154 - val_mse: 0.2135\n",
            "Epoch 9/100\n",
            "2/2 [==============================] - 0s 69ms/step - loss: 0.5907 - accuracy: 0.7000 - mae: 0.4042 - mse: 0.2017 - val_loss: 0.6204 - val_accuracy: 0.7018 - val_mae: 0.4152 - val_mse: 0.2135\n",
            "Epoch 10/100\n",
            "2/2 [==============================] - 0s 65ms/step - loss: 0.5909 - accuracy: 0.7000 - mae: 0.4043 - mse: 0.2018 - val_loss: 0.6205 - val_accuracy: 0.7018 - val_mae: 0.4142 - val_mse: 0.2135\n",
            "Epoch 11/100\n",
            "2/2 [==============================] - 0s 64ms/step - loss: 0.5904 - accuracy: 0.7000 - mae: 0.4028 - mse: 0.2016 - val_loss: 0.6204 - val_accuracy: 0.7018 - val_mae: 0.4147 - val_mse: 0.2134\n",
            "Epoch 12/100\n",
            "2/2 [==============================] - 0s 61ms/step - loss: 0.5903 - accuracy: 0.7000 - mae: 0.4034 - mse: 0.2016 - val_loss: 0.6204 - val_accuracy: 0.7018 - val_mae: 0.4143 - val_mse: 0.2134\n",
            "Epoch 13/100\n",
            "2/2 [==============================] - 0s 65ms/step - loss: 0.5902 - accuracy: 0.7000 - mae: 0.4029 - mse: 0.2015 - val_loss: 0.6204 - val_accuracy: 0.7018 - val_mae: 0.4148 - val_mse: 0.2134\n",
            "Epoch 14/100\n",
            "2/2 [==============================] - 0s 65ms/step - loss: 0.5900 - accuracy: 0.7000 - mae: 0.4033 - mse: 0.2014 - val_loss: 0.6203 - val_accuracy: 0.7018 - val_mae: 0.4149 - val_mse: 0.2134\n",
            "Epoch 15/100\n",
            "2/2 [==============================] - 0s 65ms/step - loss: 0.5898 - accuracy: 0.7000 - mae: 0.4033 - mse: 0.2014 - val_loss: 0.6203 - val_accuracy: 0.7018 - val_mae: 0.4151 - val_mse: 0.2134\n",
            "Epoch 16/100\n",
            "2/2 [==============================] - 0s 62ms/step - loss: 0.5898 - accuracy: 0.7000 - mae: 0.4037 - mse: 0.2013 - val_loss: 0.6204 - val_accuracy: 0.7018 - val_mae: 0.4145 - val_mse: 0.2134\n",
            "Epoch 17/100\n",
            "2/2 [==============================] - 0s 77ms/step - loss: 0.5897 - accuracy: 0.7000 - mae: 0.4027 - mse: 0.2014 - val_loss: 0.6202 - val_accuracy: 0.7018 - val_mae: 0.4158 - val_mse: 0.2135\n",
            "Epoch 18/100\n",
            "2/2 [==============================] - 0s 67ms/step - loss: 0.5894 - accuracy: 0.7000 - mae: 0.4041 - mse: 0.2012 - val_loss: 0.6202 - val_accuracy: 0.7018 - val_mae: 0.4154 - val_mse: 0.2134\n",
            "Epoch 19/100\n",
            "2/2 [==============================] - 0s 72ms/step - loss: 0.5895 - accuracy: 0.7000 - mae: 0.4035 - mse: 0.2012 - val_loss: 0.6201 - val_accuracy: 0.7036 - val_mae: 0.4166 - val_mse: 0.2135\n",
            "Epoch 20/100\n",
            "2/2 [==============================] - 0s 70ms/step - loss: 0.5896 - accuracy: 0.7000 - mae: 0.4046 - mse: 0.2013 - val_loss: 0.6200 - val_accuracy: 0.7036 - val_mae: 0.4183 - val_mse: 0.2135\n",
            "Epoch 21/100\n",
            "2/2 [==============================] - 0s 64ms/step - loss: 0.5891 - accuracy: 0.7000 - mae: 0.4063 - mse: 0.2010 - val_loss: 0.6200 - val_accuracy: 0.7036 - val_mae: 0.4179 - val_mse: 0.2135\n",
            "Epoch 22/100\n",
            "2/2 [==============================] - 0s 61ms/step - loss: 0.5890 - accuracy: 0.7000 - mae: 0.4060 - mse: 0.2010 - val_loss: 0.6200 - val_accuracy: 0.7036 - val_mae: 0.4173 - val_mse: 0.2135\n",
            "Epoch 23/100\n",
            "2/2 [==============================] - 0s 68ms/step - loss: 0.5888 - accuracy: 0.7000 - mae: 0.4052 - mse: 0.2009 - val_loss: 0.6200 - val_accuracy: 0.7036 - val_mae: 0.4171 - val_mse: 0.2135\n",
            "Epoch 24/100\n",
            "2/2 [==============================] - 0s 68ms/step - loss: 0.5886 - accuracy: 0.7000 - mae: 0.4050 - mse: 0.2009 - val_loss: 0.6200 - val_accuracy: 0.7036 - val_mae: 0.4171 - val_mse: 0.2134\n",
            "Epoch 25/100\n",
            "2/2 [==============================] - 0s 63ms/step - loss: 0.5886 - accuracy: 0.7000 - mae: 0.4049 - mse: 0.2008 - val_loss: 0.6199 - val_accuracy: 0.7036 - val_mae: 0.4173 - val_mse: 0.2134\n",
            "Epoch 26/100\n",
            "2/2 [==============================] - 0s 64ms/step - loss: 0.5885 - accuracy: 0.7000 - mae: 0.4050 - mse: 0.2008 - val_loss: 0.6199 - val_accuracy: 0.7036 - val_mae: 0.4176 - val_mse: 0.2134\n",
            "Epoch 27/100\n",
            "2/2 [==============================] - 0s 67ms/step - loss: 0.5884 - accuracy: 0.7000 - mae: 0.4053 - mse: 0.2008 - val_loss: 0.6199 - val_accuracy: 0.7036 - val_mae: 0.4176 - val_mse: 0.2134\n",
            "Epoch 28/100\n",
            "2/2 [==============================] - 0s 64ms/step - loss: 0.5884 - accuracy: 0.7000 - mae: 0.4055 - mse: 0.2008 - val_loss: 0.6199 - val_accuracy: 0.7036 - val_mae: 0.4163 - val_mse: 0.2134\n",
            "Epoch 29/100\n",
            "2/2 [==============================] - 0s 63ms/step - loss: 0.5881 - accuracy: 0.7000 - mae: 0.4041 - mse: 0.2007 - val_loss: 0.6200 - val_accuracy: 0.7036 - val_mae: 0.4159 - val_mse: 0.2134\n",
            "Epoch 30/100\n",
            "2/2 [==============================] - 0s 76ms/step - loss: 0.5884 - accuracy: 0.7000 - mae: 0.4035 - mse: 0.2008 - val_loss: 0.6199 - val_accuracy: 0.7036 - val_mae: 0.4176 - val_mse: 0.2134\n",
            "Epoch 31/100\n",
            "2/2 [==============================] - 0s 76ms/step - loss: 0.5881 - accuracy: 0.7000 - mae: 0.4050 - mse: 0.2007 - val_loss: 0.6199 - val_accuracy: 0.7036 - val_mae: 0.4187 - val_mse: 0.2135\n",
            "Epoch 32/100\n",
            "2/2 [==============================] - 0s 68ms/step - loss: 0.5883 - accuracy: 0.7000 - mae: 0.4060 - mse: 0.2007 - val_loss: 0.6199 - val_accuracy: 0.7036 - val_mae: 0.4199 - val_mse: 0.2136\n",
            "Epoch 33/100\n",
            "2/2 [==============================] - 0s 70ms/step - loss: 0.5878 - accuracy: 0.7000 - mae: 0.4072 - mse: 0.2005 - val_loss: 0.6199 - val_accuracy: 0.7036 - val_mae: 0.4193 - val_mse: 0.2135\n",
            "Epoch 34/100\n",
            "2/2 [==============================] - 0s 67ms/step - loss: 0.5877 - accuracy: 0.7000 - mae: 0.4066 - mse: 0.2005 - val_loss: 0.6199 - val_accuracy: 0.7036 - val_mae: 0.4188 - val_mse: 0.2135\n",
            "Epoch 35/100\n",
            "2/2 [==============================] - 0s 63ms/step - loss: 0.5878 - accuracy: 0.7000 - mae: 0.4060 - mse: 0.2005 - val_loss: 0.6199 - val_accuracy: 0.7036 - val_mae: 0.4196 - val_mse: 0.2135\n",
            "Epoch 36/100\n",
            "2/2 [==============================] - 0s 62ms/step - loss: 0.5875 - accuracy: 0.7000 - mae: 0.4068 - mse: 0.2004 - val_loss: 0.6198 - val_accuracy: 0.7036 - val_mae: 0.4193 - val_mse: 0.2135\n",
            "Epoch 37/100\n",
            "2/2 [==============================] - 0s 67ms/step - loss: 0.5874 - accuracy: 0.7000 - mae: 0.4065 - mse: 0.2003 - val_loss: 0.6199 - val_accuracy: 0.7036 - val_mae: 0.4190 - val_mse: 0.2135\n",
            "Epoch 38/100\n",
            "2/2 [==============================] - 0s 63ms/step - loss: 0.5873 - accuracy: 0.7000 - mae: 0.4061 - mse: 0.2003 - val_loss: 0.6199 - val_accuracy: 0.7036 - val_mae: 0.4190 - val_mse: 0.2135\n",
            "Epoch 39/100\n",
            "2/2 [==============================] - 0s 64ms/step - loss: 0.5872 - accuracy: 0.7000 - mae: 0.4060 - mse: 0.2003 - val_loss: 0.6199 - val_accuracy: 0.7036 - val_mae: 0.4193 - val_mse: 0.2135\n",
            "Epoch 40/100\n",
            "2/2 [==============================] - 0s 71ms/step - loss: 0.5871 - accuracy: 0.7000 - mae: 0.4064 - mse: 0.2002 - val_loss: 0.6198 - val_accuracy: 0.7036 - val_mae: 0.4187 - val_mse: 0.2135\n",
            "Epoch 41/100\n",
            "2/2 [==============================] - 0s 72ms/step - loss: 0.5869 - accuracy: 0.7000 - mae: 0.4057 - mse: 0.2002 - val_loss: 0.6198 - val_accuracy: 0.7036 - val_mae: 0.4185 - val_mse: 0.2134\n",
            "Epoch 42/100\n",
            "2/2 [==============================] - 0s 69ms/step - loss: 0.5868 - accuracy: 0.7000 - mae: 0.4055 - mse: 0.2001 - val_loss: 0.6198 - val_accuracy: 0.7036 - val_mae: 0.4181 - val_mse: 0.2134\n",
            "Epoch 43/100\n",
            "2/2 [==============================] - 0s 66ms/step - loss: 0.5869 - accuracy: 0.7000 - mae: 0.4050 - mse: 0.2002 - val_loss: 0.6198 - val_accuracy: 0.7036 - val_mae: 0.4188 - val_mse: 0.2134\n",
            "Epoch 44/100\n",
            "2/2 [==============================] - 0s 78ms/step - loss: 0.5866 - accuracy: 0.7000 - mae: 0.4057 - mse: 0.2001 - val_loss: 0.6197 - val_accuracy: 0.7036 - val_mae: 0.4183 - val_mse: 0.2134\n",
            "Epoch 45/100\n",
            "2/2 [==============================] - 0s 61ms/step - loss: 0.5865 - accuracy: 0.7000 - mae: 0.4052 - mse: 0.2000 - val_loss: 0.6198 - val_accuracy: 0.7036 - val_mae: 0.4176 - val_mse: 0.2134\n",
            "Epoch 46/100\n",
            "2/2 [==============================] - 0s 59ms/step - loss: 0.5864 - accuracy: 0.7000 - mae: 0.4046 - mse: 0.2000 - val_loss: 0.6198 - val_accuracy: 0.7036 - val_mae: 0.4169 - val_mse: 0.2134\n",
            "Epoch 47/100\n",
            "2/2 [==============================] - 0s 65ms/step - loss: 0.5863 - accuracy: 0.7000 - mae: 0.4039 - mse: 0.2000 - val_loss: 0.6199 - val_accuracy: 0.7036 - val_mae: 0.4162 - val_mse: 0.2134\n",
            "Epoch 48/100\n",
            "2/2 [==============================] - 0s 64ms/step - loss: 0.5861 - accuracy: 0.7000 - mae: 0.4030 - mse: 0.1999 - val_loss: 0.6199 - val_accuracy: 0.7036 - val_mae: 0.4164 - val_mse: 0.2134\n",
            "Epoch 49/100\n",
            "2/2 [==============================] - 0s 62ms/step - loss: 0.5860 - accuracy: 0.7000 - mae: 0.4032 - mse: 0.1998 - val_loss: 0.6199 - val_accuracy: 0.7036 - val_mae: 0.4164 - val_mse: 0.2134\n",
            "Epoch 50/100\n",
            "2/2 [==============================] - 0s 64ms/step - loss: 0.5860 - accuracy: 0.7000 - mae: 0.4032 - mse: 0.1998 - val_loss: 0.6200 - val_accuracy: 0.7036 - val_mae: 0.4160 - val_mse: 0.2134\n",
            "Epoch 51/100\n",
            "2/2 [==============================] - 0s 65ms/step - loss: 0.5858 - accuracy: 0.7000 - mae: 0.4026 - mse: 0.1998 - val_loss: 0.6200 - val_accuracy: 0.7036 - val_mae: 0.4163 - val_mse: 0.2134\n",
            "Epoch 52/100\n",
            "2/2 [==============================] - 0s 61ms/step - loss: 0.5857 - accuracy: 0.7000 - mae: 0.4029 - mse: 0.1997 - val_loss: 0.6199 - val_accuracy: 0.7036 - val_mae: 0.4166 - val_mse: 0.2134\n",
            "Epoch 53/100\n",
            "2/2 [==============================] - 0s 63ms/step - loss: 0.5857 - accuracy: 0.7000 - mae: 0.4034 - mse: 0.1997 - val_loss: 0.6200 - val_accuracy: 0.7036 - val_mae: 0.4158 - val_mse: 0.2134\n",
            "Epoch 54/100\n",
            "2/2 [==============================] - 0s 75ms/step - loss: 0.5857 - accuracy: 0.7000 - mae: 0.4023 - mse: 0.1997 - val_loss: 0.6199 - val_accuracy: 0.7036 - val_mae: 0.4169 - val_mse: 0.2134\n",
            "Epoch 55/100\n",
            "2/2 [==============================] - 0s 68ms/step - loss: 0.5855 - accuracy: 0.7000 - mae: 0.4034 - mse: 0.1996 - val_loss: 0.6200 - val_accuracy: 0.7036 - val_mae: 0.4168 - val_mse: 0.2134\n",
            "Epoch 56/100\n",
            "2/2 [==============================] - 0s 60ms/step - loss: 0.5857 - accuracy: 0.7000 - mae: 0.4032 - mse: 0.1997 - val_loss: 0.6199 - val_accuracy: 0.7036 - val_mae: 0.4178 - val_mse: 0.2134\n",
            "Epoch 57/100\n",
            "2/2 [==============================] - 0s 72ms/step - loss: 0.5854 - accuracy: 0.7000 - mae: 0.4043 - mse: 0.1996 - val_loss: 0.6200 - val_accuracy: 0.7036 - val_mae: 0.4170 - val_mse: 0.2134\n",
            "Epoch 58/100\n",
            "2/2 [==============================] - 0s 66ms/step - loss: 0.5853 - accuracy: 0.7000 - mae: 0.4032 - mse: 0.1996 - val_loss: 0.6200 - val_accuracy: 0.7036 - val_mae: 0.4175 - val_mse: 0.2135\n",
            "Epoch 59/100\n",
            "2/2 [==============================] - 0s 61ms/step - loss: 0.5851 - accuracy: 0.7000 - mae: 0.4037 - mse: 0.1995 - val_loss: 0.6200 - val_accuracy: 0.7036 - val_mae: 0.4175 - val_mse: 0.2135\n",
            "Epoch 60/100\n",
            "2/2 [==============================] - 0s 66ms/step - loss: 0.5851 - accuracy: 0.7000 - mae: 0.4037 - mse: 0.1995 - val_loss: 0.6200 - val_accuracy: 0.7036 - val_mae: 0.4176 - val_mse: 0.2135\n",
            "Epoch 61/100\n",
            "2/2 [==============================] - 0s 67ms/step - loss: 0.5851 - accuracy: 0.7000 - mae: 0.4040 - mse: 0.1995 - val_loss: 0.6201 - val_accuracy: 0.7036 - val_mae: 0.4166 - val_mse: 0.2134\n",
            "Epoch 62/100\n",
            "2/2 [==============================] - 0s 64ms/step - loss: 0.5849 - accuracy: 0.7000 - mae: 0.4028 - mse: 0.1994 - val_loss: 0.6202 - val_accuracy: 0.7036 - val_mae: 0.4161 - val_mse: 0.2134\n",
            "Epoch 63/100\n",
            "2/2 [==============================] - 0s 66ms/step - loss: 0.5853 - accuracy: 0.7000 - mae: 0.4023 - mse: 0.1996 - val_loss: 0.6201 - val_accuracy: 0.7036 - val_mae: 0.4179 - val_mse: 0.2135\n",
            "Epoch 64/100\n",
            "2/2 [==============================] - 0s 65ms/step - loss: 0.5849 - accuracy: 0.7000 - mae: 0.4038 - mse: 0.1994 - val_loss: 0.6201 - val_accuracy: 0.7054 - val_mae: 0.4185 - val_mse: 0.2135\n",
            "Epoch 65/100\n",
            "2/2 [==============================] - 0s 67ms/step - loss: 0.5851 - accuracy: 0.7000 - mae: 0.4044 - mse: 0.1995 - val_loss: 0.6201 - val_accuracy: 0.7054 - val_mae: 0.4196 - val_mse: 0.2136\n",
            "Epoch 66/100\n",
            "2/2 [==============================] - 0s 65ms/step - loss: 0.5848 - accuracy: 0.7000 - mae: 0.4056 - mse: 0.1993 - val_loss: 0.6201 - val_accuracy: 0.7054 - val_mae: 0.4184 - val_mse: 0.2136\n",
            "Epoch 67/100\n",
            "2/2 [==============================] - 0s 62ms/step - loss: 0.5845 - accuracy: 0.7000 - mae: 0.4044 - mse: 0.1992 - val_loss: 0.6201 - val_accuracy: 0.7036 - val_mae: 0.4175 - val_mse: 0.2135\n",
            "Epoch 68/100\n",
            "2/2 [==============================] - 0s 64ms/step - loss: 0.5843 - accuracy: 0.7000 - mae: 0.4033 - mse: 0.1992 - val_loss: 0.6202 - val_accuracy: 0.7036 - val_mae: 0.4174 - val_mse: 0.2135\n",
            "Epoch 69/100\n",
            "2/2 [==============================] - 0s 64ms/step - loss: 0.5842 - accuracy: 0.7000 - mae: 0.4033 - mse: 0.1991 - val_loss: 0.6202 - val_accuracy: 0.7036 - val_mae: 0.4170 - val_mse: 0.2135\n",
            "Epoch 70/100\n",
            "2/2 [==============================] - 0s 69ms/step - loss: 0.5842 - accuracy: 0.7000 - mae: 0.4030 - mse: 0.1992 - val_loss: 0.6202 - val_accuracy: 0.7036 - val_mae: 0.4161 - val_mse: 0.2135\n",
            "Epoch 71/100\n",
            "2/2 [==============================] - 0s 70ms/step - loss: 0.5840 - accuracy: 0.7000 - mae: 0.4019 - mse: 0.1991 - val_loss: 0.6202 - val_accuracy: 0.7036 - val_mae: 0.4161 - val_mse: 0.2135\n",
            "Epoch 72/100\n",
            "2/2 [==============================] - 0s 61ms/step - loss: 0.5840 - accuracy: 0.7000 - mae: 0.4018 - mse: 0.1991 - val_loss: 0.6203 - val_accuracy: 0.7036 - val_mae: 0.4163 - val_mse: 0.2135\n",
            "Epoch 73/100\n",
            "2/2 [==============================] - 0s 64ms/step - loss: 0.5840 - accuracy: 0.7000 - mae: 0.4020 - mse: 0.1991 - val_loss: 0.6202 - val_accuracy: 0.7036 - val_mae: 0.4170 - val_mse: 0.2135\n",
            "Epoch 74/100\n",
            "2/2 [==============================] - 0s 63ms/step - loss: 0.5839 - accuracy: 0.7000 - mae: 0.4026 - mse: 0.1990 - val_loss: 0.6202 - val_accuracy: 0.7036 - val_mae: 0.4175 - val_mse: 0.2135\n",
            "Epoch 75/100\n",
            "2/2 [==============================] - 0s 61ms/step - loss: 0.5837 - accuracy: 0.7000 - mae: 0.4031 - mse: 0.1989 - val_loss: 0.6203 - val_accuracy: 0.7036 - val_mae: 0.4172 - val_mse: 0.2135\n",
            "Epoch 76/100\n",
            "2/2 [==============================] - 0s 60ms/step - loss: 0.5836 - accuracy: 0.7000 - mae: 0.4029 - mse: 0.1989 - val_loss: 0.6203 - val_accuracy: 0.7036 - val_mae: 0.4166 - val_mse: 0.2135\n",
            "Epoch 77/100\n",
            "2/2 [==============================] - 0s 68ms/step - loss: 0.5836 - accuracy: 0.7000 - mae: 0.4021 - mse: 0.1989 - val_loss: 0.6203 - val_accuracy: 0.7036 - val_mae: 0.4172 - val_mse: 0.2136\n",
            "Epoch 78/100\n",
            "2/2 [==============================] - 0s 66ms/step - loss: 0.5835 - accuracy: 0.7000 - mae: 0.4026 - mse: 0.1989 - val_loss: 0.6203 - val_accuracy: 0.7036 - val_mae: 0.4174 - val_mse: 0.2136\n",
            "Epoch 79/100\n",
            "2/2 [==============================] - 0s 64ms/step - loss: 0.5834 - accuracy: 0.7000 - mae: 0.4030 - mse: 0.1988 - val_loss: 0.6204 - val_accuracy: 0.7036 - val_mae: 0.4166 - val_mse: 0.2136\n",
            "Epoch 80/100\n",
            "2/2 [==============================] - 0s 58ms/step - loss: 0.5833 - accuracy: 0.7000 - mae: 0.4020 - mse: 0.1988 - val_loss: 0.6204 - val_accuracy: 0.7036 - val_mae: 0.4172 - val_mse: 0.2136\n",
            "Epoch 81/100\n",
            "2/2 [==============================] - 0s 65ms/step - loss: 0.5832 - accuracy: 0.7071 - mae: 0.4026 - mse: 0.1987 - val_loss: 0.6204 - val_accuracy: 0.7036 - val_mae: 0.4166 - val_mse: 0.2136\n",
            "Epoch 82/100\n",
            "2/2 [==============================] - 0s 62ms/step - loss: 0.5835 - accuracy: 0.7071 - mae: 0.4018 - mse: 0.1989 - val_loss: 0.6203 - val_accuracy: 0.7054 - val_mae: 0.4181 - val_mse: 0.2136\n",
            "Epoch 83/100\n",
            "2/2 [==============================] - 0s 60ms/step - loss: 0.5831 - accuracy: 0.7071 - mae: 0.4034 - mse: 0.1987 - val_loss: 0.6203 - val_accuracy: 0.7054 - val_mae: 0.4176 - val_mse: 0.2136\n",
            "Epoch 84/100\n",
            "2/2 [==============================] - 0s 66ms/step - loss: 0.5835 - accuracy: 0.7000 - mae: 0.4028 - mse: 0.1989 - val_loss: 0.6203 - val_accuracy: 0.7054 - val_mae: 0.4192 - val_mse: 0.2137\n",
            "Epoch 85/100\n",
            "2/2 [==============================] - 0s 79ms/step - loss: 0.5830 - accuracy: 0.7071 - mae: 0.4043 - mse: 0.1986 - val_loss: 0.6204 - val_accuracy: 0.7054 - val_mae: 0.4186 - val_mse: 0.2137\n",
            "Epoch 86/100\n",
            "2/2 [==============================] - 0s 62ms/step - loss: 0.5829 - accuracy: 0.7071 - mae: 0.4038 - mse: 0.1986 - val_loss: 0.6205 - val_accuracy: 0.7054 - val_mae: 0.4176 - val_mse: 0.2136\n",
            "Epoch 87/100\n",
            "2/2 [==============================] - 0s 65ms/step - loss: 0.5826 - accuracy: 0.7071 - mae: 0.4026 - mse: 0.1985 - val_loss: 0.6205 - val_accuracy: 0.7054 - val_mae: 0.4175 - val_mse: 0.2136\n",
            "Epoch 88/100\n",
            "2/2 [==============================] - 0s 68ms/step - loss: 0.5825 - accuracy: 0.7000 - mae: 0.4024 - mse: 0.1985 - val_loss: 0.6205 - val_accuracy: 0.7054 - val_mae: 0.4178 - val_mse: 0.2137\n",
            "Epoch 89/100\n",
            "2/2 [==============================] - 0s 67ms/step - loss: 0.5825 - accuracy: 0.7071 - mae: 0.4028 - mse: 0.1985 - val_loss: 0.6205 - val_accuracy: 0.7054 - val_mae: 0.4176 - val_mse: 0.2137\n",
            "Epoch 90/100\n",
            "2/2 [==============================] - 0s 66ms/step - loss: 0.5824 - accuracy: 0.7071 - mae: 0.4025 - mse: 0.1984 - val_loss: 0.6205 - val_accuracy: 0.7054 - val_mae: 0.4175 - val_mse: 0.2136\n",
            "Epoch 91/100\n",
            "2/2 [==============================] - 0s 73ms/step - loss: 0.5822 - accuracy: 0.7071 - mae: 0.4025 - mse: 0.1984 - val_loss: 0.6205 - val_accuracy: 0.7054 - val_mae: 0.4170 - val_mse: 0.2136\n",
            "Epoch 92/100\n",
            "2/2 [==============================] - 0s 61ms/step - loss: 0.5820 - accuracy: 0.7071 - mae: 0.4018 - mse: 0.1983 - val_loss: 0.6205 - val_accuracy: 0.7054 - val_mae: 0.4170 - val_mse: 0.2136\n",
            "Epoch 93/100\n",
            "2/2 [==============================] - 0s 63ms/step - loss: 0.5820 - accuracy: 0.7071 - mae: 0.4020 - mse: 0.1983 - val_loss: 0.6206 - val_accuracy: 0.7054 - val_mae: 0.4160 - val_mse: 0.2136\n",
            "Epoch 94/100\n",
            "2/2 [==============================] - 0s 73ms/step - loss: 0.5819 - accuracy: 0.7071 - mae: 0.4007 - mse: 0.1983 - val_loss: 0.6205 - val_accuracy: 0.7054 - val_mae: 0.4169 - val_mse: 0.2136\n",
            "Epoch 95/100\n",
            "2/2 [==============================] - 0s 63ms/step - loss: 0.5818 - accuracy: 0.7071 - mae: 0.4019 - mse: 0.1982 - val_loss: 0.6207 - val_accuracy: 0.7054 - val_mae: 0.4160 - val_mse: 0.2136\n",
            "Epoch 96/100\n",
            "2/2 [==============================] - 0s 66ms/step - loss: 0.5819 - accuracy: 0.7071 - mae: 0.4006 - mse: 0.1983 - val_loss: 0.6206 - val_accuracy: 0.7054 - val_mae: 0.4177 - val_mse: 0.2137\n",
            "Epoch 97/100\n",
            "2/2 [==============================] - 0s 67ms/step - loss: 0.5814 - accuracy: 0.7071 - mae: 0.4021 - mse: 0.1980 - val_loss: 0.6206 - val_accuracy: 0.7054 - val_mae: 0.4177 - val_mse: 0.2137\n",
            "Epoch 98/100\n",
            "2/2 [==============================] - 0s 67ms/step - loss: 0.5816 - accuracy: 0.7071 - mae: 0.4021 - mse: 0.1982 - val_loss: 0.6206 - val_accuracy: 0.7054 - val_mae: 0.4190 - val_mse: 0.2138\n",
            "Epoch 99/100\n",
            "2/2 [==============================] - 0s 61ms/step - loss: 0.5813 - accuracy: 0.7071 - mae: 0.4034 - mse: 0.1980 - val_loss: 0.6207 - val_accuracy: 0.7036 - val_mae: 0.4189 - val_mse: 0.2138\n",
            "Epoch 100/100\n",
            "2/2 [==============================] - 0s 71ms/step - loss: 0.5813 - accuracy: 0.7071 - mae: 0.4031 - mse: 0.1980 - val_loss: 0.6207 - val_accuracy: 0.7036 - val_mae: 0.4196 - val_mse: 0.2138\n"
          ],
          "name": "stdout"
        }
      ]
    },
    {
      "cell_type": "code",
      "metadata": {
        "colab": {
          "base_uri": "https://localhost:8080/"
        },
        "id": "OPpgAjIA1sBe",
        "outputId": "816c711e-5000-43db-c3ba-ef97e70bf1a5"
      },
      "source": [
        "print(\"정확도 결과는 : {} %\".format(np.round(model.evaluate(train_X, train_Y)[1],3)))"
      ],
      "execution_count": null,
      "outputs": [
        {
          "output_type": "stream",
          "text": [
            "5/5 [==============================] - 0s 2ms/step - loss: 0.5810 - accuracy: 0.7071 - mae: 0.4038 - mse: 0.1979\n",
            "정확도 결과는 : 0.707 %\n"
          ],
          "name": "stdout"
        }
      ]
    },
    {
      "cell_type": "code",
      "metadata": {
        "colab": {
          "base_uri": "https://localhost:8080/"
        },
        "id": "eJDOyp8q_w6X",
        "outputId": "b1ee2d17-ca7c-4dbc-aa0b-4e1b5c177765"
      },
      "source": [
        "Y_PRED = model.predict(test_X)\r\n",
        "score = model.evaluate(test_X, test_Y) "
      ],
      "execution_count": null,
      "outputs": [
        {
          "output_type": "stream",
          "text": [
            "10/10 [==============================] - 0s 2ms/step - loss: 0.6587 - accuracy: 0.6933 - mae: 0.4136 - mse: 0.2255\n"
          ],
          "name": "stdout"
        }
      ]
    },
    {
      "cell_type": "code",
      "metadata": {
        "colab": {
          "base_uri": "https://localhost:8080/",
          "height": 88
        },
        "id": "cw00bVDX5FqZ",
        "outputId": "0d630c90-aa67-43e6-b4b2-51cad45ea3de"
      },
      "source": [
        "print(\"정확도 결과는 : {} %\".format(np.round(model.evaluate(test_X, test_Y)[1],3)))\r\n",
        "score = pd.DataFrame(score, index = model.metrics_names).T\r\n",
        "history = pd.DataFrame(history.history)\r\n",
        "display(score.style.hide_index())"
      ],
      "execution_count": null,
      "outputs": [
        {
          "output_type": "stream",
          "text": [
            "10/10 [==============================] - 0s 2ms/step - loss: 0.6587 - accuracy: 0.6933 - mae: 0.4136 - mse: 0.2255\n",
            "정확도 결과는 : 0.693 %\n"
          ],
          "name": "stdout"
        },
        {
          "output_type": "display_data",
          "data": {
            "text/html": [
              "<style  type=\"text/css\" >\n",
              "</style><table id=\"T_6204269e_7dc9_11eb_b7fd_0242ac1c0002\" ><thead>    <tr>        <th class=\"col_heading level0 col0\" >loss</th>        <th class=\"col_heading level0 col1\" >accuracy</th>        <th class=\"col_heading level0 col2\" >mae</th>        <th class=\"col_heading level0 col3\" >mse</th>    </tr></thead><tbody>\n",
              "                <tr>\n",
              "                                <td id=\"T_6204269e_7dc9_11eb_b7fd_0242ac1c0002row0_col0\" class=\"data row0 col0\" >0.658724</td>\n",
              "                        <td id=\"T_6204269e_7dc9_11eb_b7fd_0242ac1c0002row0_col1\" class=\"data row0 col1\" >0.693333</td>\n",
              "                        <td id=\"T_6204269e_7dc9_11eb_b7fd_0242ac1c0002row0_col2\" class=\"data row0 col2\" >0.413604</td>\n",
              "                        <td id=\"T_6204269e_7dc9_11eb_b7fd_0242ac1c0002row0_col3\" class=\"data row0 col3\" >0.225524</td>\n",
              "            </tr>\n",
              "    </tbody></table>"
            ],
            "text/plain": [
              "<pandas.io.formats.style.Styler at 0x7f371358ff90>"
            ]
          },
          "metadata": {
            "tags": []
          }
        }
      ]
    },
    {
      "cell_type": "code",
      "metadata": {
        "colab": {
          "base_uri": "https://localhost:8080/",
          "height": 617
        },
        "id": "w3JRdUpn80-H",
        "outputId": "9d21295d-8448-41aa-c3f2-0da814d7976a"
      },
      "source": [
        "fig = go.Figure()\r\n",
        "fig.add_trace(go.Scatter(x= history.index.values, y= history['loss'].values, line=dict(color='OrangeRed', width= 1.5), \r\n",
        "                         name = 'Loss'))\r\n",
        "fig.add_trace(go.Scatter(x= history.index.values, y= history['accuracy'].values, line=dict(color='MidnightBlue', width= 1.5), \r\n",
        "                         name = 'Accuracy'))\r\n",
        "fig.add_trace(go.Scatter(x= history.index.values, y= history['mae'].values, line=dict(color='ForestGreen', width= 1.5), \r\n",
        "                         name = 'Mean Absolute Error (MAE)'))\r\n",
        "fig.add_trace(go.Scatter(x= history.index.values, y= history['mse'].values, line=dict(color='purple', width= 1.5), \r\n",
        "                         name = 'Mean Squared Error (MSE)'))\r\n",
        "fig.update_layout(legend=dict(y=0.5, traceorder='reversed', font_size=12))\r\n",
        "fig.update_layout(dragmode='select', plot_bgcolor= 'white', height=600, hovermode='closest')\r\n",
        "fig.update_xaxes(showgrid=True, gridwidth=1, gridcolor='Lightgray')\r\n",
        "fig.update_yaxes(showgrid=True, gridwidth=1, gridcolor='Lightgray')\r\n",
        "fig.update_xaxes(showline=True, linewidth=1, linecolor='Lightgray', mirror=True)\r\n",
        "fig.update_yaxes(showline=True, linewidth=1, linecolor='Lightgray', mirror=True)\r\n",
        "fig['layout']['xaxis'].update(range=[0, history.index.values.max()])\r\n",
        "fig['layout']['yaxis'].update(range=[0, 1.0])\r\n",
        "fig.show()"
      ],
      "execution_count": null,
      "outputs": [
        {
          "output_type": "display_data",
          "data": {
            "text/html": [
              "<html>\n",
              "<head><meta charset=\"utf-8\" /></head>\n",
              "<body>\n",
              "    <div>\n",
              "            <script src=\"https://cdnjs.cloudflare.com/ajax/libs/mathjax/2.7.5/MathJax.js?config=TeX-AMS-MML_SVG\"></script><script type=\"text/javascript\">if (window.MathJax) {MathJax.Hub.Config({SVG: {font: \"STIX-Web\"}});}</script>\n",
              "                <script type=\"text/javascript\">window.PlotlyConfig = {MathJaxConfig: 'local'};</script>\n",
              "        <script src=\"https://cdn.plot.ly/plotly-latest.min.js\"></script>    \n",
              "            <div id=\"e442336e-5592-4e6a-8b64-3c5cd141d70d\" class=\"plotly-graph-div\" style=\"height:600px; width:100%;\"></div>\n",
              "            <script type=\"text/javascript\">\n",
              "                \n",
              "                    window.PLOTLYENV=window.PLOTLYENV || {};\n",
              "                    \n",
              "                if (document.getElementById(\"e442336e-5592-4e6a-8b64-3c5cd141d70d\")) {\n",
              "                    Plotly.newPlot(\n",
              "                        'e442336e-5592-4e6a-8b64-3c5cd141d70d',\n",
              "                        [{\"line\": {\"color\": \"OrangeRed\", \"width\": 1.5}, \"name\": \"Loss\", \"type\": \"scatter\", \"x\": [0, 1, 2, 3, 4, 5, 6, 7, 8, 9, 10, 11, 12, 13, 14, 15, 16, 17, 18, 19, 20, 21, 22, 23, 24, 25, 26, 27, 28, 29, 30, 31, 32, 33, 34, 35, 36, 37, 38, 39, 40, 41, 42, 43, 44, 45, 46, 47, 48, 49, 50, 51, 52, 53, 54, 55, 56, 57, 58, 59, 60, 61, 62, 63, 64, 65, 66, 67, 68, 69, 70, 71, 72, 73, 74, 75, 76, 77, 78, 79, 80, 81, 82, 83, 84, 85, 86, 87, 88, 89, 90, 91, 92, 93, 94, 95, 96, 97, 98, 99], \"y\": [1.060211420059204, 0.9493212103843689, 0.8726933598518372, 0.8178490996360779, 0.7734731435775757, 0.7406036853790283, 0.7154630422592163, 0.6951828002929688, 0.6782079339027405, 0.6647799611091614, 0.655184805393219, 0.6476404070854187, 0.6410763263702393, 0.637103259563446, 0.6333792805671692, 0.6301534175872803, 0.6274871230125427, 0.625694990158081, 0.6239886283874512, 0.6219065189361572, 0.6204103827476501, 0.6190422773361206, 0.6178362965583801, 0.6165016293525696, 0.6153260469436646, 0.6140518188476562, 0.6132707595825195, 0.6121606230735779, 0.6112885475158691, 0.6103051900863647, 0.6096938848495483, 0.6090338230133057, 0.6083931922912598, 0.6079622507095337, 0.6074044108390808, 0.6067659854888916, 0.6062476634979248, 0.6056255102157593, 0.6050036549568176, 0.6045964956283569, 0.6041311025619507, 0.6037295460700989, 0.6034466624259949, 0.6032735705375671, 0.6027392148971558, 0.6024512052536011, 0.6022154688835144, 0.601787805557251, 0.6014872789382935, 0.6011289358139038, 0.600872278213501, 0.6004670858383179, 0.6001594066619873, 0.6000298857688904, 0.5998067259788513, 0.5995503067970276, 0.5993974804878235, 0.5991760492324829, 0.5989877581596375, 0.5987690687179565, 0.5983943343162537, 0.5983805060386658, 0.5980992913246155, 0.597933292388916, 0.5977195501327515, 0.5975314378738403, 0.5973469614982605, 0.5971458554267883, 0.5969932079315186, 0.5967892408370972, 0.596688449382782, 0.5965051054954529, 0.5963097810745239, 0.596128523349762, 0.5959931015968323, 0.5958428978919983, 0.5956788063049316, 0.5956258773803711, 0.5955297350883484, 0.5953837633132935, 0.5950965285301208, 0.595026969909668, 0.5949161052703857, 0.5947227478027344, 0.5947223901748657, 0.5945245027542114, 0.5942531824111938, 0.5941100120544434, 0.594089150428772, 0.5939455628395081, 0.5937673449516296, 0.5936530232429504, 0.5934485793113708, 0.5933548808097839, 0.593372106552124, 0.5931103825569153, 0.5928472280502319, 0.5926199555397034, 0.592404842376709, 0.592255711555481]}, {\"line\": {\"color\": \"MidnightBlue\", \"width\": 1.5}, \"name\": \"Accuracy\", \"type\": \"scatter\", \"x\": [0, 1, 2, 3, 4, 5, 6, 7, 8, 9, 10, 11, 12, 13, 14, 15, 16, 17, 18, 19, 20, 21, 22, 23, 24, 25, 26, 27, 28, 29, 30, 31, 32, 33, 34, 35, 36, 37, 38, 39, 40, 41, 42, 43, 44, 45, 46, 47, 48, 49, 50, 51, 52, 53, 54, 55, 56, 57, 58, 59, 60, 61, 62, 63, 64, 65, 66, 67, 68, 69, 70, 71, 72, 73, 74, 75, 76, 77, 78, 79, 80, 81, 82, 83, 84, 85, 86, 87, 88, 89, 90, 91, 92, 93, 94, 95, 96, 97, 98, 99], \"y\": [0.30000001192092896, 0.30714285373687744, 0.30000001192092896, 0.3499999940395355, 0.3857142925262451, 0.5, 0.5571428537368774, 0.5928571224212646, 0.6214285492897034, 0.6571428775787354, 0.6714285612106323, 0.6714285612106323, 0.6714285612106323, 0.6785714030265808, 0.6928571462631226, 0.7071428298950195, 0.7071428298950195, 0.7071428298950195, 0.7071428298950195, 0.7071428298950195, 0.7071428298950195, 0.7071428298950195, 0.7071428298950195, 0.7071428298950195, 0.7071428298950195, 0.7071428298950195, 0.7071428298950195, 0.7071428298950195, 0.7071428298950195, 0.7071428298950195, 0.7071428298950195, 0.7071428298950195, 0.7071428298950195, 0.7071428298950195, 0.7071428298950195, 0.7071428298950195, 0.699999988079071, 0.699999988079071, 0.699999988079071, 0.699999988079071, 0.699999988079071, 0.699999988079071, 0.699999988079071, 0.699999988079071, 0.699999988079071, 0.699999988079071, 0.7071428298950195, 0.699999988079071, 0.699999988079071, 0.699999988079071, 0.699999988079071, 0.699999988079071, 0.699999988079071, 0.699999988079071, 0.699999988079071, 0.7071428298950195, 0.699999988079071, 0.699999988079071, 0.699999988079071, 0.699999988079071, 0.699999988079071, 0.699999988079071, 0.699999988079071, 0.699999988079071, 0.699999988079071, 0.699999988079071, 0.699999988079071, 0.699999988079071, 0.699999988079071, 0.699999988079071, 0.699999988079071, 0.699999988079071, 0.699999988079071, 0.699999988079071, 0.699999988079071, 0.699999988079071, 0.699999988079071, 0.699999988079071, 0.699999988079071, 0.699999988079071, 0.699999988079071, 0.699999988079071, 0.699999988079071, 0.699999988079071, 0.699999988079071, 0.699999988079071, 0.699999988079071, 0.699999988079071, 0.699999988079071, 0.699999988079071, 0.699999988079071, 0.699999988079071, 0.699999988079071, 0.699999988079071, 0.699999988079071, 0.699999988079071, 0.699999988079071, 0.699999988079071, 0.699999988079071, 0.699999988079071]}, {\"line\": {\"color\": \"ForestGreen\", \"width\": 1.5}, \"name\": \"Mean Absolute Error (MAE)\", \"type\": \"scatter\", \"x\": [0, 1, 2, 3, 4, 5, 6, 7, 8, 9, 10, 11, 12, 13, 14, 15, 16, 17, 18, 19, 20, 21, 22, 23, 24, 25, 26, 27, 28, 29, 30, 31, 32, 33, 34, 35, 36, 37, 38, 39, 40, 41, 42, 43, 44, 45, 46, 47, 48, 49, 50, 51, 52, 53, 54, 55, 56, 57, 58, 59, 60, 61, 62, 63, 64, 65, 66, 67, 68, 69, 70, 71, 72, 73, 74, 75, 76, 77, 78, 79, 80, 81, 82, 83, 84, 85, 86, 87, 88, 89, 90, 91, 92, 93, 94, 95, 96, 97, 98, 99], \"y\": [0.5834035277366638, 0.5638476610183716, 0.5463537573814392, 0.531837522983551, 0.5181453824043274, 0.5063254833221436, 0.49628928303718567, 0.48732736706733704, 0.47904857993125916, 0.471640020608902, 0.4660065770149231, 0.46121135354042053, 0.45612087845802307, 0.4535977840423584, 0.4506683647632599, 0.4477258622646332, 0.4455113410949707, 0.44313979148864746, 0.4423274099826813, 0.4398684799671173, 0.43814370036125183, 0.4362918436527252, 0.4352423846721649, 0.43362343311309814, 0.43235692381858826, 0.4304336905479431, 0.42970913648605347, 0.42784303426742554, 0.42667368054389954, 0.42488381266593933, 0.42433059215545654, 0.4237232506275177, 0.422528475522995, 0.422065794467926, 0.4221786856651306, 0.4211764931678772, 0.4200836718082428, 0.4187767505645752, 0.41753697395324707, 0.4165027439594269, 0.4170055687427521, 0.4161604642868042, 0.41548725962638855, 0.41573646664619446, 0.4164237082004547, 0.4162195026874542, 0.4165186285972595, 0.4152768552303314, 0.413938969373703, 0.41469088196754456, 0.4136617183685303, 0.4143694043159485, 0.4136057496070862, 0.4129958152770996, 0.4134384095668793, 0.4137510359287262, 0.4134748876094818, 0.41334548592567444, 0.4133133888244629, 0.41241729259490967, 0.4112579822540283, 0.41116976737976074, 0.410185843706131, 0.40945565700531006, 0.4085402190685272, 0.40775129199028015, 0.40822678804397583, 0.4077415466308594, 0.4076499342918396, 0.40781310200691223, 0.40760308504104614, 0.40824446082115173, 0.408981591463089, 0.40842705965042114, 0.40823641419410706, 0.4083036482334137, 0.40838730335235596, 0.40841856598854065, 0.4091637432575226, 0.4080520570278168, 0.4088105261325836, 0.40846729278564453, 0.4087707996368408, 0.409254252910614, 0.40882518887519836, 0.40748074650764465, 0.40829986333847046, 0.40781939029693604, 0.40747177600860596, 0.4066431224346161, 0.4058210253715515, 0.40649670362472534, 0.4057873785495758, 0.4055958688259125, 0.40538668632507324, 0.40444350242614746, 0.4036374092102051, 0.4037615656852722, 0.40424874424934387, 0.4040927290916443]}, {\"line\": {\"color\": \"purple\", \"width\": 1.5}, \"name\": \"Mean Squared Error (MSE)\", \"type\": \"scatter\", \"x\": [0, 1, 2, 3, 4, 5, 6, 7, 8, 9, 10, 11, 12, 13, 14, 15, 16, 17, 18, 19, 20, 21, 22, 23, 24, 25, 26, 27, 28, 29, 30, 31, 32, 33, 34, 35, 36, 37, 38, 39, 40, 41, 42, 43, 44, 45, 46, 47, 48, 49, 50, 51, 52, 53, 54, 55, 56, 57, 58, 59, 60, 61, 62, 63, 64, 65, 66, 67, 68, 69, 70, 71, 72, 73, 74, 75, 76, 77, 78, 79, 80, 81, 82, 83, 84, 85, 86, 87, 88, 89, 90, 91, 92, 93, 94, 95, 96, 97, 98, 99], \"y\": [0.39310720562934875, 0.35599350929260254, 0.3268536627292633, 0.3050248324871063, 0.286128968000412, 0.27154257893562317, 0.26006966829299927, 0.2507129907608032, 0.242741659283638, 0.23638027906417847, 0.23178958892822266, 0.22818633913993835, 0.22501163184642792, 0.2230920046567917, 0.22128969430923462, 0.21971410512924194, 0.21839796006679535, 0.21754339337348938, 0.21671779453754425, 0.21570013463497162, 0.2149774730205536, 0.21430113911628723, 0.213741734623909, 0.21309806406497955, 0.21252883970737457, 0.21191371977329254, 0.2115374207496643, 0.21100229024887085, 0.21058747172355652, 0.21009938418865204, 0.20982329547405243, 0.2095111608505249, 0.209195077419281, 0.209011048078537, 0.20876209437847137, 0.2084558755159378, 0.2082018405199051, 0.20792430639266968, 0.20762795209884644, 0.2074350118637085, 0.20724940299987793, 0.20706015825271606, 0.20693139731884003, 0.20686641335487366, 0.2066570371389389, 0.2065258026123047, 0.20642270147800446, 0.206229105591774, 0.20608381927013397, 0.2059471309185028, 0.20583179593086243, 0.20567193627357483, 0.20553511381149292, 0.20546887814998627, 0.20538973808288574, 0.20527993142604828, 0.20521147549152374, 0.20512346923351288, 0.20504073798656464, 0.20494116842746735, 0.20477989315986633, 0.20477178692817688, 0.2046521008014679, 0.20458687841892242, 0.20449624955654144, 0.20441292226314545, 0.2043357938528061, 0.20425409078598022, 0.20419271290302277, 0.2041071504354477, 0.20407040417194366, 0.20399706065654755, 0.20391881465911865, 0.20384910702705383, 0.20379559695720673, 0.2037343680858612, 0.20367105305194855, 0.2036561220884323, 0.20361173152923584, 0.20355264842510223, 0.20344007015228271, 0.2034202367067337, 0.20336854457855225, 0.20328682661056519, 0.20327790081501007, 0.20321115851402283, 0.2030998170375824, 0.20304512977600098, 0.20304444432258606, 0.20298217236995697, 0.20291908085346222, 0.2028723657131195, 0.20279766619205475, 0.20275895297527313, 0.2027713507413864, 0.2026742398738861, 0.2025732696056366, 0.2024877816438675, 0.20239567756652832, 0.20234206318855286]}],\n",
              "                        {\"dragmode\": \"select\", \"height\": 600, \"hovermode\": \"closest\", \"legend\": {\"font\": {\"size\": 12}, \"traceorder\": \"reversed\", \"y\": 0.5}, \"plot_bgcolor\": \"white\", \"template\": {\"data\": {\"bar\": [{\"error_x\": {\"color\": \"#2a3f5f\"}, \"error_y\": {\"color\": \"#2a3f5f\"}, \"marker\": {\"line\": {\"color\": \"#E5ECF6\", \"width\": 0.5}}, \"type\": \"bar\"}], \"barpolar\": [{\"marker\": {\"line\": {\"color\": \"#E5ECF6\", \"width\": 0.5}}, \"type\": \"barpolar\"}], \"carpet\": [{\"aaxis\": {\"endlinecolor\": \"#2a3f5f\", \"gridcolor\": \"white\", \"linecolor\": \"white\", \"minorgridcolor\": \"white\", \"startlinecolor\": \"#2a3f5f\"}, \"baxis\": {\"endlinecolor\": \"#2a3f5f\", \"gridcolor\": \"white\", \"linecolor\": \"white\", \"minorgridcolor\": \"white\", \"startlinecolor\": \"#2a3f5f\"}, \"type\": \"carpet\"}], \"choropleth\": [{\"colorbar\": {\"outlinewidth\": 0, \"ticks\": \"\"}, \"type\": \"choropleth\"}], \"contour\": [{\"colorbar\": {\"outlinewidth\": 0, \"ticks\": \"\"}, \"colorscale\": [[0.0, \"#0d0887\"], [0.1111111111111111, \"#46039f\"], [0.2222222222222222, \"#7201a8\"], [0.3333333333333333, \"#9c179e\"], [0.4444444444444444, \"#bd3786\"], [0.5555555555555556, \"#d8576b\"], [0.6666666666666666, \"#ed7953\"], [0.7777777777777778, \"#fb9f3a\"], [0.8888888888888888, \"#fdca26\"], [1.0, \"#f0f921\"]], \"type\": \"contour\"}], \"contourcarpet\": [{\"colorbar\": {\"outlinewidth\": 0, \"ticks\": \"\"}, \"type\": \"contourcarpet\"}], \"heatmap\": [{\"colorbar\": {\"outlinewidth\": 0, \"ticks\": \"\"}, \"colorscale\": [[0.0, \"#0d0887\"], [0.1111111111111111, \"#46039f\"], [0.2222222222222222, \"#7201a8\"], [0.3333333333333333, \"#9c179e\"], [0.4444444444444444, \"#bd3786\"], [0.5555555555555556, \"#d8576b\"], [0.6666666666666666, \"#ed7953\"], [0.7777777777777778, \"#fb9f3a\"], [0.8888888888888888, \"#fdca26\"], [1.0, \"#f0f921\"]], \"type\": \"heatmap\"}], \"heatmapgl\": [{\"colorbar\": {\"outlinewidth\": 0, \"ticks\": \"\"}, \"colorscale\": [[0.0, \"#0d0887\"], [0.1111111111111111, \"#46039f\"], [0.2222222222222222, \"#7201a8\"], [0.3333333333333333, \"#9c179e\"], [0.4444444444444444, \"#bd3786\"], [0.5555555555555556, \"#d8576b\"], [0.6666666666666666, \"#ed7953\"], [0.7777777777777778, \"#fb9f3a\"], [0.8888888888888888, \"#fdca26\"], [1.0, \"#f0f921\"]], \"type\": \"heatmapgl\"}], \"histogram\": [{\"marker\": {\"colorbar\": {\"outlinewidth\": 0, \"ticks\": \"\"}}, \"type\": \"histogram\"}], \"histogram2d\": [{\"colorbar\": {\"outlinewidth\": 0, \"ticks\": \"\"}, \"colorscale\": [[0.0, \"#0d0887\"], [0.1111111111111111, \"#46039f\"], [0.2222222222222222, \"#7201a8\"], [0.3333333333333333, \"#9c179e\"], [0.4444444444444444, \"#bd3786\"], [0.5555555555555556, \"#d8576b\"], [0.6666666666666666, \"#ed7953\"], [0.7777777777777778, \"#fb9f3a\"], [0.8888888888888888, \"#fdca26\"], [1.0, \"#f0f921\"]], \"type\": \"histogram2d\"}], \"histogram2dcontour\": [{\"colorbar\": {\"outlinewidth\": 0, \"ticks\": \"\"}, \"colorscale\": [[0.0, \"#0d0887\"], [0.1111111111111111, \"#46039f\"], [0.2222222222222222, \"#7201a8\"], [0.3333333333333333, \"#9c179e\"], [0.4444444444444444, \"#bd3786\"], [0.5555555555555556, \"#d8576b\"], [0.6666666666666666, \"#ed7953\"], [0.7777777777777778, \"#fb9f3a\"], [0.8888888888888888, \"#fdca26\"], [1.0, \"#f0f921\"]], \"type\": \"histogram2dcontour\"}], \"mesh3d\": [{\"colorbar\": {\"outlinewidth\": 0, \"ticks\": \"\"}, \"type\": \"mesh3d\"}], \"parcoords\": [{\"line\": {\"colorbar\": {\"outlinewidth\": 0, \"ticks\": \"\"}}, \"type\": \"parcoords\"}], \"pie\": [{\"automargin\": true, \"type\": \"pie\"}], \"scatter\": [{\"marker\": {\"colorbar\": {\"outlinewidth\": 0, \"ticks\": \"\"}}, \"type\": \"scatter\"}], \"scatter3d\": [{\"line\": {\"colorbar\": {\"outlinewidth\": 0, \"ticks\": \"\"}}, \"marker\": {\"colorbar\": {\"outlinewidth\": 0, \"ticks\": \"\"}}, \"type\": \"scatter3d\"}], \"scattercarpet\": [{\"marker\": {\"colorbar\": {\"outlinewidth\": 0, \"ticks\": \"\"}}, \"type\": \"scattercarpet\"}], \"scattergeo\": [{\"marker\": {\"colorbar\": {\"outlinewidth\": 0, \"ticks\": \"\"}}, \"type\": \"scattergeo\"}], \"scattergl\": [{\"marker\": {\"colorbar\": {\"outlinewidth\": 0, \"ticks\": \"\"}}, \"type\": \"scattergl\"}], \"scattermapbox\": [{\"marker\": {\"colorbar\": {\"outlinewidth\": 0, \"ticks\": \"\"}}, \"type\": \"scattermapbox\"}], \"scatterpolar\": [{\"marker\": {\"colorbar\": {\"outlinewidth\": 0, \"ticks\": \"\"}}, \"type\": \"scatterpolar\"}], \"scatterpolargl\": [{\"marker\": {\"colorbar\": {\"outlinewidth\": 0, \"ticks\": \"\"}}, \"type\": \"scatterpolargl\"}], \"scatterternary\": [{\"marker\": {\"colorbar\": {\"outlinewidth\": 0, \"ticks\": \"\"}}, \"type\": \"scatterternary\"}], \"surface\": [{\"colorbar\": {\"outlinewidth\": 0, \"ticks\": \"\"}, \"colorscale\": [[0.0, \"#0d0887\"], [0.1111111111111111, \"#46039f\"], [0.2222222222222222, \"#7201a8\"], [0.3333333333333333, \"#9c179e\"], [0.4444444444444444, \"#bd3786\"], [0.5555555555555556, \"#d8576b\"], [0.6666666666666666, \"#ed7953\"], [0.7777777777777778, \"#fb9f3a\"], [0.8888888888888888, \"#fdca26\"], [1.0, \"#f0f921\"]], \"type\": \"surface\"}], \"table\": [{\"cells\": {\"fill\": {\"color\": \"#EBF0F8\"}, \"line\": {\"color\": \"white\"}}, \"header\": {\"fill\": {\"color\": \"#C8D4E3\"}, \"line\": {\"color\": \"white\"}}, \"type\": \"table\"}]}, \"layout\": {\"annotationdefaults\": {\"arrowcolor\": \"#2a3f5f\", \"arrowhead\": 0, \"arrowwidth\": 1}, \"coloraxis\": {\"colorbar\": {\"outlinewidth\": 0, \"ticks\": \"\"}}, \"colorscale\": {\"diverging\": [[0, \"#8e0152\"], [0.1, \"#c51b7d\"], [0.2, \"#de77ae\"], [0.3, \"#f1b6da\"], [0.4, \"#fde0ef\"], [0.5, \"#f7f7f7\"], [0.6, \"#e6f5d0\"], [0.7, \"#b8e186\"], [0.8, \"#7fbc41\"], [0.9, \"#4d9221\"], [1, \"#276419\"]], \"sequential\": [[0.0, \"#0d0887\"], [0.1111111111111111, \"#46039f\"], [0.2222222222222222, \"#7201a8\"], [0.3333333333333333, \"#9c179e\"], [0.4444444444444444, \"#bd3786\"], [0.5555555555555556, \"#d8576b\"], [0.6666666666666666, \"#ed7953\"], [0.7777777777777778, \"#fb9f3a\"], [0.8888888888888888, \"#fdca26\"], [1.0, \"#f0f921\"]], \"sequentialminus\": [[0.0, \"#0d0887\"], [0.1111111111111111, \"#46039f\"], [0.2222222222222222, \"#7201a8\"], [0.3333333333333333, \"#9c179e\"], [0.4444444444444444, \"#bd3786\"], [0.5555555555555556, \"#d8576b\"], [0.6666666666666666, \"#ed7953\"], [0.7777777777777778, \"#fb9f3a\"], [0.8888888888888888, \"#fdca26\"], [1.0, \"#f0f921\"]]}, \"colorway\": [\"#636efa\", \"#EF553B\", \"#00cc96\", \"#ab63fa\", \"#FFA15A\", \"#19d3f3\", \"#FF6692\", \"#B6E880\", \"#FF97FF\", \"#FECB52\"], \"font\": {\"color\": \"#2a3f5f\"}, \"geo\": {\"bgcolor\": \"white\", \"lakecolor\": \"white\", \"landcolor\": \"#E5ECF6\", \"showlakes\": true, \"showland\": true, \"subunitcolor\": \"white\"}, \"hoverlabel\": {\"align\": \"left\"}, \"hovermode\": \"closest\", \"mapbox\": {\"style\": \"light\"}, \"paper_bgcolor\": \"white\", \"plot_bgcolor\": \"#E5ECF6\", \"polar\": {\"angularaxis\": {\"gridcolor\": \"white\", \"linecolor\": \"white\", \"ticks\": \"\"}, \"bgcolor\": \"#E5ECF6\", \"radialaxis\": {\"gridcolor\": \"white\", \"linecolor\": \"white\", \"ticks\": \"\"}}, \"scene\": {\"xaxis\": {\"backgroundcolor\": \"#E5ECF6\", \"gridcolor\": \"white\", \"gridwidth\": 2, \"linecolor\": \"white\", \"showbackground\": true, \"ticks\": \"\", \"zerolinecolor\": \"white\"}, \"yaxis\": {\"backgroundcolor\": \"#E5ECF6\", \"gridcolor\": \"white\", \"gridwidth\": 2, \"linecolor\": \"white\", \"showbackground\": true, \"ticks\": \"\", \"zerolinecolor\": \"white\"}, \"zaxis\": {\"backgroundcolor\": \"#E5ECF6\", \"gridcolor\": \"white\", \"gridwidth\": 2, \"linecolor\": \"white\", \"showbackground\": true, \"ticks\": \"\", \"zerolinecolor\": \"white\"}}, \"shapedefaults\": {\"line\": {\"color\": \"#2a3f5f\"}}, \"ternary\": {\"aaxis\": {\"gridcolor\": \"white\", \"linecolor\": \"white\", \"ticks\": \"\"}, \"baxis\": {\"gridcolor\": \"white\", \"linecolor\": \"white\", \"ticks\": \"\"}, \"bgcolor\": \"#E5ECF6\", \"caxis\": {\"gridcolor\": \"white\", \"linecolor\": \"white\", \"ticks\": \"\"}}, \"title\": {\"x\": 0.05}, \"xaxis\": {\"automargin\": true, \"gridcolor\": \"white\", \"linecolor\": \"white\", \"ticks\": \"\", \"title\": {\"standoff\": 15}, \"zerolinecolor\": \"white\", \"zerolinewidth\": 2}, \"yaxis\": {\"automargin\": true, \"gridcolor\": \"white\", \"linecolor\": \"white\", \"ticks\": \"\", \"title\": {\"standoff\": 15}, \"zerolinecolor\": \"white\", \"zerolinewidth\": 2}}}, \"xaxis\": {\"gridcolor\": \"Lightgray\", \"gridwidth\": 1, \"linecolor\": \"Lightgray\", \"linewidth\": 1, \"mirror\": true, \"range\": [0, 99], \"showgrid\": true, \"showline\": true}, \"yaxis\": {\"gridcolor\": \"Lightgray\", \"gridwidth\": 1, \"linecolor\": \"Lightgray\", \"linewidth\": 1, \"mirror\": true, \"range\": [0, 1.0], \"showgrid\": true, \"showline\": true}},\n",
              "                        {\"responsive\": true}\n",
              "                    ).then(function(){\n",
              "                            \n",
              "var gd = document.getElementById('e442336e-5592-4e6a-8b64-3c5cd141d70d');\n",
              "var x = new MutationObserver(function (mutations, observer) {{\n",
              "        var display = window.getComputedStyle(gd).display;\n",
              "        if (!display || display === 'none') {{\n",
              "            console.log([gd, 'removed!']);\n",
              "            Plotly.purge(gd);\n",
              "            observer.disconnect();\n",
              "        }}\n",
              "}});\n",
              "\n",
              "// Listen for the removal of the full notebook cells\n",
              "var notebookContainer = gd.closest('#notebook-container');\n",
              "if (notebookContainer) {{\n",
              "    x.observe(notebookContainer, {childList: true});\n",
              "}}\n",
              "\n",
              "// Listen for the clearing of the current output cell\n",
              "var outputEl = gd.closest('.output');\n",
              "if (outputEl) {{\n",
              "    x.observe(outputEl, {childList: true});\n",
              "}}\n",
              "\n",
              "                        })\n",
              "                };\n",
              "                \n",
              "            </script>\n",
              "        </div>\n",
              "</body>\n",
              "</html>"
            ]
          },
          "metadata": {
            "tags": []
          }
        }
      ]
    },
    {
      "cell_type": "code",
      "metadata": {
        "colab": {
          "base_uri": "https://localhost:8080/",
          "height": 722
        },
        "id": "pYH-Jjj7Bxxh",
        "outputId": "3e3f72a2-0274-4a47-99f3-70526d84fbc4"
      },
      "source": [
        "# Train set\r\n",
        "train_pred = model.predict(train_X)\r\n",
        "Confusion_Matrix = confusion_matrix(train_Y.argmax(axis=1), train_pred.argmax(axis=1))\r\n",
        "\r\n",
        "fig, ax = plt.subplots(1, 2, figsize=(15, 5))\r\n",
        "fig.suptitle('Train Set', fontsize = 18)\r\n",
        "_ = sns.heatmap(Confusion_Matrix, annot=True, annot_kws={\"size\": 14}, cmap=\"Blues\", ax = ax[0],\r\n",
        "               linewidths = 0.2, cbar_kws={\"shrink\": 1})\r\n",
        "_ = ax[0].set_xlabel('Predicted labels')\r\n",
        "#_ = ax[0].set_ylabel('True labels'); \r\n",
        "_ = ax[0].set_title('Confusion Matrix');\r\n",
        "#_ = ax[0].xaxis.set_ticklabels(Labels)\r\n",
        "#_ = ax[0].yaxis.set_ticklabels(Labels)\r\n",
        "\r\n",
        "Confusion_Matrix = Confusion_Matrix.astype('float') / Confusion_Matrix.sum(axis=1)[:, np.newaxis]\r\n",
        "_ = sns.heatmap(Confusion_Matrix, annot=True, annot_kws={\"size\": 14}, cmap=\"Greens\", ax = ax[1],\r\n",
        "               linewidths = 0.2, vmin=0, vmax=1, cbar_kws={\"shrink\": 1})\r\n",
        "_ = ax[1].set_xlabel('Predicted labels')\r\n",
        "_ = ax[1].set_ylabel('True labels'); \r\n",
        "_ = ax[1].set_title('Normalized Confusion Matrix');\r\n",
        "#_ = ax[1].xaxis.set_ticklabels(Labels)\r\n",
        "#_ = ax[1].yaxis.set_ticklabels(Labels)\r\n",
        "\r\n",
        "# Test set\r\n",
        "Confusion_Matrix = confusion_matrix(test_Y.argmax(axis=1), Y_PRED.argmax(axis=1))\r\n",
        "\r\n",
        "fig, ax = plt.subplots(1, 2, figsize=(15, 5))\r\n",
        "fig.suptitle('Test Set', fontsize = 18)\r\n",
        "_ = sns.heatmap(Confusion_Matrix, annot=True, annot_kws={\"size\": 14}, cmap=\"Blues\", ax = ax[0],\r\n",
        "                linewidths = 0.2, cbar_kws={\"shrink\": 1})\r\n",
        "_ = ax[0].set_xlabel('Predicted labels')\r\n",
        "_ = ax[0].set_ylabel('True labels'); \r\n",
        "_ = ax[0].set_title('Confusion Matrix');\r\n",
        "#_ = ax[0].xaxis.set_ticklabels(Labels)\r\n",
        "#_ = ax[0].yaxis.set_ticklabels(Labels)\r\n",
        "\r\n",
        "Confusion_Matrix = Confusion_Matrix.astype('float') / Confusion_Matrix.sum(axis=1)[:, np.newaxis]\r\n",
        "_ = sns.heatmap(Confusion_Matrix, annot=True, annot_kws={\"size\": 14}, cmap=\"Greens\", ax = ax[1],\r\n",
        "               linewidths = 0.2, vmin=0, vmax=1, cbar_kws={\"shrink\": 1})\r\n",
        "_ = ax[1].set_xlabel('Predicted labels')\r\n",
        "_ = ax[1].set_ylabel('True labels'); \r\n",
        "_ = ax[1].set_title('Normalized Confusion Matrix');\r\n",
        "#_ = ax[1].xaxis.set_ticklabels(Labels)\r\n",
        "#_ = ax[1].yaxis.set_ticklabels(Labels)\r\n"
      ],
      "execution_count": null,
      "outputs": [
        {
          "output_type": "display_data",
          "data": {
            "image/png": "[encoded data removed]",
            "text/plain": [
              "<Figure size 1080x360 with 4 Axes>"
            ]
          },
          "metadata": {
            "tags": [],
            "image/png": {
              "width": 842,
              "height": 353
            },
            "needs_background": "light"
          }
        },
        {
          "output_type": "display_data",
          "data": {
            "image/png": "[encoded data removed]",
            "text/plain": [
              "<Figure size 1080x360 with 4 Axes>"
            ]
          },
          "metadata": {
            "tags": [],
            "image/png": {
              "width": 859,
              "height": 353
            },
            "needs_background": "light"
          }
        }
      ]
    }
  ]
}