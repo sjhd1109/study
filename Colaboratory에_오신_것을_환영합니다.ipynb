{
  "nbformat": 4,
  "nbformat_minor": 0,
  "metadata": {
    "colab": {
      "name": "Colaboratory에 오신 것을 환영합니다",
      "provenance": [],
      "collapsed_sections": [],
      "toc_visible": true,
      "include_colab_link": true
    },
    "kernelspec": {
      "display_name": "Python 3",
      "name": "python3"
    }
  },
  "cells": [
    {
      "cell_type": "markdown",
      "metadata": {
        "id": "view-in-github",
        "colab_type": "text"
      },
      "source": [
        "<a href=\"https://colab.research.google.com/github/sjhd1109/study/blob/main/Colaboratory%EC%97%90_%EC%98%A4%EC%8B%A0_%EA%B2%83%EC%9D%84_%ED%99%98%EC%98%81%ED%95%A9%EB%8B%88%EB%8B%A4.ipynb\" target=\"_parent\"><img src=\"https://colab.research.google.com/assets/colab-badge.svg\" alt=\"Open In Colab\"/></a>"
      ]
    },
    {
      "cell_type": "code",
      "metadata": {
        "id": "7yrYko1JlM11"
      },
      "source": [
        "# Computations\r\n",
        "import pandas as pd\r\n",
        "import numpy as np\r\n",
        "\r\n",
        "## Text\r\n",
        "\r\n",
        "from IPython.display import Image, display, Markdown, Latex\r\n",
        "\r\n",
        "## seaborn\r\n",
        "import seaborn as sns\r\n",
        "sns.set_context('paper', rc={'font.size':12,'axes.titlesize':14,'axes.labelsize':12})\r\n",
        "sns.set_style('white')\r\n",
        "\r\n",
        "# sklearn\r\n",
        "from sklearn.preprocessing import StandardScaler\r\n",
        "from sklearn.metrics import confusion_matrix\r\n",
        "from sklearn.model_selection import train_test_split\r\n",
        "from sklearn import tree\r\n",
        "from sklearn import metrics\r\n",
        "from sklearn.model_selection import cross_val_score\r\n",
        "\r\n",
        "# keras\r\n",
        "import keras\r\n",
        "from keras.models import Sequential\r\n",
        "from keras.layers import Dense, Dropout, Activation\r\n",
        "from keras.optimizers import SGD\r\n",
        "from keras.utils.vis_utils import plot_model\r\n",
        "import keras.backend as K\r\n",
        "\r\n",
        "# Visualisation libraries\r\n",
        "\r\n",
        "## Text\r\n",
        "from IPython.display import Image, display, Markdown, Latex\r\n",
        "\r\n",
        "## seaborn\r\n",
        "import seaborn as sns\r\n",
        "sns.set_context('paper', rc={'font.size':12,'axes.titlesize':14,'axes.labelsize':12})\r\n",
        "sns.set_style('white')\r\n",
        "\r\n",
        "## matplotlib\r\n",
        "import matplotlib.pyplot as plt\r\n",
        "from matplotlib.patches import Ellipse, Polygon\r\n",
        "import matplotlib.gridspec as gridspec\r\n",
        "import matplotlib.colors\r\n",
        "from pylab import rcParams\r\n",
        "plt.style.use('seaborn-whitegrid')\r\n",
        "plt.rcParams['figure.figsize'] = 14, 8\r\n",
        "plt.rcParams['axes.labelsize'] = 14\r\n",
        "plt.rcParams['xtick.labelsize'] = 12\r\n",
        "plt.rcParams['ytick.labelsize'] = 12\r\n",
        "plt.rcParams['text.color'] = 'k'\r\n",
        "%matplotlib inline\r\n",
        "\r\n",
        "## plotly\r\n",
        "from plotly.offline import init_notebook_mode, iplot \r\n",
        "import plotly.graph_objs as go\r\n",
        "import plotly.offline as py\r\n",
        "from plotly.subplots import make_subplots\r\n",
        "from plotly import tools\r\n",
        "import plotly.express as px\r\n",
        "import plotly.figure_factory as ff\r\n",
        "# Graphics in retina format \r\n",
        "%config InlineBackend.figure_format = 'retina' \r\n",
        "\r\n",
        "import warnings\r\n",
        "warnings.filterwarnings('ignore')"
      ],
      "execution_count": 17,
      "outputs": []
    },
    {
      "cell_type": "code",
      "metadata": {
        "id": "SMnhpc9klNjd",
        "outputId": "03723c1b-3901-4f60-c5d3-1237bb847a17",
        "colab": {
          "base_uri": "https://localhost:8080/"
        }
      },
      "source": [
        "from google.colab import drive \r\n",
        "drive.mount('/content/drive') # 새로운 창에서 key 를 받아서 입력해야합니다. "
      ],
      "execution_count": 48,
      "outputs": [
        {
          "output_type": "stream",
          "text": [
            "Drive already mounted at /content/drive; to attempt to forcibly remount, call drive.mount(\"/content/drive\", force_remount=True).\n"
          ],
          "name": "stdout"
        }
      ]
    },
    {
      "cell_type": "code",
      "metadata": {
        "id": "0ZcCNjZpleP9"
      },
      "source": [
        "filename = '/content/drive/MyDrive/대학원 자료/GermanCredit.csv'"
      ],
      "execution_count": 49,
      "outputs": []
    },
    {
      "cell_type": "code",
      "metadata": {
        "id": "GKB4n5w5n90I",
        "outputId": "6a4a5c9c-4073-4be1-d32e-c23deba93d27",
        "colab": {
          "base_uri": "https://localhost:8080/",
          "height": 370
        }
      },
      "source": [
        "#pandas read_csv로 불러오기\r\n",
        "CreditRiskData = pd.read_csv(filename, index_col=0)\r\n",
        "CreditRiskData.head()\r\n",
        "print('Shape before deleting duplicate values:', CreditRiskData.shape)\r\n",
        "\r\n",
        "# Removing duplicate rows if any\r\n",
        "CreditRiskData=CreditRiskData.drop_duplicates()\r\n",
        "print('Shape After deleting duplicate values:', CreditRiskData.shape)\r\n",
        "\r\n",
        "# Printing sample data\r\n",
        "# Start observing the Quantitative/Categorical/Qualitative variables\r\n",
        "CreditRiskData.head(10)"
      ],
      "execution_count": 50,
      "outputs": [
        {
          "output_type": "stream",
          "text": [
            "Shape before deleting duplicate values: (1000, 21)\n",
            "Shape After deleting duplicate values: (1000, 21)\n"
          ],
          "name": "stdout"
        },
        {
          "output_type": "execute_result",
          "data": {
            "text/html": [
              "<div>\n",
              "<style scoped>\n",
              "    .dataframe tbody tr th:only-of-type {\n",
              "        vertical-align: middle;\n",
              "    }\n",
              "\n",
              "    .dataframe tbody tr th {\n",
              "        vertical-align: top;\n",
              "    }\n",
              "\n",
              "    .dataframe thead th {\n",
              "        text-align: right;\n",
              "    }\n",
              "</style>\n",
              "<table border=\"1\" class=\"dataframe\">\n",
              "  <thead>\n",
              "    <tr style=\"text-align: right;\">\n",
              "      <th></th>\n",
              "      <th>goodbad</th>\n",
              "      <th>checking</th>\n",
              "      <th>duration</th>\n",
              "      <th>history</th>\n",
              "      <th>purpose</th>\n",
              "      <th>amount</th>\n",
              "      <th>savings</th>\n",
              "      <th>employed</th>\n",
              "      <th>installp</th>\n",
              "      <th>martial</th>\n",
              "      <th>coapp</th>\n",
              "      <th>resident</th>\n",
              "      <th>property</th>\n",
              "      <th>age</th>\n",
              "      <th>other</th>\n",
              "      <th>housing</th>\n",
              "      <th>existcr</th>\n",
              "      <th>job</th>\n",
              "      <th>depends</th>\n",
              "      <th>telephon</th>\n",
              "      <th>foreign</th>\n",
              "    </tr>\n",
              "  </thead>\n",
              "  <tbody>\n",
              "    <tr>\n",
              "      <th>0</th>\n",
              "      <td>1</td>\n",
              "      <td>2</td>\n",
              "      <td>9</td>\n",
              "      <td>5</td>\n",
              "      <td>3</td>\n",
              "      <td>1919</td>\n",
              "      <td>1</td>\n",
              "      <td>4</td>\n",
              "      <td>4</td>\n",
              "      <td>3</td>\n",
              "      <td>1</td>\n",
              "      <td>3</td>\n",
              "      <td>3</td>\n",
              "      <td>35</td>\n",
              "      <td>3</td>\n",
              "      <td>1</td>\n",
              "      <td>1</td>\n",
              "      <td>3</td>\n",
              "      <td>1</td>\n",
              "      <td>2</td>\n",
              "      <td>1</td>\n",
              "    </tr>\n",
              "    <tr>\n",
              "      <th>1</th>\n",
              "      <td>2</td>\n",
              "      <td>1</td>\n",
              "      <td>18</td>\n",
              "      <td>3</td>\n",
              "      <td>1</td>\n",
              "      <td>1216</td>\n",
              "      <td>1</td>\n",
              "      <td>2</td>\n",
              "      <td>4</td>\n",
              "      <td>2</td>\n",
              "      <td>1</td>\n",
              "      <td>3</td>\n",
              "      <td>3</td>\n",
              "      <td>23</td>\n",
              "      <td>3</td>\n",
              "      <td>1</td>\n",
              "      <td>1</td>\n",
              "      <td>3</td>\n",
              "      <td>1</td>\n",
              "      <td>2</td>\n",
              "      <td>1</td>\n",
              "    </tr>\n",
              "    <tr>\n",
              "      <th>2</th>\n",
              "      <td>1</td>\n",
              "      <td>4</td>\n",
              "      <td>6</td>\n",
              "      <td>5</td>\n",
              "      <td>4</td>\n",
              "      <td>1382</td>\n",
              "      <td>1</td>\n",
              "      <td>3</td>\n",
              "      <td>1</td>\n",
              "      <td>2</td>\n",
              "      <td>1</td>\n",
              "      <td>1</td>\n",
              "      <td>3</td>\n",
              "      <td>28</td>\n",
              "      <td>3</td>\n",
              "      <td>2</td>\n",
              "      <td>2</td>\n",
              "      <td>3</td>\n",
              "      <td>1</td>\n",
              "      <td>2</td>\n",
              "      <td>1</td>\n",
              "    </tr>\n",
              "    <tr>\n",
              "      <th>3</th>\n",
              "      <td>1</td>\n",
              "      <td>4</td>\n",
              "      <td>12</td>\n",
              "      <td>3</td>\n",
              "      <td>1</td>\n",
              "      <td>1101</td>\n",
              "      <td>1</td>\n",
              "      <td>3</td>\n",
              "      <td>3</td>\n",
              "      <td>4</td>\n",
              "      <td>1</td>\n",
              "      <td>2</td>\n",
              "      <td>1</td>\n",
              "      <td>27</td>\n",
              "      <td>3</td>\n",
              "      <td>2</td>\n",
              "      <td>2</td>\n",
              "      <td>3</td>\n",
              "      <td>1</td>\n",
              "      <td>2</td>\n",
              "      <td>1</td>\n",
              "    </tr>\n",
              "    <tr>\n",
              "      <th>4</th>\n",
              "      <td>1</td>\n",
              "      <td>1</td>\n",
              "      <td>18</td>\n",
              "      <td>3</td>\n",
              "      <td>1</td>\n",
              "      <td>2249</td>\n",
              "      <td>2</td>\n",
              "      <td>4</td>\n",
              "      <td>4</td>\n",
              "      <td>3</td>\n",
              "      <td>1</td>\n",
              "      <td>3</td>\n",
              "      <td>3</td>\n",
              "      <td>30</td>\n",
              "      <td>3</td>\n",
              "      <td>2</td>\n",
              "      <td>1</td>\n",
              "      <td>4</td>\n",
              "      <td>2</td>\n",
              "      <td>2</td>\n",
              "      <td>1</td>\n",
              "    </tr>\n",
              "    <tr>\n",
              "      <th>5</th>\n",
              "      <td>1</td>\n",
              "      <td>4</td>\n",
              "      <td>36</td>\n",
              "      <td>5</td>\n",
              "      <td>2</td>\n",
              "      <td>10477</td>\n",
              "      <td>5</td>\n",
              "      <td>5</td>\n",
              "      <td>2</td>\n",
              "      <td>3</td>\n",
              "      <td>1</td>\n",
              "      <td>4</td>\n",
              "      <td>4</td>\n",
              "      <td>42</td>\n",
              "      <td>3</td>\n",
              "      <td>3</td>\n",
              "      <td>2</td>\n",
              "      <td>3</td>\n",
              "      <td>1</td>\n",
              "      <td>1</td>\n",
              "      <td>1</td>\n",
              "    </tr>\n",
              "    <tr>\n",
              "      <th>6</th>\n",
              "      <td>1</td>\n",
              "      <td>2</td>\n",
              "      <td>18</td>\n",
              "      <td>3</td>\n",
              "      <td>4</td>\n",
              "      <td>1113</td>\n",
              "      <td>1</td>\n",
              "      <td>3</td>\n",
              "      <td>4</td>\n",
              "      <td>2</td>\n",
              "      <td>3</td>\n",
              "      <td>4</td>\n",
              "      <td>1</td>\n",
              "      <td>26</td>\n",
              "      <td>3</td>\n",
              "      <td>2</td>\n",
              "      <td>1</td>\n",
              "      <td>2</td>\n",
              "      <td>2</td>\n",
              "      <td>1</td>\n",
              "      <td>1</td>\n",
              "    </tr>\n",
              "    <tr>\n",
              "      <th>7</th>\n",
              "      <td>2</td>\n",
              "      <td>1</td>\n",
              "      <td>40</td>\n",
              "      <td>5</td>\n",
              "      <td>7</td>\n",
              "      <td>5998</td>\n",
              "      <td>1</td>\n",
              "      <td>3</td>\n",
              "      <td>4</td>\n",
              "      <td>3</td>\n",
              "      <td>1</td>\n",
              "      <td>3</td>\n",
              "      <td>4</td>\n",
              "      <td>27</td>\n",
              "      <td>1</td>\n",
              "      <td>2</td>\n",
              "      <td>1</td>\n",
              "      <td>3</td>\n",
              "      <td>1</td>\n",
              "      <td>2</td>\n",
              "      <td>1</td>\n",
              "    </tr>\n",
              "    <tr>\n",
              "      <th>8</th>\n",
              "      <td>1</td>\n",
              "      <td>4</td>\n",
              "      <td>12</td>\n",
              "      <td>3</td>\n",
              "      <td>1</td>\n",
              "      <td>2133</td>\n",
              "      <td>5</td>\n",
              "      <td>5</td>\n",
              "      <td>4</td>\n",
              "      <td>2</td>\n",
              "      <td>1</td>\n",
              "      <td>4</td>\n",
              "      <td>4</td>\n",
              "      <td>52</td>\n",
              "      <td>3</td>\n",
              "      <td>3</td>\n",
              "      <td>1</td>\n",
              "      <td>4</td>\n",
              "      <td>1</td>\n",
              "      <td>2</td>\n",
              "      <td>1</td>\n",
              "    </tr>\n",
              "    <tr>\n",
              "      <th>9</th>\n",
              "      <td>1</td>\n",
              "      <td>2</td>\n",
              "      <td>26</td>\n",
              "      <td>3</td>\n",
              "      <td>2</td>\n",
              "      <td>7966</td>\n",
              "      <td>1</td>\n",
              "      <td>2</td>\n",
              "      <td>2</td>\n",
              "      <td>3</td>\n",
              "      <td>1</td>\n",
              "      <td>3</td>\n",
              "      <td>3</td>\n",
              "      <td>30</td>\n",
              "      <td>3</td>\n",
              "      <td>2</td>\n",
              "      <td>2</td>\n",
              "      <td>3</td>\n",
              "      <td>1</td>\n",
              "      <td>1</td>\n",
              "      <td>1</td>\n",
              "    </tr>\n",
              "  </tbody>\n",
              "</table>\n",
              "</div>"
            ],
            "text/plain": [
              "   goodbad  checking  duration  history  ...  job  depends  telephon  foreign\n",
              "0        1         2         9        5  ...    3        1         2        1\n",
              "1        2         1        18        3  ...    3        1         2        1\n",
              "2        1         4         6        5  ...    3        1         2        1\n",
              "3        1         4        12        3  ...    3        1         2        1\n",
              "4        1         1        18        3  ...    4        2         2        1\n",
              "5        1         4        36        5  ...    3        1         1        1\n",
              "6        1         2        18        3  ...    2        2         1        1\n",
              "7        2         1        40        5  ...    3        1         2        1\n",
              "8        1         4        12        3  ...    4        1         2        1\n",
              "9        1         2        26        3  ...    3        1         1        1\n",
              "\n",
              "[10 rows x 21 columns]"
            ]
          },
          "metadata": {
            "tags": []
          },
          "execution_count": 50
        }
      ]
    },
    {
      "cell_type": "markdown",
      "metadata": {
        "id": "YcOGw7qlyJUB"
      },
      "source": [
        "- Target Variable: goodbad\r\n",
        "- Predictors: checking\tduration\thistory\tpurpose\tamount\tsavings\temployed\tinstallp\tmartial\tcoapp\tresident\tproperty\tage\tother\thousing\texistcr\tjob\tdepends\ttelephon\tforeign\r\n",
        "\r\n",
        "- GoodCredit=1 means the loan was a bad decision.\r\n",
        "- GoodCredit=2 means the loan was a good decision."
      ]
    },
    {
      "cell_type": "code",
      "metadata": {
        "id": "niJ_vYXYyqZ9",
        "outputId": "637106b1-c2ce-40fe-e3e4-61705fb96d7f",
        "colab": {
          "base_uri": "https://localhost:8080/"
        }
      },
      "source": [
        "CreditRiskData.info()"
      ],
      "execution_count": 51,
      "outputs": [
        {
          "output_type": "stream",
          "text": [
            "<class 'pandas.core.frame.DataFrame'>\n",
            "Int64Index: 1000 entries, 0 to 999\n",
            "Data columns (total 21 columns):\n",
            " #   Column    Non-Null Count  Dtype\n",
            "---  ------    --------------  -----\n",
            " 0   goodbad   1000 non-null   int64\n",
            " 1   checking  1000 non-null   int64\n",
            " 2   duration  1000 non-null   int64\n",
            " 3   history   1000 non-null   int64\n",
            " 4   purpose   1000 non-null   int64\n",
            " 5   amount    1000 non-null   int64\n",
            " 6   savings   1000 non-null   int64\n",
            " 7   employed  1000 non-null   int64\n",
            " 8   installp  1000 non-null   int64\n",
            " 9   martial   1000 non-null   int64\n",
            " 10  coapp     1000 non-null   int64\n",
            " 11  resident  1000 non-null   int64\n",
            " 12  property  1000 non-null   int64\n",
            " 13  age       1000 non-null   int64\n",
            " 14  other     1000 non-null   int64\n",
            " 15  housing   1000 non-null   int64\n",
            " 16  existcr   1000 non-null   int64\n",
            " 17  job       1000 non-null   int64\n",
            " 18  depends   1000 non-null   int64\n",
            " 19  telephon  1000 non-null   int64\n",
            " 20  foreign   1000 non-null   int64\n",
            "dtypes: int64(21)\n",
            "memory usage: 171.9 KB\n"
          ],
          "name": "stdout"
        }
      ]
    },
    {
      "cell_type": "code",
      "metadata": {
        "id": "-MHR7jTfbGIy"
      },
      "source": [
        "df = CreditRiskData.copy()\r\n",
        "df['goodbad'] = df['goodbad'].astype('category')\r\n",
        "df['checking'] = df['checking'].astype('category')\r\n",
        "df['history'] = df['history'].astype('category')   \r\n",
        "df['purpose'] = df['purpose'].astype('category')   \r\n",
        "df['savings'] = df['savings'].astype('category')   \r\n",
        "df['employed'] = df['employed'].astype('category')   \r\n",
        "df['martial'] = df['martial'].astype('category')   \r\n",
        "df['coapp'] = df['coapp'].astype('category')   \r\n",
        "df['property'] = df['property'].astype('category')   \r\n",
        "df['other'] = df['other'].astype('category')   \r\n",
        "df['housing'] = df['housing'].astype('category')   \r\n",
        "df['job'] = df['job'].astype('category')   \r\n",
        "df['telephon'] = df['telephon'].astype('category')   \r\n",
        "df['foreign'] = df['foreign'].astype('category')   "
      ],
      "execution_count": 55,
      "outputs": []
    },
    {
      "cell_type": "code",
      "metadata": {
        "id": "I-ZtPA106uB2",
        "outputId": "3bdd1cd6-470f-4afa-962b-9d335154b7b9",
        "colab": {
          "base_uri": "https://localhost:8080/"
        }
      },
      "source": [
        "Target = 'goodbad'\r\n",
        "predictors=['duration', 'amount', 'installp', 'resident','age','existcr', 'depends']\r\n",
        "\r\n",
        "X1=df[predictors].values\r\n",
        "y1=df[Target].values\r\n",
        "\r\n",
        "X = df.drop(columns = [Target])\r\n",
        "y = df[Target]\r\n",
        "\r\n",
        "X_train, X_test, y_train, y_test = train_test_split(X, y, test_size=0.2, random_state=1)\r\n",
        "X_train, X_val, y_train, y_val = train_test_split(X_train, y_train, test_size=0.2, stratify=y_train, random_state=1)\r\n",
        "\r\n",
        "pd.DataFrame(data={'Set':['X_train','X_val', 'X_test','Y_train','Y_val','Y_test'],\r\n",
        "               'Shape':[X_train.shape, X_val.shape, X_test.shape, y_train.shape, y_val.shape, y_test.shape]}).set_index('Set').T\r\n",
        "\r\n",
        "X1_train, X1_test, y1_train, y1_test = train_test_split(X1, y1, test_size=0.2, random_state=1)\r\n",
        "X1_train, X1_val, y1_train, y1_val = train_test_split(X1_train, y1_train, test_size=0.2, stratify=y1_train, random_state=1)\r\n",
        "\r\n",
        "pd.DataFrame(data={'Set':['X_train','X_val', 'X_test','Y_train','Y_val','Y_test'],\r\n",
        "               'Shape':[X_train.shape, X_val.shape, X_test.shape, y_train.shape, y_val.shape, y_test.shape]}).set_index('Set').T\r\n"
      ],
      "execution_count": 125,
      "outputs": [
        {
          "output_type": "stream",
          "text": [
            "Index(['checking', 'duration', 'history', 'purpose', 'amount', 'savings',\n",
            "       'employed', 'installp', 'martial', 'coapp', 'resident', 'property',\n",
            "       'age', 'other', 'housing', 'existcr', 'job', 'depends', 'telephon',\n",
            "       'foreign'],\n",
            "      dtype='object')\n"
          ],
          "name": "stdout"
        }
      ]
    },
    {
      "cell_type": "code",
      "metadata": {
        "id": "5y0sE_G28UZL",
        "outputId": "da8b25e1-16d4-4836-b012-2662825d1800",
        "colab": {
          "base_uri": "https://localhost:8080/",
          "height": 595
        }
      },
      "source": [
        "#decision tree\r\n",
        "# Choose various values of max_depth and criterion for tuning the model\r\n",
        "model = tree.DecisionTreeClassifier(max_depth=4,criterion='gini')\r\n",
        "\r\n",
        "# Printing all the parameters of Decision Trees\r\n",
        "print(model)\r\n",
        "\r\n",
        "# Creating the model on Training Data\r\n",
        "DTree=model.fit(X_train,y_train)\r\n",
        "prediction=DTree.predict(X_test)\r\n",
        "\r\n",
        "DTree1=model.fit(X1_train,y1_train)\r\n",
        "prediction1=DTree.predict(X1_test)\r\n",
        "\r\n",
        "# Measuring accuracy on Testing Data\r\n",
        "from sklearn import metrics\r\n",
        "print(metrics.classification_report(y_test, prediction))\r\n",
        "print(metrics.confusion_matrix(y_test, prediction))\r\n",
        "\r\n",
        "# Printing the Overall Accuracy of the model\r\n",
        "F1_Score=metrics.f1_score(y_test, prediction, average='weighted')\r\n",
        "print('Accuracy of the model on Testing Sample Data:', round(F1_Score,2))\r\n",
        "\r\n",
        "# Plotting the feature importance for Top 10 most important columns\r\n",
        "%matplotlib inline\r\n",
        "feature_importances = pd.Series(DTree.feature_importances_, index=predictors)\r\n",
        "feature_importances.nlargest(10).plot(kind='barh')\r\n"
      ],
      "execution_count": 141,
      "outputs": [
        {
          "output_type": "stream",
          "text": [
            "DecisionTreeClassifier(ccp_alpha=0.0, class_weight=None, criterion='gini',\n",
            "                       max_depth=4, max_features=None, max_leaf_nodes=None,\n",
            "                       min_impurity_decrease=0.0, min_impurity_split=None,\n",
            "                       min_samples_leaf=1, min_samples_split=2,\n",
            "                       min_weight_fraction_leaf=0.0, presort='deprecated',\n",
            "                       random_state=None, splitter='best')\n",
            "              precision    recall  f1-score   support\n",
            "\n",
            "           1       0.75      0.86      0.80       140\n",
            "           2       0.50      0.33      0.40        60\n",
            "\n",
            "    accuracy                           0.70       200\n",
            "   macro avg       0.62      0.60      0.60       200\n",
            "weighted avg       0.68      0.70      0.68       200\n",
            "\n",
            "[[120  20]\n",
            " [ 40  20]]\n",
            "Accuracy of the model on Testing Sample Data: 0.68\n"
          ],
          "name": "stdout"
        },
        {
          "output_type": "execute_result",
          "data": {
            "text/plain": [
              "<matplotlib.axes._subplots.AxesSubplot at 0x7feaf3856198>"
            ]
          },
          "metadata": {
            "tags": []
          },
          "execution_count": 141
        },
        {
          "output_type": "display_data",
          "data": {
            "image/png": "[encoded data removed]",
            "text/plain": [
              "<Figure size 432x288 with 1 Axes>"
            ]
          },
          "metadata": {
            "tags": [],
            "image/png": {
              "width": 398,
              "height": 246
            },
            "needs_background": "light"
          }
        }
      ]
    },
    {
      "cell_type": "code",
      "metadata": {
        "id": "IoMNz5FtAb0o"
      },
      "source": [
        "import pydotplus\r\n",
        "\r\n",
        "from sklearn.tree import export_graphviz\r\n",
        "\r\n",
        "from IPython.core.display import Image\r\n",
        "\r\n",
        "# out_file=None : 결과를 파일로 저장하지 않겠다.\r\n",
        "# filled=True : 상자 채우기\r\n",
        "# rounded=True : 상자모서리 둥그렇게 만들기\r\n",
        "# special_characters=True : 상자안에 내용 넣기\r\n",
        "\r\n",
        "dot_data = export_graphviz(model)\r\n",
        "\r\n",
        "dot_data = export_graphviz(model, out_file=\"C:\\data\",\r\n",
        "\r\n",
        "                           feature_names= predictors,\r\n",
        "\r\n",
        "                           class_names=[\"Good\",\"Bad\"],\r\n",
        "\r\n",
        "                           filled=True, rounded=True,\r\n",
        "\r\n",
        "                           special_characters=True)\r\n",
        "\r\n",
        " "
      ],
      "execution_count": 138,
      "outputs": []
    },
    {
      "cell_type": "code",
      "metadata": {
        "id": "WBGTCvAXC_5Z",
        "outputId": "79e719b0-bb44-46b3-db17-68238bb0e93b",
        "colab": {
          "base_uri": "https://localhost:8080/",
          "height": 775
        }
      },
      "source": [
        "from IPython.display import display\r\n",
        "import graphviz\r\n",
        "with open(\"C:\\data\") as f:\r\n",
        "    dot_graph = f.read()\r\n",
        "display(graphviz.Source(dot_graph))"
      ],
      "execution_count": 139,
      "outputs": [
        {
          "output_type": "display_data",
          "data": {
            "text/plain": [
              "<graphviz.files.Source at 0x7feaf3da1e48>"
            ],
            "image/svg+xml": "<?xml version=\"1.0\" encoding=\"UTF-8\" standalone=\"no\"?>\n<!DOCTYPE svg PUBLIC \"-//W3C//DTD SVG 1.1//EN\"\n \"http://www.w3.org/Graphics/SVG/1.1/DTD/svg11.dtd\">\n<!-- Generated by graphviz version 2.40.1 (20161225.0304)\n -->\n<!-- Title: Tree Pages: 1 -->\n<svg width=\"1766pt\" height=\"552pt\"\n viewBox=\"0.00 0.00 1766.00 552.00\" xmlns=\"http://www.w3.org/2000/svg\" xmlns:xlink=\"http://www.w3.org/1999/xlink\">\n<g id=\"graph0\" class=\"graph\" transform=\"scale(1 1) rotate(0) translate(4 548)\">\n<title>Tree</title>\n<polygon fill=\"#ffffff\" stroke=\"transparent\" points=\"-4,4 -4,-548 1762,-548 1762,4 -4,4\"/>\n<!-- 0 -->\n<g id=\"node1\" class=\"node\">\n<title>0</title>\n<path fill=\"#f0b78e\" stroke=\"#000000\" d=\"M1058,-544C1058,-544 950,-544 950,-544 944,-544 938,-538 938,-532 938,-532 938,-473 938,-473 938,-467 944,-461 950,-461 950,-461 1058,-461 1058,-461 1064,-461 1070,-467 1070,-473 1070,-473 1070,-532 1070,-532 1070,-538 1064,-544 1058,-544\"/>\n<text text-anchor=\"start\" x=\"955.5\" y=\"-528.8\" font-family=\"Helvetica,sans-Serif\" font-size=\"14.00\" fill=\"#000000\">duration ≤ 17.0</text>\n<text text-anchor=\"start\" x=\"970.5\" y=\"-513.8\" font-family=\"Helvetica,sans-Serif\" font-size=\"14.00\" fill=\"#000000\">gini = 0.42</text>\n<text text-anchor=\"start\" x=\"956\" y=\"-498.8\" font-family=\"Helvetica,sans-Serif\" font-size=\"14.00\" fill=\"#000000\">samples = 640</text>\n<text text-anchor=\"start\" x=\"946\" y=\"-483.8\" font-family=\"Helvetica,sans-Serif\" font-size=\"14.00\" fill=\"#000000\">value = [448, 192]</text>\n<text text-anchor=\"start\" x=\"961\" y=\"-468.8\" font-family=\"Helvetica,sans-Serif\" font-size=\"14.00\" fill=\"#000000\">class = Good</text>\n</g>\n<!-- 1 -->\n<g id=\"node2\" class=\"node\">\n<title>1</title>\n<path fill=\"#eb9e67\" stroke=\"#000000\" d=\"M804,-425C804,-425 704,-425 704,-425 698,-425 692,-419 692,-413 692,-413 692,-354 692,-354 692,-348 698,-342 704,-342 704,-342 804,-342 804,-342 810,-342 816,-348 816,-354 816,-354 816,-413 816,-413 816,-419 810,-425 804,-425\"/>\n<text text-anchor=\"start\" x=\"719.5\" y=\"-409.8\" font-family=\"Helvetica,sans-Serif\" font-size=\"14.00\" fill=\"#000000\">age ≤ 29.5</text>\n<text text-anchor=\"start\" x=\"716\" y=\"-394.8\" font-family=\"Helvetica,sans-Serif\" font-size=\"14.00\" fill=\"#000000\">gini = 0.306</text>\n<text text-anchor=\"start\" x=\"706\" y=\"-379.8\" font-family=\"Helvetica,sans-Serif\" font-size=\"14.00\" fill=\"#000000\">samples = 270</text>\n<text text-anchor=\"start\" x=\"700\" y=\"-364.8\" font-family=\"Helvetica,sans-Serif\" font-size=\"14.00\" fill=\"#000000\">value = [219, 51]</text>\n<text text-anchor=\"start\" x=\"711\" y=\"-349.8\" font-family=\"Helvetica,sans-Serif\" font-size=\"14.00\" fill=\"#000000\">class = Good</text>\n</g>\n<!-- 0&#45;&gt;1 -->\n<g id=\"edge1\" class=\"edge\">\n<title>0&#45;&gt;1</title>\n<path fill=\"none\" stroke=\"#000000\" d=\"M937.9884,-471.0785C903.3285,-454.5804 860.8177,-434.3452 825.3932,-417.4832\"/>\n<polygon fill=\"#000000\" stroke=\"#000000\" points=\"826.6105,-414.1863 816.0769,-413.0486 823.6019,-420.5068 826.6105,-414.1863\"/>\n<text text-anchor=\"middle\" x=\"824.4408\" y=\"-432.908\" font-family=\"Helvetica,sans-Serif\" font-size=\"14.00\" fill=\"#000000\">True</text>\n</g>\n<!-- 16 -->\n<g id=\"node17\" class=\"node\">\n<title>16</title>\n<path fill=\"#f5cfb3\" stroke=\"#000000\" d=\"M1314,-425C1314,-425 1204,-425 1204,-425 1198,-425 1192,-419 1192,-413 1192,-413 1192,-354 1192,-354 1192,-348 1198,-342 1204,-342 1204,-342 1314,-342 1314,-342 1320,-342 1326,-348 1326,-354 1326,-354 1326,-413 1326,-413 1326,-419 1320,-425 1314,-425\"/>\n<text text-anchor=\"start\" x=\"1200\" y=\"-409.8\" font-family=\"Helvetica,sans-Serif\" font-size=\"14.00\" fill=\"#000000\">amount ≤ 10841.5</text>\n<text text-anchor=\"start\" x=\"1221\" y=\"-394.8\" font-family=\"Helvetica,sans-Serif\" font-size=\"14.00\" fill=\"#000000\">gini = 0.472</text>\n<text text-anchor=\"start\" x=\"1211\" y=\"-379.8\" font-family=\"Helvetica,sans-Serif\" font-size=\"14.00\" fill=\"#000000\">samples = 370</text>\n<text text-anchor=\"start\" x=\"1201\" y=\"-364.8\" font-family=\"Helvetica,sans-Serif\" font-size=\"14.00\" fill=\"#000000\">value = [229, 141]</text>\n<text text-anchor=\"start\" x=\"1216\" y=\"-349.8\" font-family=\"Helvetica,sans-Serif\" font-size=\"14.00\" fill=\"#000000\">class = Good</text>\n</g>\n<!-- 0&#45;&gt;16 -->\n<g id=\"edge16\" class=\"edge\">\n<title>0&#45;&gt;16</title>\n<path fill=\"none\" stroke=\"#000000\" d=\"M1070.0005,-471.6998C1104.4083,-455.6428 1146.6738,-435.9189 1182.5045,-419.1979\"/>\n<polygon fill=\"#000000\" stroke=\"#000000\" points=\"1184.364,-422.1925 1191.9458,-414.792 1181.4038,-415.8492 1184.364,-422.1925\"/>\n<text text-anchor=\"middle\" x=\"1183.4022\" y=\"-434.5868\" font-family=\"Helvetica,sans-Serif\" font-size=\"14.00\" fill=\"#000000\">False</text>\n</g>\n<!-- 2 -->\n<g id=\"node3\" class=\"node\">\n<title>2</title>\n<path fill=\"#f0b68d\" stroke=\"#000000\" d=\"M424.5,-306C424.5,-306 323.5,-306 323.5,-306 317.5,-306 311.5,-300 311.5,-294 311.5,-294 311.5,-235 311.5,-235 311.5,-229 317.5,-223 323.5,-223 323.5,-223 424.5,-223 424.5,-223 430.5,-223 436.5,-229 436.5,-235 436.5,-235 436.5,-294 436.5,-294 436.5,-300 430.5,-306 424.5,-306\"/>\n<text text-anchor=\"start\" x=\"319.5\" y=\"-290.8\" font-family=\"Helvetica,sans-Serif\" font-size=\"14.00\" fill=\"#000000\">amount ≤ 1550.5</text>\n<text text-anchor=\"start\" x=\"336\" y=\"-275.8\" font-family=\"Helvetica,sans-Serif\" font-size=\"14.00\" fill=\"#000000\">gini = 0.418</text>\n<text text-anchor=\"start\" x=\"330\" y=\"-260.8\" font-family=\"Helvetica,sans-Serif\" font-size=\"14.00\" fill=\"#000000\">samples = 94</text>\n<text text-anchor=\"start\" x=\"324\" y=\"-245.8\" font-family=\"Helvetica,sans-Serif\" font-size=\"14.00\" fill=\"#000000\">value = [66, 28]</text>\n<text text-anchor=\"start\" x=\"331\" y=\"-230.8\" font-family=\"Helvetica,sans-Serif\" font-size=\"14.00\" fill=\"#000000\">class = Good</text>\n</g>\n<!-- 1&#45;&gt;2 -->\n<g id=\"edge2\" class=\"edge\">\n<title>1&#45;&gt;2</title>\n<path fill=\"none\" stroke=\"#000000\" d=\"M691.6762,-363.9828C624.409,-342.9175 517.4031,-309.4078 446.4401,-287.1852\"/>\n<polygon fill=\"#000000\" stroke=\"#000000\" points=\"447.263,-283.7753 436.674,-284.1269 445.171,-290.4554 447.263,-283.7753\"/>\n</g>\n<!-- 9 -->\n<g id=\"node10\" class=\"node\">\n<title>9</title>\n<path fill=\"#e99457\" stroke=\"#000000\" d=\"M804.5,-306C804.5,-306 703.5,-306 703.5,-306 697.5,-306 691.5,-300 691.5,-294 691.5,-294 691.5,-235 691.5,-235 691.5,-229 697.5,-223 703.5,-223 703.5,-223 804.5,-223 804.5,-223 810.5,-223 816.5,-229 816.5,-235 816.5,-235 816.5,-294 816.5,-294 816.5,-300 810.5,-306 804.5,-306\"/>\n<text text-anchor=\"start\" x=\"699.5\" y=\"-290.8\" font-family=\"Helvetica,sans-Serif\" font-size=\"14.00\" fill=\"#000000\">amount ≤ 6464.0</text>\n<text text-anchor=\"start\" x=\"716\" y=\"-275.8\" font-family=\"Helvetica,sans-Serif\" font-size=\"14.00\" fill=\"#000000\">gini = 0.227</text>\n<text text-anchor=\"start\" x=\"706\" y=\"-260.8\" font-family=\"Helvetica,sans-Serif\" font-size=\"14.00\" fill=\"#000000\">samples = 176</text>\n<text text-anchor=\"start\" x=\"700\" y=\"-245.8\" font-family=\"Helvetica,sans-Serif\" font-size=\"14.00\" fill=\"#000000\">value = [153, 23]</text>\n<text text-anchor=\"start\" x=\"711\" y=\"-230.8\" font-family=\"Helvetica,sans-Serif\" font-size=\"14.00\" fill=\"#000000\">class = Good</text>\n</g>\n<!-- 1&#45;&gt;9 -->\n<g id=\"edge9\" class=\"edge\">\n<title>1&#45;&gt;9</title>\n<path fill=\"none\" stroke=\"#000000\" d=\"M754,-341.8796C754,-333.6838 754,-324.9891 754,-316.5013\"/>\n<polygon fill=\"#000000\" stroke=\"#000000\" points=\"757.5001,-316.298 754,-306.2981 750.5001,-316.2981 757.5001,-316.298\"/>\n</g>\n<!-- 3 -->\n<g id=\"node4\" class=\"node\">\n<title>3</title>\n<path fill=\"#f6d3b9\" stroke=\"#000000\" d=\"M231,-187C231,-187 139,-187 139,-187 133,-187 127,-181 127,-175 127,-175 127,-116 127,-116 127,-110 133,-104 139,-104 139,-104 231,-104 231,-104 237,-104 243,-110 243,-116 243,-116 243,-175 243,-175 243,-181 237,-187 231,-187\"/>\n<text text-anchor=\"start\" x=\"146\" y=\"-171.8\" font-family=\"Helvetica,sans-Serif\" font-size=\"14.00\" fill=\"#000000\">existcr ≤ 1.5</text>\n<text text-anchor=\"start\" x=\"147\" y=\"-156.8\" font-family=\"Helvetica,sans-Serif\" font-size=\"14.00\" fill=\"#000000\">gini = 0.477</text>\n<text text-anchor=\"start\" x=\"141\" y=\"-141.8\" font-family=\"Helvetica,sans-Serif\" font-size=\"14.00\" fill=\"#000000\">samples = 56</text>\n<text text-anchor=\"start\" x=\"135\" y=\"-126.8\" font-family=\"Helvetica,sans-Serif\" font-size=\"14.00\" fill=\"#000000\">value = [34, 22]</text>\n<text text-anchor=\"start\" x=\"142\" y=\"-111.8\" font-family=\"Helvetica,sans-Serif\" font-size=\"14.00\" fill=\"#000000\">class = Good</text>\n</g>\n<!-- 2&#45;&gt;3 -->\n<g id=\"edge3\" class=\"edge\">\n<title>2&#45;&gt;3</title>\n<path fill=\"none\" stroke=\"#000000\" d=\"M311.3283,-225.04C292.1398,-212.9584 270.9691,-199.6287 251.533,-187.3911\"/>\n<polygon fill=\"#000000\" stroke=\"#000000\" points=\"253.3576,-184.404 243.0304,-182.0377 249.6279,-190.3277 253.3576,-184.404\"/>\n</g>\n<!-- 6 -->\n<g id=\"node7\" class=\"node\">\n<title>6</title>\n<path fill=\"#ea995e\" stroke=\"#000000\" d=\"M415.5,-187C415.5,-187 332.5,-187 332.5,-187 326.5,-187 320.5,-181 320.5,-175 320.5,-175 320.5,-116 320.5,-116 320.5,-110 326.5,-104 332.5,-104 332.5,-104 415.5,-104 415.5,-104 421.5,-104 427.5,-110 427.5,-116 427.5,-116 427.5,-175 427.5,-175 427.5,-181 421.5,-187 415.5,-187\"/>\n<text text-anchor=\"start\" x=\"339.5\" y=\"-171.8\" font-family=\"Helvetica,sans-Serif\" font-size=\"14.00\" fill=\"#000000\">age ≤ 24.5</text>\n<text text-anchor=\"start\" x=\"336\" y=\"-156.8\" font-family=\"Helvetica,sans-Serif\" font-size=\"14.00\" fill=\"#000000\">gini = 0.266</text>\n<text text-anchor=\"start\" x=\"330\" y=\"-141.8\" font-family=\"Helvetica,sans-Serif\" font-size=\"14.00\" fill=\"#000000\">samples = 38</text>\n<text text-anchor=\"start\" x=\"328.5\" y=\"-126.8\" font-family=\"Helvetica,sans-Serif\" font-size=\"14.00\" fill=\"#000000\">value = [32, 6]</text>\n<text text-anchor=\"start\" x=\"331\" y=\"-111.8\" font-family=\"Helvetica,sans-Serif\" font-size=\"14.00\" fill=\"#000000\">class = Good</text>\n</g>\n<!-- 2&#45;&gt;6 -->\n<g id=\"edge6\" class=\"edge\">\n<title>2&#45;&gt;6</title>\n<path fill=\"none\" stroke=\"#000000\" d=\"M374,-222.8796C374,-214.6838 374,-205.9891 374,-197.5013\"/>\n<polygon fill=\"#000000\" stroke=\"#000000\" points=\"377.5001,-197.298 374,-187.2981 370.5001,-197.2981 377.5001,-197.298\"/>\n</g>\n<!-- 4 -->\n<g id=\"node5\" class=\"node\">\n<title>4</title>\n<path fill=\"#f9e3d3\" stroke=\"#000000\" d=\"M104,-68C104,-68 12,-68 12,-68 6,-68 0,-62 0,-56 0,-56 0,-12 0,-12 0,-6 6,0 12,0 12,0 104,0 104,0 110,0 116,-6 116,-12 116,-12 116,-56 116,-56 116,-62 110,-68 104,-68\"/>\n<text text-anchor=\"start\" x=\"20\" y=\"-52.8\" font-family=\"Helvetica,sans-Serif\" font-size=\"14.00\" fill=\"#000000\">gini = 0.492</text>\n<text text-anchor=\"start\" x=\"14\" y=\"-37.8\" font-family=\"Helvetica,sans-Serif\" font-size=\"14.00\" fill=\"#000000\">samples = 48</text>\n<text text-anchor=\"start\" x=\"8\" y=\"-22.8\" font-family=\"Helvetica,sans-Serif\" font-size=\"14.00\" fill=\"#000000\">value = [27, 21]</text>\n<text text-anchor=\"start\" x=\"15\" y=\"-7.8\" font-family=\"Helvetica,sans-Serif\" font-size=\"14.00\" fill=\"#000000\">class = Good</text>\n</g>\n<!-- 3&#45;&gt;4 -->\n<g id=\"edge4\" class=\"edge\">\n<title>3&#45;&gt;4</title>\n<path fill=\"none\" stroke=\"#000000\" d=\"M137.7099,-103.9815C126.9275,-94.5151 115.477,-84.462 104.7187,-75.0168\"/>\n<polygon fill=\"#000000\" stroke=\"#000000\" points=\"106.8507,-72.2311 97.0268,-68.2637 102.2324,-77.4915 106.8507,-72.2311\"/>\n</g>\n<!-- 5 -->\n<g id=\"node6\" class=\"node\">\n<title>5</title>\n<path fill=\"#e99355\" stroke=\"#000000\" d=\"M224,-68C224,-68 146,-68 146,-68 140,-68 134,-62 134,-56 134,-56 134,-12 134,-12 134,-6 140,0 146,0 146,0 224,0 224,0 230,0 236,-6 236,-12 236,-12 236,-56 236,-56 236,-62 230,-68 224,-68\"/>\n<text text-anchor=\"start\" x=\"147\" y=\"-52.8\" font-family=\"Helvetica,sans-Serif\" font-size=\"14.00\" fill=\"#000000\">gini = 0.219</text>\n<text text-anchor=\"start\" x=\"145.5\" y=\"-37.8\" font-family=\"Helvetica,sans-Serif\" font-size=\"14.00\" fill=\"#000000\">samples = 8</text>\n<text text-anchor=\"start\" x=\"143.5\" y=\"-22.8\" font-family=\"Helvetica,sans-Serif\" font-size=\"14.00\" fill=\"#000000\">value = [7, 1]</text>\n<text text-anchor=\"start\" x=\"142\" y=\"-7.8\" font-family=\"Helvetica,sans-Serif\" font-size=\"14.00\" fill=\"#000000\">class = Good</text>\n</g>\n<!-- 3&#45;&gt;5 -->\n<g id=\"edge5\" class=\"edge\">\n<title>3&#45;&gt;5</title>\n<path fill=\"none\" stroke=\"#000000\" d=\"M185,-103.9815C185,-95.618 185,-86.7965 185,-78.3409\"/>\n<polygon fill=\"#000000\" stroke=\"#000000\" points=\"188.5001,-78.2636 185,-68.2637 181.5001,-78.2637 188.5001,-78.2636\"/>\n</g>\n<!-- 7 -->\n<g id=\"node8\" class=\"node\">\n<title>7</title>\n<path fill=\"#e58139\" stroke=\"#000000\" d=\"M349.5,-68C349.5,-68 266.5,-68 266.5,-68 260.5,-68 254.5,-62 254.5,-56 254.5,-56 254.5,-12 254.5,-12 254.5,-6 260.5,0 266.5,0 266.5,0 349.5,0 349.5,0 355.5,0 361.5,-6 361.5,-12 361.5,-12 361.5,-56 361.5,-56 361.5,-62 355.5,-68 349.5,-68\"/>\n<text text-anchor=\"start\" x=\"278.5\" y=\"-52.8\" font-family=\"Helvetica,sans-Serif\" font-size=\"14.00\" fill=\"#000000\">gini = 0.0</text>\n<text text-anchor=\"start\" x=\"264\" y=\"-37.8\" font-family=\"Helvetica,sans-Serif\" font-size=\"14.00\" fill=\"#000000\">samples = 16</text>\n<text text-anchor=\"start\" x=\"262.5\" y=\"-22.8\" font-family=\"Helvetica,sans-Serif\" font-size=\"14.00\" fill=\"#000000\">value = [16, 0]</text>\n<text text-anchor=\"start\" x=\"265\" y=\"-7.8\" font-family=\"Helvetica,sans-Serif\" font-size=\"14.00\" fill=\"#000000\">class = Good</text>\n</g>\n<!-- 6&#45;&gt;7 -->\n<g id=\"edge7\" class=\"edge\">\n<title>6&#45;&gt;7</title>\n<path fill=\"none\" stroke=\"#000000\" d=\"M349.424,-103.9815C344.2014,-95.1585 338.6771,-85.8258 333.4237,-76.9506\"/>\n<polygon fill=\"#000000\" stroke=\"#000000\" points=\"336.3874,-75.0863 328.2816,-68.2637 330.3636,-78.652 336.3874,-75.0863\"/>\n</g>\n<!-- 8 -->\n<g id=\"node9\" class=\"node\">\n<title>8</title>\n<path fill=\"#efb083\" stroke=\"#000000\" d=\"M474.5,-68C474.5,-68 391.5,-68 391.5,-68 385.5,-68 379.5,-62 379.5,-56 379.5,-56 379.5,-12 379.5,-12 379.5,-6 385.5,0 391.5,0 391.5,0 474.5,0 474.5,0 480.5,0 486.5,-6 486.5,-12 486.5,-12 486.5,-56 486.5,-56 486.5,-62 480.5,-68 474.5,-68\"/>\n<text text-anchor=\"start\" x=\"395\" y=\"-52.8\" font-family=\"Helvetica,sans-Serif\" font-size=\"14.00\" fill=\"#000000\">gini = 0.397</text>\n<text text-anchor=\"start\" x=\"389\" y=\"-37.8\" font-family=\"Helvetica,sans-Serif\" font-size=\"14.00\" fill=\"#000000\">samples = 22</text>\n<text text-anchor=\"start\" x=\"387.5\" y=\"-22.8\" font-family=\"Helvetica,sans-Serif\" font-size=\"14.00\" fill=\"#000000\">value = [16, 6]</text>\n<text text-anchor=\"start\" x=\"390\" y=\"-7.8\" font-family=\"Helvetica,sans-Serif\" font-size=\"14.00\" fill=\"#000000\">class = Good</text>\n</g>\n<!-- 6&#45;&gt;8 -->\n<g id=\"edge8\" class=\"edge\">\n<title>6&#45;&gt;8</title>\n<path fill=\"none\" stroke=\"#000000\" d=\"M395.9694,-103.9815C400.5895,-95.2504 405.4736,-86.0202 410.126,-77.2281\"/>\n<polygon fill=\"#000000\" stroke=\"#000000\" points=\"413.2859,-78.7395 414.8694,-68.2637 407.0987,-75.4655 413.2859,-78.7395\"/>\n</g>\n<!-- 10 -->\n<g id=\"node11\" class=\"node\">\n<title>10</title>\n<path fill=\"#e89253\" stroke=\"#000000\" d=\"M739.5,-187C739.5,-187 638.5,-187 638.5,-187 632.5,-187 626.5,-181 626.5,-175 626.5,-175 626.5,-116 626.5,-116 626.5,-110 632.5,-104 638.5,-104 638.5,-104 739.5,-104 739.5,-104 745.5,-104 751.5,-110 751.5,-116 751.5,-116 751.5,-175 751.5,-175 751.5,-181 745.5,-187 739.5,-187\"/>\n<text text-anchor=\"start\" x=\"634.5\" y=\"-171.8\" font-family=\"Helvetica,sans-Serif\" font-size=\"14.00\" fill=\"#000000\">amount ≤ 1373.0</text>\n<text text-anchor=\"start\" x=\"651\" y=\"-156.8\" font-family=\"Helvetica,sans-Serif\" font-size=\"14.00\" fill=\"#000000\">gini = 0.206</text>\n<text text-anchor=\"start\" x=\"641\" y=\"-141.8\" font-family=\"Helvetica,sans-Serif\" font-size=\"14.00\" fill=\"#000000\">samples = 172</text>\n<text text-anchor=\"start\" x=\"635\" y=\"-126.8\" font-family=\"Helvetica,sans-Serif\" font-size=\"14.00\" fill=\"#000000\">value = [152, 20]</text>\n<text text-anchor=\"start\" x=\"646\" y=\"-111.8\" font-family=\"Helvetica,sans-Serif\" font-size=\"14.00\" fill=\"#000000\">class = Good</text>\n</g>\n<!-- 9&#45;&gt;10 -->\n<g id=\"edge10\" class=\"edge\">\n<title>9&#45;&gt;10</title>\n<path fill=\"none\" stroke=\"#000000\" d=\"M731.2662,-222.8796C726.5435,-214.2335 721.5176,-205.0322 716.641,-196.1042\"/>\n<polygon fill=\"#000000\" stroke=\"#000000\" points=\"719.6963,-194.3964 711.8309,-187.2981 713.553,-197.752 719.6963,-194.3964\"/>\n</g>\n<!-- 13 -->\n<g id=\"node14\" class=\"node\">\n<title>13</title>\n<path fill=\"#7bbeee\" stroke=\"#000000\" d=\"M856.5,-187C856.5,-187 781.5,-187 781.5,-187 775.5,-187 769.5,-181 769.5,-175 769.5,-175 769.5,-116 769.5,-116 769.5,-110 775.5,-104 781.5,-104 781.5,-104 856.5,-104 856.5,-104 862.5,-104 868.5,-110 868.5,-116 868.5,-116 868.5,-175 868.5,-175 868.5,-181 862.5,-187 856.5,-187\"/>\n<text text-anchor=\"start\" x=\"780\" y=\"-171.8\" font-family=\"Helvetica,sans-Serif\" font-size=\"14.00\" fill=\"#000000\">existcr ≤ 1.5</text>\n<text text-anchor=\"start\" x=\"781\" y=\"-156.8\" font-family=\"Helvetica,sans-Serif\" font-size=\"14.00\" fill=\"#000000\">gini = 0.375</text>\n<text text-anchor=\"start\" x=\"779.5\" y=\"-141.8\" font-family=\"Helvetica,sans-Serif\" font-size=\"14.00\" fill=\"#000000\">samples = 4</text>\n<text text-anchor=\"start\" x=\"777.5\" y=\"-126.8\" font-family=\"Helvetica,sans-Serif\" font-size=\"14.00\" fill=\"#000000\">value = [1, 3]</text>\n<text text-anchor=\"start\" x=\"781\" y=\"-111.8\" font-family=\"Helvetica,sans-Serif\" font-size=\"14.00\" fill=\"#000000\">class = Bad</text>\n</g>\n<!-- 9&#45;&gt;13 -->\n<g id=\"edge13\" class=\"edge\">\n<title>9&#45;&gt;13</title>\n<path fill=\"none\" stroke=\"#000000\" d=\"M776.7338,-222.8796C781.4565,-214.2335 786.4824,-205.0322 791.359,-196.1042\"/>\n<polygon fill=\"#000000\" stroke=\"#000000\" points=\"794.447,-197.752 796.1691,-187.2981 788.3037,-194.3964 794.447,-197.752\"/>\n</g>\n<!-- 11 -->\n<g id=\"node12\" class=\"node\">\n<title>11</title>\n<path fill=\"#eb9e66\" stroke=\"#000000\" d=\"M609,-68C609,-68 517,-68 517,-68 511,-68 505,-62 505,-56 505,-56 505,-12 505,-12 505,-6 511,0 517,0 517,0 609,0 609,0 615,0 621,-6 621,-12 621,-12 621,-56 621,-56 621,-62 615,-68 609,-68\"/>\n<text text-anchor=\"start\" x=\"525\" y=\"-52.8\" font-family=\"Helvetica,sans-Serif\" font-size=\"14.00\" fill=\"#000000\">gini = 0.304</text>\n<text text-anchor=\"start\" x=\"519\" y=\"-37.8\" font-family=\"Helvetica,sans-Serif\" font-size=\"14.00\" fill=\"#000000\">samples = 75</text>\n<text text-anchor=\"start\" x=\"513\" y=\"-22.8\" font-family=\"Helvetica,sans-Serif\" font-size=\"14.00\" fill=\"#000000\">value = [61, 14]</text>\n<text text-anchor=\"start\" x=\"520\" y=\"-7.8\" font-family=\"Helvetica,sans-Serif\" font-size=\"14.00\" fill=\"#000000\">class = Good</text>\n</g>\n<!-- 10&#45;&gt;11 -->\n<g id=\"edge11\" class=\"edge\">\n<title>10&#45;&gt;11</title>\n<path fill=\"none\" stroke=\"#000000\" d=\"M642.0823,-103.9815C631.3848,-94.5151 620.0244,-84.462 609.3508,-75.0168\"/>\n<polygon fill=\"#000000\" stroke=\"#000000\" points=\"611.5278,-72.2696 601.7195,-68.2637 606.8889,-77.5118 611.5278,-72.2696\"/>\n</g>\n<!-- 12 -->\n<g id=\"node13\" class=\"node\">\n<title>12</title>\n<path fill=\"#e78946\" stroke=\"#000000\" d=\"M734.5,-68C734.5,-68 651.5,-68 651.5,-68 645.5,-68 639.5,-62 639.5,-56 639.5,-56 639.5,-12 639.5,-12 639.5,-6 645.5,0 651.5,0 651.5,0 734.5,0 734.5,0 740.5,0 746.5,-6 746.5,-12 746.5,-12 746.5,-56 746.5,-56 746.5,-62 740.5,-68 734.5,-68\"/>\n<text text-anchor=\"start\" x=\"655\" y=\"-52.8\" font-family=\"Helvetica,sans-Serif\" font-size=\"14.00\" fill=\"#000000\">gini = 0.116</text>\n<text text-anchor=\"start\" x=\"649\" y=\"-37.8\" font-family=\"Helvetica,sans-Serif\" font-size=\"14.00\" fill=\"#000000\">samples = 97</text>\n<text text-anchor=\"start\" x=\"647.5\" y=\"-22.8\" font-family=\"Helvetica,sans-Serif\" font-size=\"14.00\" fill=\"#000000\">value = [91, 6]</text>\n<text text-anchor=\"start\" x=\"650\" y=\"-7.8\" font-family=\"Helvetica,sans-Serif\" font-size=\"14.00\" fill=\"#000000\">class = Good</text>\n</g>\n<!-- 10&#45;&gt;12 -->\n<g id=\"edge12\" class=\"edge\">\n<title>10&#45;&gt;12</title>\n<path fill=\"none\" stroke=\"#000000\" d=\"M690.4895,-103.9815C690.7895,-95.618 691.106,-86.7965 691.4093,-78.3409\"/>\n<polygon fill=\"#000000\" stroke=\"#000000\" points=\"694.91,-78.3828 691.7708,-68.2637 687.9145,-78.1317 694.91,-78.3828\"/>\n</g>\n<!-- 14 -->\n<g id=\"node15\" class=\"node\">\n<title>14</title>\n<path fill=\"#399de5\" stroke=\"#000000\" d=\"M851.5,-68C851.5,-68 776.5,-68 776.5,-68 770.5,-68 764.5,-62 764.5,-56 764.5,-56 764.5,-12 764.5,-12 764.5,-6 770.5,0 776.5,0 776.5,0 851.5,0 851.5,0 857.5,0 863.5,-6 863.5,-12 863.5,-12 863.5,-56 863.5,-56 863.5,-62 857.5,-68 851.5,-68\"/>\n<text text-anchor=\"start\" x=\"784.5\" y=\"-52.8\" font-family=\"Helvetica,sans-Serif\" font-size=\"14.00\" fill=\"#000000\">gini = 0.0</text>\n<text text-anchor=\"start\" x=\"774.5\" y=\"-37.8\" font-family=\"Helvetica,sans-Serif\" font-size=\"14.00\" fill=\"#000000\">samples = 3</text>\n<text text-anchor=\"start\" x=\"772.5\" y=\"-22.8\" font-family=\"Helvetica,sans-Serif\" font-size=\"14.00\" fill=\"#000000\">value = [0, 3]</text>\n<text text-anchor=\"start\" x=\"776\" y=\"-7.8\" font-family=\"Helvetica,sans-Serif\" font-size=\"14.00\" fill=\"#000000\">class = Bad</text>\n</g>\n<!-- 13&#45;&gt;14 -->\n<g id=\"edge14\" class=\"edge\">\n<title>13&#45;&gt;14</title>\n<path fill=\"none\" stroke=\"#000000\" d=\"M817.1382,-103.9815C816.7631,-95.618 816.3676,-86.7965 815.9884,-78.3409\"/>\n<polygon fill=\"#000000\" stroke=\"#000000\" points=\"819.481,-78.0968 815.5365,-68.2637 812.4881,-78.4105 819.481,-78.0968\"/>\n</g>\n<!-- 15 -->\n<g id=\"node16\" class=\"node\">\n<title>15</title>\n<path fill=\"#e58139\" stroke=\"#000000\" d=\"M972,-68C972,-68 894,-68 894,-68 888,-68 882,-62 882,-56 882,-56 882,-12 882,-12 882,-6 888,0 894,0 894,0 972,0 972,0 978,0 984,-6 984,-12 984,-12 984,-56 984,-56 984,-62 978,-68 972,-68\"/>\n<text text-anchor=\"start\" x=\"903.5\" y=\"-52.8\" font-family=\"Helvetica,sans-Serif\" font-size=\"14.00\" fill=\"#000000\">gini = 0.0</text>\n<text text-anchor=\"start\" x=\"893.5\" y=\"-37.8\" font-family=\"Helvetica,sans-Serif\" font-size=\"14.00\" fill=\"#000000\">samples = 1</text>\n<text text-anchor=\"start\" x=\"891.5\" y=\"-22.8\" font-family=\"Helvetica,sans-Serif\" font-size=\"14.00\" fill=\"#000000\">value = [1, 0]</text>\n<text text-anchor=\"start\" x=\"890\" y=\"-7.8\" font-family=\"Helvetica,sans-Serif\" font-size=\"14.00\" fill=\"#000000\">class = Good</text>\n</g>\n<!-- 13&#45;&gt;15 -->\n<g id=\"edge15\" class=\"edge\">\n<title>13&#45;&gt;15</title>\n<path fill=\"none\" stroke=\"#000000\" d=\"M861.4494,-103.9815C871.0341,-94.607 881.207,-84.6572 890.7821,-75.2921\"/>\n<polygon fill=\"#000000\" stroke=\"#000000\" points=\"893.2663,-77.7581 897.9681,-68.2637 888.3717,-72.7538 893.2663,-77.7581\"/>\n</g>\n<!-- 17 -->\n<g id=\"node18\" class=\"node\">\n<title>17</title>\n<path fill=\"#f4c9aa\" stroke=\"#000000\" d=\"M1313,-306C1313,-306 1205,-306 1205,-306 1199,-306 1193,-300 1193,-294 1193,-294 1193,-235 1193,-235 1193,-229 1199,-223 1205,-223 1205,-223 1313,-223 1313,-223 1319,-223 1325,-229 1325,-235 1325,-235 1325,-294 1325,-294 1325,-300 1319,-306 1313,-306\"/>\n<text text-anchor=\"start\" x=\"1210.5\" y=\"-290.8\" font-family=\"Helvetica,sans-Serif\" font-size=\"14.00\" fill=\"#000000\">duration ≤ 34.5</text>\n<text text-anchor=\"start\" x=\"1221\" y=\"-275.8\" font-family=\"Helvetica,sans-Serif\" font-size=\"14.00\" fill=\"#000000\">gini = 0.463</text>\n<text text-anchor=\"start\" x=\"1211\" y=\"-260.8\" font-family=\"Helvetica,sans-Serif\" font-size=\"14.00\" fill=\"#000000\">samples = 352</text>\n<text text-anchor=\"start\" x=\"1201\" y=\"-245.8\" font-family=\"Helvetica,sans-Serif\" font-size=\"14.00\" fill=\"#000000\">value = [224, 128]</text>\n<text text-anchor=\"start\" x=\"1216\" y=\"-230.8\" font-family=\"Helvetica,sans-Serif\" font-size=\"14.00\" fill=\"#000000\">class = Good</text>\n</g>\n<!-- 16&#45;&gt;17 -->\n<g id=\"edge17\" class=\"edge\">\n<title>16&#45;&gt;17</title>\n<path fill=\"none\" stroke=\"#000000\" d=\"M1259,-341.8796C1259,-333.6838 1259,-324.9891 1259,-316.5013\"/>\n<polygon fill=\"#000000\" stroke=\"#000000\" points=\"1262.5001,-316.298 1259,-306.2981 1255.5001,-316.2981 1262.5001,-316.298\"/>\n</g>\n<!-- 24 -->\n<g id=\"node25\" class=\"node\">\n<title>24</title>\n<path fill=\"#85c3ef\" stroke=\"#000000\" d=\"M1507.5,-306C1507.5,-306 1418.5,-306 1418.5,-306 1412.5,-306 1406.5,-300 1406.5,-294 1406.5,-294 1406.5,-235 1406.5,-235 1406.5,-229 1412.5,-223 1418.5,-223 1418.5,-223 1507.5,-223 1507.5,-223 1513.5,-223 1519.5,-229 1519.5,-235 1519.5,-235 1519.5,-294 1519.5,-294 1519.5,-300 1513.5,-306 1507.5,-306\"/>\n<text text-anchor=\"start\" x=\"1414.5\" y=\"-290.8\" font-family=\"Helvetica,sans-Serif\" font-size=\"14.00\" fill=\"#000000\">duration ≤ 37.5</text>\n<text text-anchor=\"start\" x=\"1425\" y=\"-275.8\" font-family=\"Helvetica,sans-Serif\" font-size=\"14.00\" fill=\"#000000\">gini = 0.401</text>\n<text text-anchor=\"start\" x=\"1419\" y=\"-260.8\" font-family=\"Helvetica,sans-Serif\" font-size=\"14.00\" fill=\"#000000\">samples = 18</text>\n<text text-anchor=\"start\" x=\"1417.5\" y=\"-245.8\" font-family=\"Helvetica,sans-Serif\" font-size=\"14.00\" fill=\"#000000\">value = [5, 13]</text>\n<text text-anchor=\"start\" x=\"1425\" y=\"-230.8\" font-family=\"Helvetica,sans-Serif\" font-size=\"14.00\" fill=\"#000000\">class = Bad</text>\n</g>\n<!-- 16&#45;&gt;24 -->\n<g id=\"edge24\" class=\"edge\">\n<title>16&#45;&gt;24</title>\n<path fill=\"none\" stroke=\"#000000\" d=\"M1326.0798,-344.3701C1349.0443,-330.9741 1374.6946,-316.0115 1397.5303,-302.6907\"/>\n<polygon fill=\"#000000\" stroke=\"#000000\" points=\"1399.5882,-305.5422 1406.4625,-297.4802 1396.0611,-299.4958 1399.5882,-305.5422\"/>\n</g>\n<!-- 18 -->\n<g id=\"node19\" class=\"node\">\n<title>18</title>\n<path fill=\"#f1bd98\" stroke=\"#000000\" d=\"M1245.5,-187C1245.5,-187 1144.5,-187 1144.5,-187 1138.5,-187 1132.5,-181 1132.5,-175 1132.5,-175 1132.5,-116 1132.5,-116 1132.5,-110 1138.5,-104 1144.5,-104 1144.5,-104 1245.5,-104 1245.5,-104 1251.5,-104 1257.5,-110 1257.5,-116 1257.5,-116 1257.5,-175 1257.5,-175 1257.5,-181 1251.5,-187 1245.5,-187\"/>\n<text text-anchor=\"start\" x=\"1140.5\" y=\"-171.8\" font-family=\"Helvetica,sans-Serif\" font-size=\"14.00\" fill=\"#000000\">amount ≤ 1443.5</text>\n<text text-anchor=\"start\" x=\"1157\" y=\"-156.8\" font-family=\"Helvetica,sans-Serif\" font-size=\"14.00\" fill=\"#000000\">gini = 0.438</text>\n<text text-anchor=\"start\" x=\"1147\" y=\"-141.8\" font-family=\"Helvetica,sans-Serif\" font-size=\"14.00\" fill=\"#000000\">samples = 259</text>\n<text text-anchor=\"start\" x=\"1141\" y=\"-126.8\" font-family=\"Helvetica,sans-Serif\" font-size=\"14.00\" fill=\"#000000\">value = [175, 84]</text>\n<text text-anchor=\"start\" x=\"1152\" y=\"-111.8\" font-family=\"Helvetica,sans-Serif\" font-size=\"14.00\" fill=\"#000000\">class = Good</text>\n</g>\n<!-- 17&#45;&gt;18 -->\n<g id=\"edge18\" class=\"edge\">\n<title>17&#45;&gt;18</title>\n<path fill=\"none\" stroke=\"#000000\" d=\"M1236.6159,-222.8796C1232.0144,-214.3236 1227.1204,-205.2238 1222.3658,-196.3833\"/>\n<polygon fill=\"#000000\" stroke=\"#000000\" points=\"1225.2988,-194.4473 1217.4796,-187.2981 1219.1338,-197.763 1225.2988,-194.4473\"/>\n</g>\n<!-- 21 -->\n<g id=\"node22\" class=\"node\">\n<title>21</title>\n<path fill=\"#fcf2eb\" stroke=\"#000000\" d=\"M1380,-187C1380,-187 1288,-187 1288,-187 1282,-187 1276,-181 1276,-175 1276,-175 1276,-116 1276,-116 1276,-110 1282,-104 1288,-104 1288,-104 1380,-104 1380,-104 1386,-104 1392,-110 1392,-116 1392,-116 1392,-175 1392,-175 1392,-181 1386,-187 1380,-187\"/>\n<text text-anchor=\"start\" x=\"1299.5\" y=\"-171.8\" font-family=\"Helvetica,sans-Serif\" font-size=\"14.00\" fill=\"#000000\">age ≤ 26.5</text>\n<text text-anchor=\"start\" x=\"1296\" y=\"-156.8\" font-family=\"Helvetica,sans-Serif\" font-size=\"14.00\" fill=\"#000000\">gini = 0.499</text>\n<text text-anchor=\"start\" x=\"1290\" y=\"-141.8\" font-family=\"Helvetica,sans-Serif\" font-size=\"14.00\" fill=\"#000000\">samples = 93</text>\n<text text-anchor=\"start\" x=\"1284\" y=\"-126.8\" font-family=\"Helvetica,sans-Serif\" font-size=\"14.00\" fill=\"#000000\">value = [49, 44]</text>\n<text text-anchor=\"start\" x=\"1291\" y=\"-111.8\" font-family=\"Helvetica,sans-Serif\" font-size=\"14.00\" fill=\"#000000\">class = Good</text>\n</g>\n<!-- 17&#45;&gt;21 -->\n<g id=\"edge21\" class=\"edge\">\n<title>17&#45;&gt;21</title>\n<path fill=\"none\" stroke=\"#000000\" d=\"M1285.2314,-222.8796C1290.7373,-214.1434 1296.6006,-204.8404 1302.2824,-195.8253\"/>\n<polygon fill=\"#000000\" stroke=\"#000000\" points=\"1305.2857,-197.6242 1307.6567,-187.2981 1299.3637,-193.8919 1305.2857,-197.6242\"/>\n</g>\n<!-- 19 -->\n<g id=\"node20\" class=\"node\">\n<title>19</title>\n<path fill=\"#edf6fd\" stroke=\"#000000\" d=\"M1106,-68C1106,-68 1014,-68 1014,-68 1008,-68 1002,-62 1002,-56 1002,-56 1002,-12 1002,-12 1002,-6 1008,0 1014,0 1014,0 1106,0 1106,0 1112,0 1118,-6 1118,-12 1118,-12 1118,-56 1118,-56 1118,-62 1112,-68 1106,-68\"/>\n<text text-anchor=\"start\" x=\"1022\" y=\"-52.8\" font-family=\"Helvetica,sans-Serif\" font-size=\"14.00\" fill=\"#000000\">gini = 0.499</text>\n<text text-anchor=\"start\" x=\"1016\" y=\"-37.8\" font-family=\"Helvetica,sans-Serif\" font-size=\"14.00\" fill=\"#000000\">samples = 42</text>\n<text text-anchor=\"start\" x=\"1010\" y=\"-22.8\" font-family=\"Helvetica,sans-Serif\" font-size=\"14.00\" fill=\"#000000\">value = [20, 22]</text>\n<text text-anchor=\"start\" x=\"1022\" y=\"-7.8\" font-family=\"Helvetica,sans-Serif\" font-size=\"14.00\" fill=\"#000000\">class = Bad</text>\n</g>\n<!-- 18&#45;&gt;19 -->\n<g id=\"edge19\" class=\"edge\">\n<title>18&#45;&gt;19</title>\n<path fill=\"none\" stroke=\"#000000\" d=\"M1144.731,-103.9815C1133.1582,-94.4232 1120.8611,-84.2668 1109.3287,-74.7419\"/>\n<polygon fill=\"#000000\" stroke=\"#000000\" points=\"1111.4243,-71.9332 1101.4852,-68.2637 1106.9666,-77.3304 1111.4243,-71.9332\"/>\n</g>\n<!-- 20 -->\n<g id=\"node21\" class=\"node\">\n<title>20</title>\n<path fill=\"#efb388\" stroke=\"#000000\" d=\"M1248,-68C1248,-68 1148,-68 1148,-68 1142,-68 1136,-62 1136,-56 1136,-56 1136,-12 1136,-12 1136,-6 1142,0 1148,0 1148,0 1248,0 1248,0 1254,0 1260,-6 1260,-12 1260,-12 1260,-56 1260,-56 1260,-62 1254,-68 1248,-68\"/>\n<text text-anchor=\"start\" x=\"1160\" y=\"-52.8\" font-family=\"Helvetica,sans-Serif\" font-size=\"14.00\" fill=\"#000000\">gini = 0.408</text>\n<text text-anchor=\"start\" x=\"1150\" y=\"-37.8\" font-family=\"Helvetica,sans-Serif\" font-size=\"14.00\" fill=\"#000000\">samples = 217</text>\n<text text-anchor=\"start\" x=\"1144\" y=\"-22.8\" font-family=\"Helvetica,sans-Serif\" font-size=\"14.00\" fill=\"#000000\">value = [155, 62]</text>\n<text text-anchor=\"start\" x=\"1155\" y=\"-7.8\" font-family=\"Helvetica,sans-Serif\" font-size=\"14.00\" fill=\"#000000\">class = Good</text>\n</g>\n<!-- 18&#45;&gt;20 -->\n<g id=\"edge20\" class=\"edge\">\n<title>18&#45;&gt;20</title>\n<path fill=\"none\" stroke=\"#000000\" d=\"M1196.1171,-103.9815C1196.3421,-95.618 1196.5795,-86.7965 1196.807,-78.3409\"/>\n<polygon fill=\"#000000\" stroke=\"#000000\" points=\"1200.3078,-78.3542 1197.0781,-68.2637 1193.3103,-78.1659 1200.3078,-78.3542\"/>\n</g>\n<!-- 22 -->\n<g id=\"node23\" class=\"node\">\n<title>22</title>\n<path fill=\"#83c2ef\" stroke=\"#000000\" d=\"M1373.5,-68C1373.5,-68 1290.5,-68 1290.5,-68 1284.5,-68 1278.5,-62 1278.5,-56 1278.5,-56 1278.5,-12 1278.5,-12 1278.5,-6 1284.5,0 1290.5,0 1290.5,0 1373.5,0 1373.5,0 1379.5,0 1385.5,-6 1385.5,-12 1385.5,-12 1385.5,-56 1385.5,-56 1385.5,-62 1379.5,-68 1373.5,-68\"/>\n<text text-anchor=\"start\" x=\"1294\" y=\"-52.8\" font-family=\"Helvetica,sans-Serif\" font-size=\"14.00\" fill=\"#000000\">gini = 0.397</text>\n<text text-anchor=\"start\" x=\"1288\" y=\"-37.8\" font-family=\"Helvetica,sans-Serif\" font-size=\"14.00\" fill=\"#000000\">samples = 22</text>\n<text text-anchor=\"start\" x=\"1286.5\" y=\"-22.8\" font-family=\"Helvetica,sans-Serif\" font-size=\"14.00\" fill=\"#000000\">value = [6, 16]</text>\n<text text-anchor=\"start\" x=\"1294\" y=\"-7.8\" font-family=\"Helvetica,sans-Serif\" font-size=\"14.00\" fill=\"#000000\">class = Bad</text>\n</g>\n<!-- 21&#45;&gt;22 -->\n<g id=\"edge22\" class=\"edge\">\n<title>21&#45;&gt;22</title>\n<path fill=\"none\" stroke=\"#000000\" d=\"M1333.2553,-103.9815C1333.1053,-95.618 1332.947,-86.7965 1332.7954,-78.3409\"/>\n<polygon fill=\"#000000\" stroke=\"#000000\" points=\"1336.2935,-78.1993 1332.6146,-68.2637 1329.2946,-78.3249 1336.2935,-78.1993\"/>\n</g>\n<!-- 23 -->\n<g id=\"node24\" class=\"node\">\n<title>23</title>\n<path fill=\"#f6d3ba\" stroke=\"#000000\" d=\"M1508,-68C1508,-68 1416,-68 1416,-68 1410,-68 1404,-62 1404,-56 1404,-56 1404,-12 1404,-12 1404,-6 1410,0 1416,0 1416,0 1508,0 1508,0 1514,0 1520,-6 1520,-12 1520,-12 1520,-56 1520,-56 1520,-62 1514,-68 1508,-68\"/>\n<text text-anchor=\"start\" x=\"1424\" y=\"-52.8\" font-family=\"Helvetica,sans-Serif\" font-size=\"14.00\" fill=\"#000000\">gini = 0.478</text>\n<text text-anchor=\"start\" x=\"1418\" y=\"-37.8\" font-family=\"Helvetica,sans-Serif\" font-size=\"14.00\" fill=\"#000000\">samples = 71</text>\n<text text-anchor=\"start\" x=\"1412\" y=\"-22.8\" font-family=\"Helvetica,sans-Serif\" font-size=\"14.00\" fill=\"#000000\">value = [43, 28]</text>\n<text text-anchor=\"start\" x=\"1419\" y=\"-7.8\" font-family=\"Helvetica,sans-Serif\" font-size=\"14.00\" fill=\"#000000\">class = Good</text>\n</g>\n<!-- 21&#45;&gt;23 -->\n<g id=\"edge23\" class=\"edge\">\n<title>21&#45;&gt;23</title>\n<path fill=\"none\" stroke=\"#000000\" d=\"M1381.6625,-103.9815C1392.5297,-94.5151 1404.0705,-84.462 1414.9135,-75.0168\"/>\n<polygon fill=\"#000000\" stroke=\"#000000\" points=\"1417.4245,-77.4712 1422.6659,-68.2637 1412.8266,-72.1929 1417.4245,-77.4712\"/>\n</g>\n<!-- 25 -->\n<g id=\"node26\" class=\"node\">\n<title>25</title>\n<path fill=\"#399de5\" stroke=\"#000000\" d=\"M1500.5,-179.5C1500.5,-179.5 1425.5,-179.5 1425.5,-179.5 1419.5,-179.5 1413.5,-173.5 1413.5,-167.5 1413.5,-167.5 1413.5,-123.5 1413.5,-123.5 1413.5,-117.5 1419.5,-111.5 1425.5,-111.5 1425.5,-111.5 1500.5,-111.5 1500.5,-111.5 1506.5,-111.5 1512.5,-117.5 1512.5,-123.5 1512.5,-123.5 1512.5,-167.5 1512.5,-167.5 1512.5,-173.5 1506.5,-179.5 1500.5,-179.5\"/>\n<text text-anchor=\"start\" x=\"1433.5\" y=\"-164.3\" font-family=\"Helvetica,sans-Serif\" font-size=\"14.00\" fill=\"#000000\">gini = 0.0</text>\n<text text-anchor=\"start\" x=\"1423.5\" y=\"-149.3\" font-family=\"Helvetica,sans-Serif\" font-size=\"14.00\" fill=\"#000000\">samples = 7</text>\n<text text-anchor=\"start\" x=\"1421.5\" y=\"-134.3\" font-family=\"Helvetica,sans-Serif\" font-size=\"14.00\" fill=\"#000000\">value = [0, 7]</text>\n<text text-anchor=\"start\" x=\"1425\" y=\"-119.3\" font-family=\"Helvetica,sans-Serif\" font-size=\"14.00\" fill=\"#000000\">class = Bad</text>\n</g>\n<!-- 24&#45;&gt;25 -->\n<g id=\"edge25\" class=\"edge\">\n<title>24&#45;&gt;25</title>\n<path fill=\"none\" stroke=\"#000000\" d=\"M1463,-222.8796C1463,-212.2134 1463,-200.7021 1463,-189.9015\"/>\n<polygon fill=\"#000000\" stroke=\"#000000\" points=\"1466.5001,-189.8149 1463,-179.8149 1459.5001,-189.815 1466.5001,-189.8149\"/>\n</g>\n<!-- 26 -->\n<g id=\"node27\" class=\"node\">\n<title>26</title>\n<path fill=\"#deeffb\" stroke=\"#000000\" d=\"M1628,-187C1628,-187 1548,-187 1548,-187 1542,-187 1536,-181 1536,-175 1536,-175 1536,-116 1536,-116 1536,-110 1542,-104 1548,-104 1548,-104 1628,-104 1628,-104 1634,-104 1640,-110 1640,-116 1640,-116 1640,-175 1640,-175 1640,-181 1634,-187 1628,-187\"/>\n<text text-anchor=\"start\" x=\"1553.5\" y=\"-171.8\" font-family=\"Helvetica,sans-Serif\" font-size=\"14.00\" fill=\"#000000\">age ≤ 30.5</text>\n<text text-anchor=\"start\" x=\"1550\" y=\"-156.8\" font-family=\"Helvetica,sans-Serif\" font-size=\"14.00\" fill=\"#000000\">gini = 0.496</text>\n<text text-anchor=\"start\" x=\"1544\" y=\"-141.8\" font-family=\"Helvetica,sans-Serif\" font-size=\"14.00\" fill=\"#000000\">samples = 11</text>\n<text text-anchor=\"start\" x=\"1546.5\" y=\"-126.8\" font-family=\"Helvetica,sans-Serif\" font-size=\"14.00\" fill=\"#000000\">value = [5, 6]</text>\n<text text-anchor=\"start\" x=\"1550\" y=\"-111.8\" font-family=\"Helvetica,sans-Serif\" font-size=\"14.00\" fill=\"#000000\">class = Bad</text>\n</g>\n<!-- 24&#45;&gt;26 -->\n<g id=\"edge26\" class=\"edge\">\n<title>24&#45;&gt;26</title>\n<path fill=\"none\" stroke=\"#000000\" d=\"M1506.7189,-222.8796C1516.3686,-213.6931 1526.6766,-203.8798 1536.5991,-194.4336\"/>\n<polygon fill=\"#000000\" stroke=\"#000000\" points=\"1539.265,-196.7282 1544.0945,-187.2981 1534.4384,-191.6582 1539.265,-196.7282\"/>\n</g>\n<!-- 27 -->\n<g id=\"node28\" class=\"node\">\n<title>27</title>\n<path fill=\"#61b1ea\" stroke=\"#000000\" d=\"M1625.5,-68C1625.5,-68 1550.5,-68 1550.5,-68 1544.5,-68 1538.5,-62 1538.5,-56 1538.5,-56 1538.5,-12 1538.5,-12 1538.5,-6 1544.5,0 1550.5,0 1550.5,0 1625.5,0 1625.5,0 1631.5,0 1637.5,-6 1637.5,-12 1637.5,-12 1637.5,-56 1637.5,-56 1637.5,-62 1631.5,-68 1625.5,-68\"/>\n<text text-anchor=\"start\" x=\"1550\" y=\"-52.8\" font-family=\"Helvetica,sans-Serif\" font-size=\"14.00\" fill=\"#000000\">gini = 0.278</text>\n<text text-anchor=\"start\" x=\"1548.5\" y=\"-37.8\" font-family=\"Helvetica,sans-Serif\" font-size=\"14.00\" fill=\"#000000\">samples = 6</text>\n<text text-anchor=\"start\" x=\"1546.5\" y=\"-22.8\" font-family=\"Helvetica,sans-Serif\" font-size=\"14.00\" fill=\"#000000\">value = [1, 5]</text>\n<text text-anchor=\"start\" x=\"1550\" y=\"-7.8\" font-family=\"Helvetica,sans-Serif\" font-size=\"14.00\" fill=\"#000000\">class = Bad</text>\n</g>\n<!-- 26&#45;&gt;27 -->\n<g id=\"edge27\" class=\"edge\">\n<title>26&#45;&gt;27</title>\n<path fill=\"none\" stroke=\"#000000\" d=\"M1588,-103.9815C1588,-95.618 1588,-86.7965 1588,-78.3409\"/>\n<polygon fill=\"#000000\" stroke=\"#000000\" points=\"1591.5001,-78.2636 1588,-68.2637 1584.5001,-78.2637 1591.5001,-78.2636\"/>\n</g>\n<!-- 28 -->\n<g id=\"node29\" class=\"node\">\n<title>28</title>\n<path fill=\"#eca06a\" stroke=\"#000000\" d=\"M1746,-68C1746,-68 1668,-68 1668,-68 1662,-68 1656,-62 1656,-56 1656,-56 1656,-12 1656,-12 1656,-6 1662,0 1668,0 1668,0 1746,0 1746,0 1752,0 1758,-6 1758,-12 1758,-12 1758,-56 1758,-56 1758,-62 1752,-68 1746,-68\"/>\n<text text-anchor=\"start\" x=\"1673.5\" y=\"-52.8\" font-family=\"Helvetica,sans-Serif\" font-size=\"14.00\" fill=\"#000000\">gini = 0.32</text>\n<text text-anchor=\"start\" x=\"1667.5\" y=\"-37.8\" font-family=\"Helvetica,sans-Serif\" font-size=\"14.00\" fill=\"#000000\">samples = 5</text>\n<text text-anchor=\"start\" x=\"1665.5\" y=\"-22.8\" font-family=\"Helvetica,sans-Serif\" font-size=\"14.00\" fill=\"#000000\">value = [4, 1]</text>\n<text text-anchor=\"start\" x=\"1664\" y=\"-7.8\" font-family=\"Helvetica,sans-Serif\" font-size=\"14.00\" fill=\"#000000\">class = Good</text>\n</g>\n<!-- 26&#45;&gt;28 -->\n<g id=\"edge28\" class=\"edge\">\n<title>26&#45;&gt;28</title>\n<path fill=\"none\" stroke=\"#000000\" d=\"M1632.3112,-103.9815C1642.3163,-94.607 1652.9354,-84.6572 1662.9304,-75.2921\"/>\n<polygon fill=\"#000000\" stroke=\"#000000\" points=\"1665.5274,-77.6551 1670.4316,-68.2637 1660.7412,-72.547 1665.5274,-77.6551\"/>\n</g>\n</g>\n</svg>\n"
          },
          "metadata": {
            "tags": []
          }
        }
      ]
    }
  ]
}