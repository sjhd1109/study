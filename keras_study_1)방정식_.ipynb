{
  "nbformat": 4,
  "nbformat_minor": 0,
  "metadata": {
    "colab": {
      "name": "keras_study_1)방정식 .ipynb",
      "provenance": [],
      "authorship_tag": "ABX9TyMZw0WrkRWPbWfa94lDH3GO",
      "include_colab_link": true
    },
    "kernelspec": {
      "name": "python3",
      "display_name": "Python 3"
    }
  },
  "cells": [
    {
      "cell_type": "markdown",
      "metadata": {
        "id": "view-in-github",
        "colab_type": "text"
      },
      "source": [
        "<a href=\"https://colab.research.google.com/github/sjhd1109/study/blob/main/keras_study_1)%EB%B0%A9%EC%A0%95%EC%8B%9D_.ipynb\" target=\"_parent\"><img src=\"https://colab.research.google.com/assets/colab-badge.svg\" alt=\"Open In Colab\"/></a>"
      ]
    },
    {
      "cell_type": "code",
      "metadata": {
        "colab": {
          "base_uri": "https://localhost:8080/"
        },
        "id": "0nb5moVIvwlg",
        "outputId": "29c71747-bc18-40f6-dfcd-539206d2b235"
      },
      "source": [
        "import tensorflow as tf\r\n",
        "\r\n",
        "from tensorflow.keras.models import Sequential\r\n",
        "from tensorflow.keras.layers import Flatten, Dense\r\n",
        "from tensorflow.keras.optimizers import SGD\r\n",
        "import numpy as np\r\n",
        "\r\n",
        "print(tf.__version__)"
      ],
      "execution_count": 1,
      "outputs": [
        {
          "output_type": "stream",
          "text": [
            "2.4.1\n"
          ],
          "name": "stdout"
        }
      ]
    },
    {
      "cell_type": "code",
      "metadata": {
        "colab": {
          "base_uri": "https://localhost:8080/"
        },
        "id": "C1qgQN0fv8Ax",
        "outputId": "3e4d5f91-3939-43a8-82d4-8a4de1df16de"
      },
      "source": [
        "x = np.array([1,2,3,4,5])\r\n",
        "y = x * 2 + 1\r\n",
        "\r\n",
        "print(x)\r\n",
        "print(y)"
      ],
      "execution_count": 2,
      "outputs": [
        {
          "output_type": "stream",
          "text": [
            "[1 2 3 4 5]\n",
            "[ 3  5  7  9 11]\n"
          ],
          "name": "stdout"
        }
      ]
    },
    {
      "cell_type": "code",
      "metadata": {
        "id": "yHXXH7htwM19"
      },
      "source": [
        "model = Sequential()\r\n",
        "model.add(Dense(1, input_shape=(1,)))\r\n",
        "model.compile('SGD', 'mse')"
      ],
      "execution_count": 3,
      "outputs": []
    },
    {
      "cell_type": "code",
      "metadata": {
        "colab": {
          "base_uri": "https://localhost:8080/"
        },
        "id": "cuO-m3W3we3K",
        "outputId": "adc51ad3-3f9c-4366-b642-eebde8544e3b"
      },
      "source": [
        "model.fit(x, y, epochs=100, verbose=0)"
      ],
      "execution_count": 4,
      "outputs": [
        {
          "output_type": "execute_result",
          "data": {
            "text/plain": [
              "<tensorflow.python.keras.callbacks.History at 0x7f50248577f0>"
            ]
          },
          "metadata": {
            "tags": []
          },
          "execution_count": 4
        }
      ]
    },
    {
      "cell_type": "code",
      "metadata": {
        "colab": {
          "base_uri": "https://localhost:8080/"
        },
        "id": "CJCq_Wk8xCjg",
        "outputId": "8e9c74a6-9e70-419c-9c7b-ffe66e8a5c38"
      },
      "source": [
        "model.fit(x, y, epochs=1000, verbose=0)"
      ],
      "execution_count": 6,
      "outputs": [
        {
          "output_type": "execute_result",
          "data": {
            "text/plain": [
              "<tensorflow.python.keras.callbacks.History at 0x7f50219d9c88>"
            ]
          },
          "metadata": {
            "tags": []
          },
          "execution_count": 6
        }
      ]
    },
    {
      "cell_type": "code",
      "metadata": {
        "colab": {
          "base_uri": "https://localhost:8080/"
        },
        "id": "GaZTjUpswnUE",
        "outputId": "f89fd4b6-f409-475a-d2b5-a0cdbcefa89a"
      },
      "source": [
        "print('y:', y, ',predict:', model.predict(x).flatten())"
      ],
      "execution_count": 5,
      "outputs": [
        {
          "output_type": "stream",
          "text": [
            "y: [ 3  5  7  9 11] ,predict: [ 2.889959   4.9321156  6.974272   9.016428  11.058584 ]\n"
          ],
          "name": "stdout"
        }
      ]
    },
    {
      "cell_type": "code",
      "metadata": {
        "id": "LcJc5ZOFxF1R",
        "outputId": "4ec4b4ff-88c5-4b90-b06a-93303ff04231",
        "colab": {
          "base_uri": "https://localhost:8080/"
        }
      },
      "source": [
        "print('y:', y, ',predict:', model.predict(x).flatten())"
      ],
      "execution_count": 7,
      "outputs": [
        {
          "output_type": "stream",
          "text": [
            "y: [ 3  5  7  9 11] ,predict: [ 2.996278   4.997704   6.9991302  9.000557  11.001984 ]\n"
          ],
          "name": "stdout"
        }
      ]
    }
  ]
}