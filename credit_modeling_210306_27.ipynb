{
  "nbformat": 4,
  "nbformat_minor": 0,
  "metadata": {
    "colab": {
      "name": "credit_modeling_210306-27.ipynb",
      "provenance": [],
      "collapsed_sections": [],
      "toc_visible": true,
      "mount_file_id": "1zEk23FAE76DvYWQOnKaQJwDxKG1WYa5h",
      "authorship_tag": "ABX9TyOIwymvmt1a5t8jv9kcP+co",
      "include_colab_link": true
    },
    "kernelspec": {
      "name": "python3",
      "display_name": "Python 3"
    }
  },
  "cells": [
    {
      "cell_type": "markdown",
      "metadata": {
        "id": "view-in-github",
        "colab_type": "text"
      },
      "source": [
        "<a href=\"https://colab.research.google.com/github/sjhd1109/study/blob/main/credit_modeling_210306_27.ipynb\" target=\"_parent\"><img src=\"https://colab.research.google.com/assets/colab-badge.svg\" alt=\"Open In Colab\"/></a>"
      ]
    },
    {
      "cell_type": "markdown",
      "metadata": {
        "id": "GaiqsjJt_IGe"
      },
      "source": [
        "## credit modeling\n",
        "- 로지스틱\n",
        "- 케라스"
      ]
    },
    {
      "cell_type": "code",
      "metadata": {
        "id": "a9g7DvOZARax"
      },
      "source": [
        "import numpy as np\n",
        "import pandas as pd\n",
        "from sklearn.linear_model import LogisticRegression\n",
        "from sklearn.model_selection import train_test_split\n",
        "from sklearn.metrics import confusion_matrix,classification_report\n",
        "from sklearn.metrics import accuracy_score, roc_auc_score, roc_curve\n",
        "import statsmodels.api as sm\n",
        "import matplotlib.pyplot as plt\n",
        "import time "
      ],
      "execution_count": null,
      "outputs": []
    },
    {
      "cell_type": "code",
      "metadata": {
        "colab": {
          "base_uri": "https://localhost:8080/"
        },
        "id": "BkM6Ys0n_PwW",
        "outputId": "f20c0a69-dcb8-4c0b-c86a-d614849329cb"
      },
      "source": [
        "from google.colab import drive \n",
        "drive.mount('/content/drive') # 새로운 창에서 key 를 받아서 입력해야합니다."
      ],
      "execution_count": null,
      "outputs": [
        {
          "output_type": "stream",
          "text": [
            "Drive already mounted at /content/drive; to attempt to forcibly remount, call drive.mount(\"/content/drive\", force_remount=True).\n"
          ],
          "name": "stdout"
        }
      ]
    },
    {
      "cell_type": "code",
      "metadata": {
        "id": "zHvlMLD5FnPZ"
      },
      "source": [
        "train = '/content/sample_data/gmtrain_df.csv'\n",
        "test = '/content/sample_data/gmtest_df.csv'"
      ],
      "execution_count": null,
      "outputs": []
    },
    {
      "cell_type": "code",
      "metadata": {
        "id": "KCTxxMP9HMPm",
        "colab": {
          "base_uri": "https://localhost:8080/",
          "height": 411
        },
        "outputId": "6322bf25-25b0-4856-d3d7-f3944f65b43c"
      },
      "source": [
        "train_df = pd.read_csv(train)\n",
        "test_df = pd.read_csv(test)\n",
        "\n",
        "train_df"
      ],
      "execution_count": null,
      "outputs": [
        {
          "output_type": "execute_result",
          "data": {
            "text/html": [
              "<div>\n",
              "<style scoped>\n",
              "    .dataframe tbody tr th:only-of-type {\n",
              "        vertical-align: middle;\n",
              "    }\n",
              "\n",
              "    .dataframe tbody tr th {\n",
              "        vertical-align: top;\n",
              "    }\n",
              "\n",
              "    .dataframe thead th {\n",
              "        text-align: right;\n",
              "    }\n",
              "</style>\n",
              "<table border=\"1\" class=\"dataframe\">\n",
              "  <thead>\n",
              "    <tr style=\"text-align: right;\">\n",
              "      <th></th>\n",
              "      <th>goodbad</th>\n",
              "      <th>checking</th>\n",
              "      <th>duration</th>\n",
              "      <th>history</th>\n",
              "      <th>purpose</th>\n",
              "      <th>amount</th>\n",
              "      <th>savings</th>\n",
              "      <th>employed</th>\n",
              "      <th>installp</th>\n",
              "      <th>martial</th>\n",
              "      <th>coapp</th>\n",
              "      <th>resident</th>\n",
              "      <th>property</th>\n",
              "      <th>age</th>\n",
              "      <th>other</th>\n",
              "      <th>housing</th>\n",
              "      <th>existcr</th>\n",
              "      <th>job</th>\n",
              "      <th>depends</th>\n",
              "      <th>telephon</th>\n",
              "      <th>foreign</th>\n",
              "    </tr>\n",
              "  </thead>\n",
              "  <tbody>\n",
              "    <tr>\n",
              "      <th>0</th>\n",
              "      <td>0</td>\n",
              "      <td>4</td>\n",
              "      <td>1</td>\n",
              "      <td>5</td>\n",
              "      <td>4</td>\n",
              "      <td>1</td>\n",
              "      <td>1</td>\n",
              "      <td>3</td>\n",
              "      <td>1</td>\n",
              "      <td>2</td>\n",
              "      <td>1</td>\n",
              "      <td>1</td>\n",
              "      <td>3</td>\n",
              "      <td>3</td>\n",
              "      <td>3</td>\n",
              "      <td>2</td>\n",
              "      <td>2</td>\n",
              "      <td>3</td>\n",
              "      <td>1</td>\n",
              "      <td>2</td>\n",
              "      <td>1</td>\n",
              "    </tr>\n",
              "    <tr>\n",
              "      <th>1</th>\n",
              "      <td>0</td>\n",
              "      <td>4</td>\n",
              "      <td>2</td>\n",
              "      <td>3</td>\n",
              "      <td>1</td>\n",
              "      <td>1</td>\n",
              "      <td>1</td>\n",
              "      <td>3</td>\n",
              "      <td>3</td>\n",
              "      <td>4</td>\n",
              "      <td>1</td>\n",
              "      <td>2</td>\n",
              "      <td>1</td>\n",
              "      <td>2</td>\n",
              "      <td>3</td>\n",
              "      <td>2</td>\n",
              "      <td>2</td>\n",
              "      <td>3</td>\n",
              "      <td>1</td>\n",
              "      <td>2</td>\n",
              "      <td>1</td>\n",
              "    </tr>\n",
              "    <tr>\n",
              "      <th>2</th>\n",
              "      <td>0</td>\n",
              "      <td>1</td>\n",
              "      <td>3</td>\n",
              "      <td>3</td>\n",
              "      <td>1</td>\n",
              "      <td>3</td>\n",
              "      <td>2</td>\n",
              "      <td>4</td>\n",
              "      <td>4</td>\n",
              "      <td>3</td>\n",
              "      <td>1</td>\n",
              "      <td>3</td>\n",
              "      <td>3</td>\n",
              "      <td>3</td>\n",
              "      <td>3</td>\n",
              "      <td>2</td>\n",
              "      <td>1</td>\n",
              "      <td>4</td>\n",
              "      <td>2</td>\n",
              "      <td>2</td>\n",
              "      <td>1</td>\n",
              "    </tr>\n",
              "    <tr>\n",
              "      <th>3</th>\n",
              "      <td>1</td>\n",
              "      <td>1</td>\n",
              "      <td>4</td>\n",
              "      <td>5</td>\n",
              "      <td>7</td>\n",
              "      <td>4</td>\n",
              "      <td>1</td>\n",
              "      <td>3</td>\n",
              "      <td>4</td>\n",
              "      <td>3</td>\n",
              "      <td>1</td>\n",
              "      <td>3</td>\n",
              "      <td>4</td>\n",
              "      <td>2</td>\n",
              "      <td>1</td>\n",
              "      <td>2</td>\n",
              "      <td>1</td>\n",
              "      <td>3</td>\n",
              "      <td>1</td>\n",
              "      <td>2</td>\n",
              "      <td>1</td>\n",
              "    </tr>\n",
              "    <tr>\n",
              "      <th>4</th>\n",
              "      <td>0</td>\n",
              "      <td>2</td>\n",
              "      <td>3</td>\n",
              "      <td>3</td>\n",
              "      <td>2</td>\n",
              "      <td>4</td>\n",
              "      <td>1</td>\n",
              "      <td>2</td>\n",
              "      <td>2</td>\n",
              "      <td>3</td>\n",
              "      <td>1</td>\n",
              "      <td>3</td>\n",
              "      <td>3</td>\n",
              "      <td>3</td>\n",
              "      <td>3</td>\n",
              "      <td>2</td>\n",
              "      <td>2</td>\n",
              "      <td>3</td>\n",
              "      <td>1</td>\n",
              "      <td>1</td>\n",
              "      <td>1</td>\n",
              "    </tr>\n",
              "    <tr>\n",
              "      <th>...</th>\n",
              "      <td>...</td>\n",
              "      <td>...</td>\n",
              "      <td>...</td>\n",
              "      <td>...</td>\n",
              "      <td>...</td>\n",
              "      <td>...</td>\n",
              "      <td>...</td>\n",
              "      <td>...</td>\n",
              "      <td>...</td>\n",
              "      <td>...</td>\n",
              "      <td>...</td>\n",
              "      <td>...</td>\n",
              "      <td>...</td>\n",
              "      <td>...</td>\n",
              "      <td>...</td>\n",
              "      <td>...</td>\n",
              "      <td>...</td>\n",
              "      <td>...</td>\n",
              "      <td>...</td>\n",
              "      <td>...</td>\n",
              "      <td>...</td>\n",
              "    </tr>\n",
              "    <tr>\n",
              "      <th>695</th>\n",
              "      <td>0</td>\n",
              "      <td>1</td>\n",
              "      <td>3</td>\n",
              "      <td>3</td>\n",
              "      <td>2</td>\n",
              "      <td>4</td>\n",
              "      <td>1</td>\n",
              "      <td>1</td>\n",
              "      <td>4</td>\n",
              "      <td>3</td>\n",
              "      <td>1</td>\n",
              "      <td>2</td>\n",
              "      <td>4</td>\n",
              "      <td>3</td>\n",
              "      <td>3</td>\n",
              "      <td>3</td>\n",
              "      <td>1</td>\n",
              "      <td>4</td>\n",
              "      <td>1</td>\n",
              "      <td>2</td>\n",
              "      <td>1</td>\n",
              "    </tr>\n",
              "    <tr>\n",
              "      <th>696</th>\n",
              "      <td>0</td>\n",
              "      <td>2</td>\n",
              "      <td>3</td>\n",
              "      <td>5</td>\n",
              "      <td>4</td>\n",
              "      <td>2</td>\n",
              "      <td>1</td>\n",
              "      <td>5</td>\n",
              "      <td>4</td>\n",
              "      <td>3</td>\n",
              "      <td>1</td>\n",
              "      <td>2</td>\n",
              "      <td>2</td>\n",
              "      <td>5</td>\n",
              "      <td>3</td>\n",
              "      <td>2</td>\n",
              "      <td>2</td>\n",
              "      <td>2</td>\n",
              "      <td>1</td>\n",
              "      <td>1</td>\n",
              "      <td>1</td>\n",
              "    </tr>\n",
              "    <tr>\n",
              "      <th>697</th>\n",
              "      <td>0</td>\n",
              "      <td>4</td>\n",
              "      <td>2</td>\n",
              "      <td>5</td>\n",
              "      <td>7</td>\n",
              "      <td>3</td>\n",
              "      <td>5</td>\n",
              "      <td>2</td>\n",
              "      <td>2</td>\n",
              "      <td>3</td>\n",
              "      <td>1</td>\n",
              "      <td>1</td>\n",
              "      <td>2</td>\n",
              "      <td>5</td>\n",
              "      <td>3</td>\n",
              "      <td>2</td>\n",
              "      <td>2</td>\n",
              "      <td>2</td>\n",
              "      <td>2</td>\n",
              "      <td>1</td>\n",
              "      <td>1</td>\n",
              "    </tr>\n",
              "    <tr>\n",
              "      <th>698</th>\n",
              "      <td>0</td>\n",
              "      <td>1</td>\n",
              "      <td>4</td>\n",
              "      <td>3</td>\n",
              "      <td>3</td>\n",
              "      <td>3</td>\n",
              "      <td>1</td>\n",
              "      <td>1</td>\n",
              "      <td>4</td>\n",
              "      <td>3</td>\n",
              "      <td>1</td>\n",
              "      <td>3</td>\n",
              "      <td>2</td>\n",
              "      <td>3</td>\n",
              "      <td>3</td>\n",
              "      <td>2</td>\n",
              "      <td>1</td>\n",
              "      <td>4</td>\n",
              "      <td>1</td>\n",
              "      <td>2</td>\n",
              "      <td>1</td>\n",
              "    </tr>\n",
              "    <tr>\n",
              "      <th>699</th>\n",
              "      <td>0</td>\n",
              "      <td>4</td>\n",
              "      <td>2</td>\n",
              "      <td>3</td>\n",
              "      <td>4</td>\n",
              "      <td>1</td>\n",
              "      <td>1</td>\n",
              "      <td>5</td>\n",
              "      <td>4</td>\n",
              "      <td>3</td>\n",
              "      <td>1</td>\n",
              "      <td>4</td>\n",
              "      <td>3</td>\n",
              "      <td>5</td>\n",
              "      <td>3</td>\n",
              "      <td>2</td>\n",
              "      <td>1</td>\n",
              "      <td>3</td>\n",
              "      <td>1</td>\n",
              "      <td>1</td>\n",
              "      <td>1</td>\n",
              "    </tr>\n",
              "  </tbody>\n",
              "</table>\n",
              "<p>700 rows × 21 columns</p>\n",
              "</div>"
            ],
            "text/plain": [
              "     goodbad  checking  duration  history  ...  job  depends  telephon  foreign\n",
              "0          0         4         1        5  ...    3        1         2        1\n",
              "1          0         4         2        3  ...    3        1         2        1\n",
              "2          0         1         3        3  ...    4        2         2        1\n",
              "3          1         1         4        5  ...    3        1         2        1\n",
              "4          0         2         3        3  ...    3        1         1        1\n",
              "..       ...       ...       ...      ...  ...  ...      ...       ...      ...\n",
              "695        0         1         3        3  ...    4        1         2        1\n",
              "696        0         2         3        5  ...    2        1         1        1\n",
              "697        0         4         2        5  ...    2        2         1        1\n",
              "698        0         1         4        3  ...    4        1         2        1\n",
              "699        0         4         2        3  ...    3        1         1        1\n",
              "\n",
              "[700 rows x 21 columns]"
            ]
          },
          "metadata": {
            "tags": []
          },
          "execution_count": 17
        }
      ]
    },
    {
      "cell_type": "markdown",
      "metadata": {
        "id": "iRbxLpcYEyJ2"
      },
      "source": [
        "![image.png](data:image/png;base64,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)"
      ]
    },
    {
      "cell_type": "code",
      "metadata": {
        "id": "gYOp63taJ2j0",
        "colab": {
          "base_uri": "https://localhost:8080/",
          "height": 391
        },
        "outputId": "6c1182bd-63c9-467a-c7d1-86f168a1cfdf"
      },
      "source": [
        "x_train = train_df[['checking',\t'duration', 'history'\t,'purpose',\t'savings'\t,'employed',\t'coapp',\t'resident','foreign']]\n",
        "y_train = train_df['goodbad']\n",
        "\n",
        "x_test = test_df[['checking',\t'duration', 'history'\t,'purpose',\t'savings'\t,'employed',\t'coapp',\t'resident','foreign']]\n",
        "y_test = test_df['goodbad']\n",
        "\n",
        "\n",
        "x_train"
      ],
      "execution_count": null,
      "outputs": [
        {
          "output_type": "execute_result",
          "data": {
            "text/html": [
              "<div>\n",
              "<style scoped>\n",
              "    .dataframe tbody tr th:only-of-type {\n",
              "        vertical-align: middle;\n",
              "    }\n",
              "\n",
              "    .dataframe tbody tr th {\n",
              "        vertical-align: top;\n",
              "    }\n",
              "\n",
              "    .dataframe thead th {\n",
              "        text-align: right;\n",
              "    }\n",
              "</style>\n",
              "<table border=\"1\" class=\"dataframe\">\n",
              "  <thead>\n",
              "    <tr style=\"text-align: right;\">\n",
              "      <th></th>\n",
              "      <th>checking</th>\n",
              "      <th>duration</th>\n",
              "      <th>history</th>\n",
              "      <th>purpose</th>\n",
              "      <th>savings</th>\n",
              "      <th>employed</th>\n",
              "      <th>coapp</th>\n",
              "      <th>resident</th>\n",
              "      <th>foreign</th>\n",
              "    </tr>\n",
              "  </thead>\n",
              "  <tbody>\n",
              "    <tr>\n",
              "      <th>0</th>\n",
              "      <td>4</td>\n",
              "      <td>1</td>\n",
              "      <td>5</td>\n",
              "      <td>4</td>\n",
              "      <td>1</td>\n",
              "      <td>3</td>\n",
              "      <td>1</td>\n",
              "      <td>1</td>\n",
              "      <td>1</td>\n",
              "    </tr>\n",
              "    <tr>\n",
              "      <th>1</th>\n",
              "      <td>4</td>\n",
              "      <td>2</td>\n",
              "      <td>3</td>\n",
              "      <td>1</td>\n",
              "      <td>1</td>\n",
              "      <td>3</td>\n",
              "      <td>1</td>\n",
              "      <td>2</td>\n",
              "      <td>1</td>\n",
              "    </tr>\n",
              "    <tr>\n",
              "      <th>2</th>\n",
              "      <td>1</td>\n",
              "      <td>3</td>\n",
              "      <td>3</td>\n",
              "      <td>1</td>\n",
              "      <td>2</td>\n",
              "      <td>4</td>\n",
              "      <td>1</td>\n",
              "      <td>3</td>\n",
              "      <td>1</td>\n",
              "    </tr>\n",
              "    <tr>\n",
              "      <th>3</th>\n",
              "      <td>1</td>\n",
              "      <td>4</td>\n",
              "      <td>5</td>\n",
              "      <td>7</td>\n",
              "      <td>1</td>\n",
              "      <td>3</td>\n",
              "      <td>1</td>\n",
              "      <td>3</td>\n",
              "      <td>1</td>\n",
              "    </tr>\n",
              "    <tr>\n",
              "      <th>4</th>\n",
              "      <td>2</td>\n",
              "      <td>3</td>\n",
              "      <td>3</td>\n",
              "      <td>2</td>\n",
              "      <td>1</td>\n",
              "      <td>2</td>\n",
              "      <td>1</td>\n",
              "      <td>3</td>\n",
              "      <td>1</td>\n",
              "    </tr>\n",
              "    <tr>\n",
              "      <th>...</th>\n",
              "      <td>...</td>\n",
              "      <td>...</td>\n",
              "      <td>...</td>\n",
              "      <td>...</td>\n",
              "      <td>...</td>\n",
              "      <td>...</td>\n",
              "      <td>...</td>\n",
              "      <td>...</td>\n",
              "      <td>...</td>\n",
              "    </tr>\n",
              "    <tr>\n",
              "      <th>695</th>\n",
              "      <td>1</td>\n",
              "      <td>3</td>\n",
              "      <td>3</td>\n",
              "      <td>2</td>\n",
              "      <td>1</td>\n",
              "      <td>1</td>\n",
              "      <td>1</td>\n",
              "      <td>2</td>\n",
              "      <td>1</td>\n",
              "    </tr>\n",
              "    <tr>\n",
              "      <th>696</th>\n",
              "      <td>2</td>\n",
              "      <td>3</td>\n",
              "      <td>5</td>\n",
              "      <td>4</td>\n",
              "      <td>1</td>\n",
              "      <td>5</td>\n",
              "      <td>1</td>\n",
              "      <td>2</td>\n",
              "      <td>1</td>\n",
              "    </tr>\n",
              "    <tr>\n",
              "      <th>697</th>\n",
              "      <td>4</td>\n",
              "      <td>2</td>\n",
              "      <td>5</td>\n",
              "      <td>7</td>\n",
              "      <td>5</td>\n",
              "      <td>2</td>\n",
              "      <td>1</td>\n",
              "      <td>1</td>\n",
              "      <td>1</td>\n",
              "    </tr>\n",
              "    <tr>\n",
              "      <th>698</th>\n",
              "      <td>1</td>\n",
              "      <td>4</td>\n",
              "      <td>3</td>\n",
              "      <td>3</td>\n",
              "      <td>1</td>\n",
              "      <td>1</td>\n",
              "      <td>1</td>\n",
              "      <td>3</td>\n",
              "      <td>1</td>\n",
              "    </tr>\n",
              "    <tr>\n",
              "      <th>699</th>\n",
              "      <td>4</td>\n",
              "      <td>2</td>\n",
              "      <td>3</td>\n",
              "      <td>4</td>\n",
              "      <td>1</td>\n",
              "      <td>5</td>\n",
              "      <td>1</td>\n",
              "      <td>4</td>\n",
              "      <td>1</td>\n",
              "    </tr>\n",
              "  </tbody>\n",
              "</table>\n",
              "<p>700 rows × 9 columns</p>\n",
              "</div>"
            ],
            "text/plain": [
              "     checking  duration  history  purpose  ...  employed  coapp  resident  foreign\n",
              "0           4         1        5        4  ...         3      1         1        1\n",
              "1           4         2        3        1  ...         3      1         2        1\n",
              "2           1         3        3        1  ...         4      1         3        1\n",
              "3           1         4        5        7  ...         3      1         3        1\n",
              "4           2         3        3        2  ...         2      1         3        1\n",
              "..        ...       ...      ...      ...  ...       ...    ...       ...      ...\n",
              "695         1         3        3        2  ...         1      1         2        1\n",
              "696         2         3        5        4  ...         5      1         2        1\n",
              "697         4         2        5        7  ...         2      1         1        1\n",
              "698         1         4        3        3  ...         1      1         3        1\n",
              "699         4         2        3        4  ...         5      1         4        1\n",
              "\n",
              "[700 rows x 9 columns]"
            ]
          },
          "metadata": {
            "tags": []
          },
          "execution_count": 20
        }
      ]
    },
    {
      "cell_type": "code",
      "metadata": {
        "colab": {
          "base_uri": "https://localhost:8080/"
        },
        "id": "o9GCrwS7Br1L",
        "outputId": "35755c8d-4362-44c6-a12d-5bc49c0663cf"
      },
      "source": [
        "model1 = sm.Logit(y_train, x_train)\n",
        "results = model1.fit(method = \"newton\")"
      ],
      "execution_count": null,
      "outputs": [
        {
          "output_type": "stream",
          "text": [
            "Optimization terminated successfully.\n",
            "         Current function value: 0.490171\n",
            "         Iterations 6\n"
          ],
          "name": "stdout"
        }
      ]
    },
    {
      "cell_type": "code",
      "metadata": {
        "colab": {
          "base_uri": "https://localhost:8080/",
          "height": 333
        },
        "id": "0RVH1zPCDurO",
        "outputId": "2434d202-1687-45c4-cc1d-ed9e2b6e1938"
      },
      "source": [
        "results.summary()"
      ],
      "execution_count": null,
      "outputs": [
        {
          "output_type": "execute_result",
          "data": {
            "text/html": [
              "<table class=\"simpletable\">\n",
              "<caption>Logit Regression Results</caption>\n",
              "<tr>\n",
              "  <th>Dep. Variable:</th>        <td>goodbad</td>     <th>  No. Observations:  </th>  <td>   700</td>  \n",
              "</tr>\n",
              "<tr>\n",
              "  <th>Model:</th>                 <td>Logit</td>      <th>  Df Residuals:      </th>  <td>   691</td>  \n",
              "</tr>\n",
              "<tr>\n",
              "  <th>Method:</th>                 <td>MLE</td>       <th>  Df Model:          </th>  <td>     8</td>  \n",
              "</tr>\n",
              "<tr>\n",
              "  <th>Date:</th>            <td>Fri, 26 Mar 2021</td> <th>  Pseudo R-squ.:     </th>  <td>0.1976</td>  \n",
              "</tr>\n",
              "<tr>\n",
              "  <th>Time:</th>                <td>15:08:39</td>     <th>  Log-Likelihood:    </th> <td> -343.12</td> \n",
              "</tr>\n",
              "<tr>\n",
              "  <th>converged:</th>             <td>True</td>       <th>  LL-Null:           </th> <td> -427.61</td> \n",
              "</tr>\n",
              "<tr>\n",
              "  <th>Covariance Type:</th>     <td>nonrobust</td>    <th>  LLR p-value:       </th> <td>2.120e-32</td>\n",
              "</tr>\n",
              "</table>\n",
              "<table class=\"simpletable\">\n",
              "<tr>\n",
              "      <td></td>        <th>coef</th>     <th>std err</th>      <th>z</th>      <th>P>|z|</th>  <th>[0.025</th>    <th>0.975]</th>  \n",
              "</tr>\n",
              "<tr>\n",
              "  <th>checking</th> <td>   -0.4948</td> <td>    0.081</td> <td>   -6.105</td> <td> 0.000</td> <td>   -0.654</td> <td>   -0.336</td>\n",
              "</tr>\n",
              "<tr>\n",
              "  <th>duration</th> <td>    0.6720</td> <td>    0.093</td> <td>    7.217</td> <td> 0.000</td> <td>    0.490</td> <td>    0.855</td>\n",
              "</tr>\n",
              "<tr>\n",
              "  <th>history</th>  <td>   -0.2830</td> <td>    0.087</td> <td>   -3.265</td> <td> 0.001</td> <td>   -0.453</td> <td>   -0.113</td>\n",
              "</tr>\n",
              "<tr>\n",
              "  <th>purpose</th>  <td>   -0.0118</td> <td>    0.039</td> <td>   -0.306</td> <td> 0.760</td> <td>   -0.087</td> <td>    0.064</td>\n",
              "</tr>\n",
              "<tr>\n",
              "  <th>savings</th>  <td>   -0.2682</td> <td>    0.069</td> <td>   -3.875</td> <td> 0.000</td> <td>   -0.404</td> <td>   -0.133</td>\n",
              "</tr>\n",
              "<tr>\n",
              "  <th>employed</th> <td>   -0.1493</td> <td>    0.081</td> <td>   -1.837</td> <td> 0.066</td> <td>   -0.309</td> <td>    0.010</td>\n",
              "</tr>\n",
              "<tr>\n",
              "  <th>coapp</th>    <td>   -0.1987</td> <td>    0.206</td> <td>   -0.966</td> <td> 0.334</td> <td>   -0.602</td> <td>    0.205</td>\n",
              "</tr>\n",
              "<tr>\n",
              "  <th>resident</th> <td>    0.1786</td> <td>    0.085</td> <td>    2.113</td> <td> 0.035</td> <td>    0.013</td> <td>    0.344</td>\n",
              "</tr>\n",
              "<tr>\n",
              "  <th>foreign</th>  <td>    0.1357</td> <td>    0.384</td> <td>    0.353</td> <td> 0.724</td> <td>   -0.618</td> <td>    0.889</td>\n",
              "</tr>\n",
              "</table>"
            ],
            "text/plain": [
              "<class 'statsmodels.iolib.summary.Summary'>\n",
              "\"\"\"\n",
              "                           Logit Regression Results                           \n",
              "==============================================================================\n",
              "Dep. Variable:                goodbad   No. Observations:                  700\n",
              "Model:                          Logit   Df Residuals:                      691\n",
              "Method:                           MLE   Df Model:                            8\n",
              "Date:                Fri, 26 Mar 2021   Pseudo R-squ.:                  0.1976\n",
              "Time:                        15:08:39   Log-Likelihood:                -343.12\n",
              "converged:                       True   LL-Null:                       -427.61\n",
              "Covariance Type:            nonrobust   LLR p-value:                 2.120e-32\n",
              "==============================================================================\n",
              "                 coef    std err          z      P>|z|      [0.025      0.975]\n",
              "------------------------------------------------------------------------------\n",
              "checking      -0.4948      0.081     -6.105      0.000      -0.654      -0.336\n",
              "duration       0.6720      0.093      7.217      0.000       0.490       0.855\n",
              "history       -0.2830      0.087     -3.265      0.001      -0.453      -0.113\n",
              "purpose       -0.0118      0.039     -0.306      0.760      -0.087       0.064\n",
              "savings       -0.2682      0.069     -3.875      0.000      -0.404      -0.133\n",
              "employed      -0.1493      0.081     -1.837      0.066      -0.309       0.010\n",
              "coapp         -0.1987      0.206     -0.966      0.334      -0.602       0.205\n",
              "resident       0.1786      0.085      2.113      0.035       0.013       0.344\n",
              "foreign        0.1357      0.384      0.353      0.724      -0.618       0.889\n",
              "==============================================================================\n",
              "\"\"\""
            ]
          },
          "metadata": {
            "tags": []
          },
          "execution_count": 23
        }
      ]
    },
    {
      "cell_type": "code",
      "metadata": {
        "colab": {
          "base_uri": "https://localhost:8080/"
        },
        "id": "fTu6OqttDxVv",
        "outputId": "5848be1a-5d3c-4615-9d19-d1340a41c4db"
      },
      "source": [
        "results.params"
      ],
      "execution_count": null,
      "outputs": [
        {
          "output_type": "execute_result",
          "data": {
            "text/plain": [
              "checking   -0.494760\n",
              "duration    0.672038\n",
              "history    -0.283048\n",
              "purpose    -0.011788\n",
              "savings    -0.268196\n",
              "employed   -0.149283\n",
              "coapp      -0.198719\n",
              "resident    0.178565\n",
              "foreign     0.135652\n",
              "dtype: float64"
            ]
          },
          "metadata": {
            "tags": []
          },
          "execution_count": 24
        }
      ]
    },
    {
      "cell_type": "code",
      "metadata": {
        "colab": {
          "base_uri": "https://localhost:8080/"
        },
        "id": "U5dpqnT-Dylm",
        "outputId": "4013aa24-6a7f-41bc-83d4-97a7fd2568da"
      },
      "source": [
        "np.exp(results.params)"
      ],
      "execution_count": null,
      "outputs": [
        {
          "output_type": "execute_result",
          "data": {
            "text/plain": [
              "checking    0.609717\n",
              "duration    1.958224\n",
              "history     0.753483\n",
              "purpose     0.988281\n",
              "savings     0.764758\n",
              "employed    0.861325\n",
              "coapp       0.819780\n",
              "resident    1.195500\n",
              "foreign     1.145283\n",
              "dtype: float64"
            ]
          },
          "metadata": {
            "tags": []
          },
          "execution_count": 25
        }
      ]
    },
    {
      "cell_type": "code",
      "metadata": {
        "colab": {
          "base_uri": "https://localhost:8080/"
        },
        "id": "-3QnuSUVD4qe",
        "outputId": "7154aa5c-0368-4d36-ea10-03c4aac95841"
      },
      "source": [
        "#y_hat 예측\n",
        "pred_y = results.predict(x_test)\n",
        "pred_y"
      ],
      "execution_count": null,
      "outputs": [
        {
          "output_type": "execute_result",
          "data": {
            "text/plain": [
              "0      0.184109\n",
              "1      0.637906\n",
              "2      0.102854\n",
              "3      0.417756\n",
              "4      0.050589\n",
              "         ...   \n",
              "295    0.454566\n",
              "296    0.047850\n",
              "297    0.300544\n",
              "298    0.172824\n",
              "299    0.870375\n",
              "Length: 300, dtype: float64"
            ]
          },
          "metadata": {
            "tags": []
          },
          "execution_count": 26
        }
      ]
    },
    {
      "cell_type": "code",
      "metadata": {
        "colab": {
          "base_uri": "https://localhost:8080/"
        },
        "id": "hXwhTiXyEBQK",
        "outputId": "a0379b98-e24d-4702-fa65-a34af690254b"
      },
      "source": [
        "# 임계값 함수\n",
        "\n",
        "def cut_off(y, threshold) :\n",
        "    Y = y.copy()  # 대문자 Y를 새로운 변수로 하여 기존의 y값에 영향이 가지 않도록 함.\n",
        "    Y[Y>threshold] = 1\n",
        "    Y[Y<threshold] = 0\n",
        "    return Y.astype(int)\n",
        "    \n",
        "pred_Y = cut_off(pred_y, 0.5)\n",
        "pred_Y"
      ],
      "execution_count": null,
      "outputs": [
        {
          "output_type": "execute_result",
          "data": {
            "text/plain": [
              "0      0\n",
              "1      1\n",
              "2      0\n",
              "3      0\n",
              "4      0\n",
              "      ..\n",
              "295    0\n",
              "296    0\n",
              "297    0\n",
              "298    0\n",
              "299    1\n",
              "Length: 300, dtype: int64"
            ]
          },
          "metadata": {
            "tags": []
          },
          "execution_count": 47
        }
      ]
    },
    {
      "cell_type": "code",
      "metadata": {
        "colab": {
          "base_uri": "https://localhost:8080/"
        },
        "id": "zywUKU1rFDHc",
        "outputId": "4a053ad7-4323-46c7-85de-73b634138ea1"
      },
      "source": [
        "# confusion matrix (분류 표를 나타낸 행렬)\n",
        "\n",
        "cfmat = confusion_matrix(y_test, pred_Y)\n",
        "print(cfmat)"
      ],
      "execution_count": null,
      "outputs": [
        {
          "output_type": "stream",
          "text": [
            "[[194  16]\n",
            " [ 60  30]]\n"
          ],
          "name": "stdout"
        }
      ]
    },
    {
      "cell_type": "code",
      "metadata": {
        "colab": {
          "base_uri": "https://localhost:8080/"
        },
        "id": "ez7JO0ksHBaj",
        "outputId": "8cdf3e37-26bf-455c-8fb6-b78b3f664109"
      },
      "source": [
        "print(confusion_matrix(y_test, pred_Y))\n",
        "print()\n",
        "print(classification_report(y_test, pred_Y))"
      ],
      "execution_count": null,
      "outputs": [
        {
          "output_type": "stream",
          "text": [
            "[[194  16]\n",
            " [ 60  30]]\n",
            "\n",
            "              precision    recall  f1-score   support\n",
            "\n",
            "           0       0.76      0.92      0.84       210\n",
            "           1       0.65      0.33      0.44        90\n",
            "\n",
            "    accuracy                           0.75       300\n",
            "   macro avg       0.71      0.63      0.64       300\n",
            "weighted avg       0.73      0.75      0.72       300\n",
            "\n"
          ],
          "name": "stdout"
        }
      ]
    },
    {
      "cell_type": "code",
      "metadata": {
        "colab": {
          "base_uri": "https://localhost:8080/"
        },
        "id": "kprW31wmE_p8",
        "outputId": "618e9be9-20b0-4264-c83f-956e0af3d502"
      },
      "source": [
        "# confusion matrix accuracy(정확도) 계산함수\n",
        "\n",
        "def acc(cfmat):\n",
        "\treturn (cfmat[0,0] + cfmat[1,1])/(cfmat[0,0] + cfmat[1,1] + cfmat[0,1] + cfmat[1,0])\n",
        "acc(cfmat)"
      ],
      "execution_count": null,
      "outputs": [
        {
          "output_type": "execute_result",
          "data": {
            "text/plain": [
              "0.7466666666666667"
            ]
          },
          "metadata": {
            "tags": []
          },
          "execution_count": 38
        }
      ]
    },
    {
      "cell_type": "code",
      "metadata": {
        "colab": {
          "base_uri": "https://localhost:8080/",
          "height": 363
        },
        "id": "8zKswDA6_2Hu",
        "outputId": "42779ffd-bedc-492e-eca9-0803fa5aaf17"
      },
      "source": [
        "# 임계값 0~1에 따른 정확도 확인\n",
        "\n",
        "threshold = np.arange(0,1,0.1)\n",
        "table = pd.DataFrame(columns = ['ACC'])\n",
        "for i in threshold :\n",
        "\tpred_Y = cut_off(pred_y,i)\n",
        "\tcfmat = confusion_matrix(y_test,pred_Y)\n",
        "\ttable.loc[i] = acc(cfmat)\n",
        "table.index.name = \"threshold\"\n",
        "table.columns.name = \"performance\"\n",
        "table"
      ],
      "execution_count": null,
      "outputs": [
        {
          "output_type": "execute_result",
          "data": {
            "text/html": [
              "<div>\n",
              "<style scoped>\n",
              "    .dataframe tbody tr th:only-of-type {\n",
              "        vertical-align: middle;\n",
              "    }\n",
              "\n",
              "    .dataframe tbody tr th {\n",
              "        vertical-align: top;\n",
              "    }\n",
              "\n",
              "    .dataframe thead th {\n",
              "        text-align: right;\n",
              "    }\n",
              "</style>\n",
              "<table border=\"1\" class=\"dataframe\">\n",
              "  <thead>\n",
              "    <tr style=\"text-align: right;\">\n",
              "      <th>performance</th>\n",
              "      <th>ACC</th>\n",
              "    </tr>\n",
              "    <tr>\n",
              "      <th>threshold</th>\n",
              "      <th></th>\n",
              "    </tr>\n",
              "  </thead>\n",
              "  <tbody>\n",
              "    <tr>\n",
              "      <th>0.0</th>\n",
              "      <td>0.300000</td>\n",
              "    </tr>\n",
              "    <tr>\n",
              "      <th>0.1</th>\n",
              "      <td>0.426667</td>\n",
              "    </tr>\n",
              "    <tr>\n",
              "      <th>0.2</th>\n",
              "      <td>0.613333</td>\n",
              "    </tr>\n",
              "    <tr>\n",
              "      <th>0.3</th>\n",
              "      <td>0.703333</td>\n",
              "    </tr>\n",
              "    <tr>\n",
              "      <th>0.4</th>\n",
              "      <td>0.740000</td>\n",
              "    </tr>\n",
              "    <tr>\n",
              "      <th>0.5</th>\n",
              "      <td>0.746667</td>\n",
              "    </tr>\n",
              "    <tr>\n",
              "      <th>0.6</th>\n",
              "      <td>0.750000</td>\n",
              "    </tr>\n",
              "    <tr>\n",
              "      <th>0.7</th>\n",
              "      <td>0.720000</td>\n",
              "    </tr>\n",
              "    <tr>\n",
              "      <th>0.8</th>\n",
              "      <td>0.713333</td>\n",
              "    </tr>\n",
              "    <tr>\n",
              "      <th>0.9</th>\n",
              "      <td>0.700000</td>\n",
              "    </tr>\n",
              "  </tbody>\n",
              "</table>\n",
              "</div>"
            ],
            "text/plain": [
              "performance       ACC\n",
              "threshold            \n",
              "0.0          0.300000\n",
              "0.1          0.426667\n",
              "0.2          0.613333\n",
              "0.3          0.703333\n",
              "0.4          0.740000\n",
              "0.5          0.746667\n",
              "0.6          0.750000\n",
              "0.7          0.720000\n",
              "0.8          0.713333\n",
              "0.9          0.700000"
            ]
          },
          "metadata": {
            "tags": []
          },
          "execution_count": 51
        }
      ]
    },
    {
      "cell_type": "code",
      "metadata": {
        "colab": {
          "base_uri": "https://localhost:8080/",
          "height": 282
        },
        "id": "9YV83zMJFLJ6",
        "outputId": "a5eb8faf-bcf5-4f8b-d052-925bd40cb164"
      },
      "source": [
        "# sklearn에서 ROC 패키지 활용\n",
        "fpr, tpr, thresholds = roc_curve(y_test,pred_y,pos_label = 1)\n",
        "\n",
        "# ROC curve\n",
        "plt.plot(fpr,tpr)\n",
        "\n",
        "# AUC\n",
        "auc = np.trapz(tpr,fpr)\n",
        "print(\"AUC:\",auc)"
      ],
      "execution_count": null,
      "outputs": [
        {
          "output_type": "stream",
          "text": [
            "AUC: 0.747063492063492\n"
          ],
          "name": "stdout"
        },
        {
          "output_type": "display_data",
          "data": {
            "image/png": "[encoded data removed]",
            "text/plain": [
              "<Figure size 432x288 with 1 Axes>"
            ]
          },
          "metadata": {
            "tags": [],
            "needs_background": "light"
          }
        }
      ]
    },
    {
      "cell_type": "markdown",
      "metadata": {
        "id": "aDEM5EdYajyd"
      },
      "source": [
        "##케라스"
      ]
    },
    {
      "cell_type": "code",
      "metadata": {
        "id": "jHTO1wmTcc5R"
      },
      "source": [
        "from sklearn.preprocessing import LabelEncoder\n",
        "from keras.models import Sequential\n",
        "from keras import regularizers\n",
        "from keras import optimizers\n",
        "from keras.layers import Dense, Dropout\n",
        "from pandas.api.types import is_string_dtype\n",
        "import tensorflow as tf\n",
        "import plotly.graph_objs as go\n",
        "## seaborn\n",
        "import seaborn as sns\n",
        "sns.set_context('paper', rc={'font.size':12,'axes.titlesize':14,'axes.labelsize':12})\n",
        "sns.set_style('white')"
      ],
      "execution_count": null,
      "outputs": []
    },
    {
      "cell_type": "code",
      "metadata": {
        "id": "XNXnw_f_w2uq"
      },
      "source": [
        "#원핫인코딩_train_df\n",
        "dataset = train_df.values\n",
        "X = dataset[:,1:21].astype('float')  #df 에서 goodbad 제외\n",
        "y_obj = dataset[:,0]   #target \n",
        "\n",
        "e=LabelEncoder()\n",
        "e.fit(y_obj)\n",
        "y=e.transform(y_obj)\n",
        "y_encoded=tf.keras.utils.to_categorical(y)\n",
        "y_encoded[:21]\n",
        "\n",
        "\n",
        "\n",
        "#원핫인코딩_test_df\n",
        "dataset1 = test_df.values\n",
        "test_X = dataset1[:,1:21].astype('float')  #df 에서 goodbad 제외\n",
        "y_obj1 = dataset1[:,0]   #target \n",
        "\n",
        "e1=LabelEncoder()\n",
        "e1.fit(y_obj1)\n",
        "y1=e1.transform(y_obj1)\n",
        "test_Y=tf.keras.utils.to_categorical(y1)\n",
        "test_Y[:21]"
      ],
      "execution_count": null,
      "outputs": []
    },
    {
      "cell_type": "code",
      "metadata": {
        "id": "W4bNkvIcykQ_"
      },
      "source": [
        "train_X, val_X, train_Y, val_Y = train_test_split(X, y_encoded, test_size=0.8, random_state=0)"
      ],
      "execution_count": null,
      "outputs": []
    },
    {
      "cell_type": "code",
      "metadata": {
        "id": "cY-9vEmKu56e"
      },
      "source": [
        "model = Sequential()\n",
        "\n",
        "# 옵티마이저는 경사하강법 sgd를 사용\n",
        "sgd = optimizers.SGD(lr=0.03, decay=0, momentum=0.9, nesterov=False)\n",
        "model.add(Dense(18, input_dim=train_X.shape[1], activation='relu'))\n",
        "model.add(Dense(8, activation='relu'))\n",
        "model.add(Dense(2, activation='sigmoid'))\n",
        "model.compile(loss='binary_crossentropy',\n",
        "              optimizer='sgd',\n",
        "              metrics=['accuracy','mae', 'mse'])"
      ],
      "execution_count": null,
      "outputs": []
    },
    {
      "cell_type": "code",
      "metadata": {
        "colab": {
          "base_uri": "https://localhost:8080/"
        },
        "id": "iF6rxc_s1QAi",
        "outputId": "2464cf95-ed8b-4edf-d27d-b1be047f0e4f"
      },
      "source": [
        "history=model.fit(train_X, train_Y, validation_data=(val_X, val_Y), epochs=30, batch_size=5)"
      ],
      "execution_count": null,
      "outputs": [
        {
          "output_type": "stream",
          "text": [
            "Epoch 1/30\n",
            "28/28 [==============================] - 0s 9ms/step - loss: 0.3287 - accuracy: 0.8857 - mae: 0.2193 - mse: 0.1052 - val_loss: 0.7220 - val_accuracy: 0.6696 - val_mae: 0.3735 - val_mse: 0.2338\n",
            "Epoch 2/30\n",
            "28/28 [==============================] - 0s 6ms/step - loss: 0.3533 - accuracy: 0.8214 - mae: 0.2354 - mse: 0.1157 - val_loss: 0.6092 - val_accuracy: 0.7304 - val_mae: 0.3295 - val_mse: 0.1940\n",
            "Epoch 3/30\n",
            "28/28 [==============================] - 0s 7ms/step - loss: 0.3114 - accuracy: 0.8500 - mae: 0.2220 - mse: 0.0979 - val_loss: 0.5871 - val_accuracy: 0.7536 - val_mae: 0.3045 - val_mse: 0.1809\n",
            "Epoch 4/30\n",
            "28/28 [==============================] - 0s 7ms/step - loss: 0.3431 - accuracy: 0.8429 - mae: 0.2234 - mse: 0.1112 - val_loss: 0.5978 - val_accuracy: 0.7536 - val_mae: 0.2956 - val_mse: 0.1816\n",
            "Epoch 5/30\n",
            "28/28 [==============================] - 0s 7ms/step - loss: 0.3369 - accuracy: 0.8571 - mae: 0.2212 - mse: 0.1075 - val_loss: 0.6260 - val_accuracy: 0.7179 - val_mae: 0.3363 - val_mse: 0.2010\n",
            "Epoch 6/30\n",
            "28/28 [==============================] - 0s 7ms/step - loss: 0.3638 - accuracy: 0.8214 - mae: 0.2386 - mse: 0.1207 - val_loss: 0.6996 - val_accuracy: 0.6839 - val_mae: 0.3633 - val_mse: 0.2255\n",
            "Epoch 7/30\n",
            "28/28 [==============================] - 0s 6ms/step - loss: 0.3408 - accuracy: 0.8429 - mae: 0.2331 - mse: 0.1103 - val_loss: 0.7600 - val_accuracy: 0.6500 - val_mae: 0.3832 - val_mse: 0.2469\n",
            "Epoch 8/30\n",
            "28/28 [==============================] - 0s 7ms/step - loss: 0.3386 - accuracy: 0.8714 - mae: 0.2207 - mse: 0.1059 - val_loss: 0.6012 - val_accuracy: 0.7429 - val_mae: 0.3213 - val_mse: 0.1902\n",
            "Epoch 9/30\n",
            "28/28 [==============================] - 0s 7ms/step - loss: 0.3289 - accuracy: 0.8286 - mae: 0.2236 - mse: 0.1068 - val_loss: 0.6739 - val_accuracy: 0.7000 - val_mae: 0.3550 - val_mse: 0.2174\n",
            "Epoch 10/30\n",
            "28/28 [==============================] - 0s 7ms/step - loss: 0.3399 - accuracy: 0.8286 - mae: 0.2289 - mse: 0.1065 - val_loss: 0.6184 - val_accuracy: 0.7232 - val_mae: 0.3299 - val_mse: 0.1962\n",
            "Epoch 11/30\n",
            "28/28 [==============================] - 0s 6ms/step - loss: 0.3301 - accuracy: 0.8357 - mae: 0.2247 - mse: 0.1079 - val_loss: 0.6398 - val_accuracy: 0.7089 - val_mae: 0.3394 - val_mse: 0.2049\n",
            "Epoch 12/30\n",
            "28/28 [==============================] - 0s 6ms/step - loss: 0.3327 - accuracy: 0.8643 - mae: 0.2196 - mse: 0.1057 - val_loss: 0.6642 - val_accuracy: 0.7107 - val_mae: 0.3482 - val_mse: 0.2128\n",
            "Epoch 13/30\n",
            "28/28 [==============================] - 0s 6ms/step - loss: 0.3250 - accuracy: 0.8286 - mae: 0.2214 - mse: 0.1053 - val_loss: 0.7289 - val_accuracy: 0.6589 - val_mae: 0.3742 - val_mse: 0.2379\n",
            "Epoch 14/30\n",
            "28/28 [==============================] - 0s 6ms/step - loss: 0.3219 - accuracy: 0.8500 - mae: 0.2145 - mse: 0.1028 - val_loss: 0.6565 - val_accuracy: 0.7107 - val_mae: 0.3452 - val_mse: 0.2110\n",
            "Epoch 15/30\n",
            "28/28 [==============================] - 0s 7ms/step - loss: 0.3052 - accuracy: 0.8857 - mae: 0.2133 - mse: 0.0949 - val_loss: 0.6035 - val_accuracy: 0.7554 - val_mae: 0.2989 - val_mse: 0.1833\n",
            "Epoch 16/30\n",
            "28/28 [==============================] - 0s 7ms/step - loss: 0.3175 - accuracy: 0.8357 - mae: 0.2148 - mse: 0.1022 - val_loss: 0.6131 - val_accuracy: 0.7411 - val_mae: 0.3193 - val_mse: 0.1916\n",
            "Epoch 17/30\n",
            "28/28 [==============================] - 0s 7ms/step - loss: 0.3305 - accuracy: 0.8429 - mae: 0.2227 - mse: 0.1064 - val_loss: 0.6032 - val_accuracy: 0.7464 - val_mae: 0.3201 - val_mse: 0.1904\n",
            "Epoch 18/30\n",
            "28/28 [==============================] - 0s 6ms/step - loss: 0.3257 - accuracy: 0.8429 - mae: 0.2188 - mse: 0.1048 - val_loss: 0.6021 - val_accuracy: 0.7464 - val_mae: 0.3141 - val_mse: 0.1882\n",
            "Epoch 19/30\n",
            "28/28 [==============================] - 0s 7ms/step - loss: 0.3381 - accuracy: 0.8071 - mae: 0.2252 - mse: 0.1114 - val_loss: 0.6030 - val_accuracy: 0.7518 - val_mae: 0.3124 - val_mse: 0.1876\n",
            "Epoch 20/30\n",
            "28/28 [==============================] - 0s 7ms/step - loss: 0.3325 - accuracy: 0.8571 - mae: 0.2240 - mse: 0.1052 - val_loss: 0.6239 - val_accuracy: 0.7286 - val_mae: 0.3284 - val_mse: 0.1958\n",
            "Epoch 21/30\n",
            "28/28 [==============================] - 0s 7ms/step - loss: 0.3129 - accuracy: 0.8429 - mae: 0.2162 - mse: 0.1001 - val_loss: 0.8993 - val_accuracy: 0.5893 - val_mae: 0.4146 - val_mse: 0.2857\n",
            "Epoch 22/30\n",
            "28/28 [==============================] - 0s 7ms/step - loss: 0.3349 - accuracy: 0.8214 - mae: 0.2310 - mse: 0.1094 - val_loss: 0.6379 - val_accuracy: 0.7089 - val_mae: 0.3337 - val_mse: 0.2027\n",
            "Epoch 23/30\n",
            "28/28 [==============================] - 0s 7ms/step - loss: 0.3173 - accuracy: 0.8786 - mae: 0.2134 - mse: 0.1007 - val_loss: 0.6134 - val_accuracy: 0.7500 - val_mae: 0.3043 - val_mse: 0.1876\n",
            "Epoch 24/30\n",
            "28/28 [==============================] - 0s 7ms/step - loss: 0.3239 - accuracy: 0.8500 - mae: 0.2164 - mse: 0.1050 - val_loss: 0.6828 - val_accuracy: 0.7036 - val_mae: 0.3461 - val_mse: 0.2141\n",
            "Epoch 25/30\n",
            "28/28 [==============================] - 0s 6ms/step - loss: 0.3309 - accuracy: 0.8071 - mae: 0.2222 - mse: 0.1110 - val_loss: 0.6478 - val_accuracy: 0.7125 - val_mae: 0.3365 - val_mse: 0.2040\n",
            "Epoch 26/30\n",
            "28/28 [==============================] - 0s 7ms/step - loss: 0.3254 - accuracy: 0.8500 - mae: 0.2209 - mse: 0.1025 - val_loss: 0.6225 - val_accuracy: 0.7429 - val_mae: 0.3066 - val_mse: 0.1889\n",
            "Epoch 27/30\n",
            "28/28 [==============================] - 0s 7ms/step - loss: 0.3233 - accuracy: 0.8500 - mae: 0.2156 - mse: 0.1037 - val_loss: 0.7771 - val_accuracy: 0.6607 - val_mae: 0.3782 - val_mse: 0.2446\n",
            "Epoch 28/30\n",
            "28/28 [==============================] - 0s 7ms/step - loss: 0.2958 - accuracy: 0.8571 - mae: 0.2043 - mse: 0.0941 - val_loss: 0.6814 - val_accuracy: 0.7000 - val_mae: 0.3407 - val_mse: 0.2122\n",
            "Epoch 29/30\n",
            "28/28 [==============================] - 0s 6ms/step - loss: 0.2948 - accuracy: 0.8429 - mae: 0.2012 - mse: 0.0952 - val_loss: 0.6276 - val_accuracy: 0.7518 - val_mae: 0.3034 - val_mse: 0.1896\n",
            "Epoch 30/30\n",
            "28/28 [==============================] - 0s 7ms/step - loss: 0.3101 - accuracy: 0.8500 - mae: 0.2125 - mse: 0.1008 - val_loss: 0.6290 - val_accuracy: 0.7446 - val_mae: 0.3142 - val_mse: 0.1918\n"
          ],
          "name": "stdout"
        }
      ]
    },
    {
      "cell_type": "code",
      "metadata": {
        "colab": {
          "base_uri": "https://localhost:8080/"
        },
        "id": "eJDOyp8q_w6X",
        "outputId": "4266c8e0-2ff4-4dfa-c21b-018398b03838"
      },
      "source": [
        "Y_predict = model.predict(test_X)\n",
        "score1 = model.evaluate(test_X, test_Y) "
      ],
      "execution_count": null,
      "outputs": [
        {
          "output_type": "stream",
          "text": [
            "10/10 [==============================] - 0s 2ms/step - loss: 0.5892 - accuracy: 0.7400 - mae: 0.2991 - mse: 0.1846\n"
          ],
          "name": "stdout"
        }
      ]
    },
    {
      "cell_type": "code",
      "metadata": {
        "colab": {
          "base_uri": "https://localhost:8080/",
          "height": 88
        },
        "id": "cw00bVDX5FqZ",
        "outputId": "08f5475b-39dc-4ca9-b242-73c527ae37f5"
      },
      "source": [
        "print(\"정확도 결과는 : {} %\".format(np.round(model.evaluate(test_X, test_Y)[1],3)))\n",
        "score1 = pd.DataFrame(score1, index = model.metrics_names).T\n",
        "history = pd.DataFrame(history.history)\n",
        "display(score1.style.hide_index())"
      ],
      "execution_count": null,
      "outputs": [
        {
          "output_type": "stream",
          "text": [
            "10/10 [==============================] - 0s 2ms/step - loss: 0.5892 - accuracy: 0.7400 - mae: 0.2991 - mse: 0.1846\n",
            "정확도 결과는 : 0.74 %\n"
          ],
          "name": "stdout"
        },
        {
          "output_type": "display_data",
          "data": {
            "text/html": [
              "<style  type=\"text/css\" >\n",
              "</style><table id=\"T_2fed77c0_8e61_11eb_8d31_0242ac1c0002\" ><thead>    <tr>        <th class=\"col_heading level0 col0\" >loss</th>        <th class=\"col_heading level0 col1\" >accuracy</th>        <th class=\"col_heading level0 col2\" >mae</th>        <th class=\"col_heading level0 col3\" >mse</th>    </tr></thead><tbody>\n",
              "                <tr>\n",
              "                                <td id=\"T_2fed77c0_8e61_11eb_8d31_0242ac1c0002row0_col0\" class=\"data row0 col0\" >0.589226</td>\n",
              "                        <td id=\"T_2fed77c0_8e61_11eb_8d31_0242ac1c0002row0_col1\" class=\"data row0 col1\" >0.740000</td>\n",
              "                        <td id=\"T_2fed77c0_8e61_11eb_8d31_0242ac1c0002row0_col2\" class=\"data row0 col2\" >0.299066</td>\n",
              "                        <td id=\"T_2fed77c0_8e61_11eb_8d31_0242ac1c0002row0_col3\" class=\"data row0 col3\" >0.184569</td>\n",
              "            </tr>\n",
              "    </tbody></table>"
            ],
            "text/plain": [
              "<pandas.io.formats.style.Styler at 0x7f5755c82d90>"
            ]
          },
          "metadata": {
            "tags": []
          }
        }
      ]
    },
    {
      "cell_type": "code",
      "metadata": {
        "colab": {
          "base_uri": "https://localhost:8080/"
        },
        "id": "547-g4CGxGkt",
        "outputId": "2f031681-7cb4-4884-f1e4-64b21fa78f24"
      },
      "source": [
        "Y_predict1=np.argmax(Y_predict, axis=1)\n",
        "Y_predict1[1]\n",
        "\n",
        "round_y_test=np.argmax(test_Y, axis=1)\n",
        "round_y_test[1]"
      ],
      "execution_count": null,
      "outputs": [
        {
          "output_type": "execute_result",
          "data": {
            "text/plain": [
              "1"
            ]
          },
          "metadata": {
            "tags": []
          },
          "execution_count": 362
        }
      ]
    },
    {
      "cell_type": "code",
      "metadata": {
        "colab": {
          "base_uri": "https://localhost:8080/"
        },
        "id": "dGOgUbvXxdMV",
        "outputId": "4deb79a7-5594-453e-feb7-7ac71a3f23f8"
      },
      "source": [
        "print(confusion_matrix(round_y_test, Y_predict1))\n",
        "print()\n",
        "print(classification_report(round_y_test, Y_predict1))"
      ],
      "execution_count": null,
      "outputs": [
        {
          "output_type": "stream",
          "text": [
            "[[180  30]\n",
            " [ 48  42]]\n",
            "\n",
            "              precision    recall  f1-score   support\n",
            "\n",
            "           0       0.79      0.86      0.82       210\n",
            "           1       0.58      0.47      0.52        90\n",
            "\n",
            "    accuracy                           0.74       300\n",
            "   macro avg       0.69      0.66      0.67       300\n",
            "weighted avg       0.73      0.74      0.73       300\n",
            "\n"
          ],
          "name": "stdout"
        }
      ]
    },
    {
      "cell_type": "markdown",
      "metadata": {
        "id": "udxrEsKq2iqq"
      },
      "source": [
        "precision(정밀도) : 0(정상)이라고 예측한 데이터의 79%만 실제로 정상이었고 1(부도)이라고 예측한 데이터의 58%만 실제로 부도이었음을 알 수 있다. \n",
        "\n",
        "recall(재현율) : 또한 실제 0(정상)인 데이터 중의 86%만 정상으로 판별되었고 실제 1(부도)인 데이터 중의 47%만 1(부도)로 판별되었음을 알 수 있다."
      ]
    },
    {
      "cell_type": "code",
      "metadata": {
        "colab": {
          "base_uri": "https://localhost:8080/",
          "height": 617
        },
        "id": "w3JRdUpn80-H",
        "outputId": "a39be93d-832e-402b-c20c-c4ceaa7bf20a"
      },
      "source": [
        "fig = go.Figure()\n",
        "fig.add_trace(go.Scatter(x= history.index.values, y= history['loss'].values, line=dict(color='OrangeRed', width= 1.5), \n",
        "                         name = 'Loss'))\n",
        "fig.add_trace(go.Scatter(x= history.index.values, y= history['accuracy'].values, line=dict(color='MidnightBlue', width= 1.5), \n",
        "                         name = 'Accuracy'))\n",
        "fig.add_trace(go.Scatter(x= history.index.values, y= history['mae'].values, line=dict(color='ForestGreen', width= 1.5), \n",
        "                         name = 'Mean Absolute Error (MAE)'))\n",
        "fig.add_trace(go.Scatter(x= history.index.values, y= history['mse'].values, line=dict(color='purple', width= 1.5), \n",
        "                         name = 'Mean Squared Error (MSE)'))\n",
        "fig.update_layout(legend=dict(y=0.5, traceorder='reversed', font_size=12))\n",
        "fig.update_layout(dragmode='select', plot_bgcolor= 'white', height=600, hovermode='closest')\n",
        "fig.update_xaxes(showgrid=True, gridwidth=1, gridcolor='Lightgray')\n",
        "fig.update_yaxes(showgrid=True, gridwidth=1, gridcolor='Lightgray')\n",
        "fig.update_xaxes(showline=True, linewidth=1, linecolor='Lightgray', mirror=True)\n",
        "fig.update_yaxes(showline=True, linewidth=1, linecolor='Lightgray', mirror=True)\n",
        "fig['layout']['xaxis'].update(range=[0, history.index.values.max()])\n",
        "fig['layout']['yaxis'].update(range=[0, 1.0])\n",
        "fig.show()"
      ],
      "execution_count": null,
      "outputs": [
        {
          "output_type": "display_data",
          "data": {
            "text/html": [
              "<html>\n",
              "<head><meta charset=\"utf-8\" /></head>\n",
              "<body>\n",
              "    <div>\n",
              "            <script src=\"https://cdnjs.cloudflare.com/ajax/libs/mathjax/2.7.5/MathJax.js?config=TeX-AMS-MML_SVG\"></script><script type=\"text/javascript\">if (window.MathJax) {MathJax.Hub.Config({SVG: {font: \"STIX-Web\"}});}</script>\n",
              "                <script type=\"text/javascript\">window.PlotlyConfig = {MathJaxConfig: 'local'};</script>\n",
              "        <script src=\"https://cdn.plot.ly/plotly-latest.min.js\"></script>    \n",
              "            <div id=\"73e043f9-7687-48b2-b8cf-b310dee988e1\" class=\"plotly-graph-div\" style=\"height:600px; width:100%;\"></div>\n",
              "            <script type=\"text/javascript\">\n",
              "                \n",
              "                    window.PLOTLYENV=window.PLOTLYENV || {};\n",
              "                    \n",
              "                if (document.getElementById(\"73e043f9-7687-48b2-b8cf-b310dee988e1\")) {\n",
              "                    Plotly.newPlot(\n",
              "                        '73e043f9-7687-48b2-b8cf-b310dee988e1',\n",
              "                        [{\"line\": {\"color\": \"OrangeRed\", \"width\": 1.5}, \"name\": \"Loss\", \"type\": \"scatter\", \"x\": [0, 1, 2, 3, 4, 5, 6, 7, 8, 9, 10, 11, 12, 13, 14, 15, 16, 17, 18, 19, 20, 21, 22, 23, 24, 25, 26, 27, 28, 29], \"y\": [0.7360934615135193, 0.6772098541259766, 0.6643313765525818, 0.653009295463562, 0.6435378193855286, 0.6331779360771179, 0.6230796575546265, 0.6146574020385742, 0.6077804565429688, 0.6012890934944153, 0.5957795977592468, 0.5889151692390442, 0.5831538438796997, 0.5755639672279358, 0.5729877352714539, 0.567237377166748, 0.5618053078651428, 0.5538941025733948, 0.5500891208648682, 0.5472992062568665, 0.5438891053199768, 0.5364027619361877, 0.5328652858734131, 0.5327062010765076, 0.5316100716590881, 0.5214008092880249, 0.5219975709915161, 0.5137381553649902, 0.5144888162612915, 0.506311297416687]}, {\"line\": {\"color\": \"MidnightBlue\", \"width\": 1.5}, \"name\": \"Accuracy\", \"type\": \"scatter\", \"x\": [0, 1, 2, 3, 4, 5, 6, 7, 8, 9, 10, 11, 12, 13, 14, 15, 16, 17, 18, 19, 20, 21, 22, 23, 24, 25, 26, 27, 28, 29], \"y\": [0.6142857074737549, 0.5857142806053162, 0.6000000238418579, 0.6285714507102966, 0.6285714507102966, 0.6428571343421936, 0.6285714507102966, 0.6499999761581421, 0.6499999761581421, 0.6642857193946838, 0.6428571343421936, 0.6499999761581421, 0.6857143044471741, 0.6642857193946838, 0.7142857313156128, 0.6928571462631226, 0.6857143044471741, 0.7214285731315613, 0.7357142567634583, 0.75, 0.75, 0.7571428418159485, 0.7428571581840515, 0.7428571581840515, 0.75, 0.7428571581840515, 0.7714285850524902, 0.7642857432365417, 0.7357142567634583, 0.7642857432365417]}, {\"line\": {\"color\": \"ForestGreen\", \"width\": 1.5}, \"name\": \"Mean Absolute Error (MAE)\", \"type\": \"scatter\", \"x\": [0, 1, 2, 3, 4, 5, 6, 7, 8, 9, 10, 11, 12, 13, 14, 15, 16, 17, 18, 19, 20, 21, 22, 23, 24, 25, 26, 27, 28, 29], \"y\": [0.4507492780685425, 0.4645155668258667, 0.4587762653827667, 0.45503249764442444, 0.44483140110969543, 0.44508275389671326, 0.436879962682724, 0.43338266015052795, 0.42330092191696167, 0.42721834778785706, 0.41592901945114136, 0.41311365365982056, 0.4110051691532135, 0.40308934450149536, 0.4007819592952728, 0.3985925316810608, 0.39291268587112427, 0.38640421628952026, 0.38662832975387573, 0.3850826621055603, 0.37730488181114197, 0.37521156668663025, 0.3763282895088196, 0.37214744091033936, 0.36596858501434326, 0.35953962802886963, 0.36048874258995056, 0.3577052056789398, 0.35958847403526306, 0.34938114881515503]}, {\"line\": {\"color\": \"purple\", \"width\": 1.5}, \"name\": \"Mean Squared Error (MSE)\", \"type\": \"scatter\", \"x\": [0, 1, 2, 3, 4, 5, 6, 7, 8, 9, 10, 11, 12, 13, 14, 15, 16, 17, 18, 19, 20, 21, 22, 23, 24, 25, 26, 27, 28, 29], \"y\": [0.2560475170612335, 0.2403063327074051, 0.23492392897605896, 0.23002134263515472, 0.22561828792095184, 0.2211262434720993, 0.21692951023578644, 0.2129862904548645, 0.2104538530111313, 0.20704296231269836, 0.20544132590293884, 0.20254755020141602, 0.1995185762643814, 0.19661912322044373, 0.1950388252735138, 0.19294090569019318, 0.19104549288749695, 0.18736542761325836, 0.18611794710159302, 0.18469497561454773, 0.18343320488929749, 0.18008103966712952, 0.17896372079849243, 0.1790734976530075, 0.1788540482521057, 0.17463940382003784, 0.17395800352096558, 0.17081202566623688, 0.17104145884513855, 0.16837896406650543]}],\n",
              "                        {\"dragmode\": \"select\", \"height\": 600, \"hovermode\": \"closest\", \"legend\": {\"font\": {\"size\": 12}, \"traceorder\": \"reversed\", \"y\": 0.5}, \"plot_bgcolor\": \"white\", \"template\": {\"data\": {\"bar\": [{\"error_x\": {\"color\": \"#2a3f5f\"}, \"error_y\": {\"color\": \"#2a3f5f\"}, \"marker\": {\"line\": {\"color\": \"#E5ECF6\", \"width\": 0.5}}, \"type\": \"bar\"}], \"barpolar\": [{\"marker\": {\"line\": {\"color\": \"#E5ECF6\", \"width\": 0.5}}, \"type\": \"barpolar\"}], \"carpet\": [{\"aaxis\": {\"endlinecolor\": \"#2a3f5f\", \"gridcolor\": \"white\", \"linecolor\": \"white\", \"minorgridcolor\": \"white\", \"startlinecolor\": \"#2a3f5f\"}, \"baxis\": {\"endlinecolor\": \"#2a3f5f\", \"gridcolor\": \"white\", \"linecolor\": \"white\", \"minorgridcolor\": \"white\", \"startlinecolor\": \"#2a3f5f\"}, \"type\": \"carpet\"}], \"choropleth\": [{\"colorbar\": {\"outlinewidth\": 0, \"ticks\": \"\"}, \"type\": \"choropleth\"}], \"contour\": [{\"colorbar\": {\"outlinewidth\": 0, \"ticks\": \"\"}, \"colorscale\": [[0.0, \"#0d0887\"], [0.1111111111111111, \"#46039f\"], [0.2222222222222222, \"#7201a8\"], [0.3333333333333333, \"#9c179e\"], [0.4444444444444444, \"#bd3786\"], [0.5555555555555556, \"#d8576b\"], [0.6666666666666666, \"#ed7953\"], [0.7777777777777778, \"#fb9f3a\"], [0.8888888888888888, \"#fdca26\"], [1.0, \"#f0f921\"]], \"type\": \"contour\"}], \"contourcarpet\": [{\"colorbar\": {\"outlinewidth\": 0, \"ticks\": \"\"}, \"type\": \"contourcarpet\"}], \"heatmap\": [{\"colorbar\": {\"outlinewidth\": 0, \"ticks\": \"\"}, \"colorscale\": [[0.0, \"#0d0887\"], [0.1111111111111111, \"#46039f\"], [0.2222222222222222, \"#7201a8\"], [0.3333333333333333, \"#9c179e\"], [0.4444444444444444, \"#bd3786\"], [0.5555555555555556, \"#d8576b\"], [0.6666666666666666, \"#ed7953\"], [0.7777777777777778, \"#fb9f3a\"], [0.8888888888888888, \"#fdca26\"], [1.0, \"#f0f921\"]], \"type\": \"heatmap\"}], \"heatmapgl\": [{\"colorbar\": {\"outlinewidth\": 0, \"ticks\": \"\"}, \"colorscale\": [[0.0, \"#0d0887\"], [0.1111111111111111, \"#46039f\"], [0.2222222222222222, \"#7201a8\"], [0.3333333333333333, \"#9c179e\"], [0.4444444444444444, \"#bd3786\"], [0.5555555555555556, \"#d8576b\"], [0.6666666666666666, \"#ed7953\"], [0.7777777777777778, \"#fb9f3a\"], [0.8888888888888888, \"#fdca26\"], [1.0, \"#f0f921\"]], \"type\": \"heatmapgl\"}], \"histogram\": [{\"marker\": {\"colorbar\": {\"outlinewidth\": 0, \"ticks\": \"\"}}, \"type\": \"histogram\"}], \"histogram2d\": [{\"colorbar\": {\"outlinewidth\": 0, \"ticks\": \"\"}, \"colorscale\": [[0.0, \"#0d0887\"], [0.1111111111111111, \"#46039f\"], [0.2222222222222222, \"#7201a8\"], [0.3333333333333333, \"#9c179e\"], [0.4444444444444444, \"#bd3786\"], [0.5555555555555556, \"#d8576b\"], [0.6666666666666666, \"#ed7953\"], [0.7777777777777778, \"#fb9f3a\"], [0.8888888888888888, \"#fdca26\"], [1.0, \"#f0f921\"]], \"type\": \"histogram2d\"}], \"histogram2dcontour\": [{\"colorbar\": {\"outlinewidth\": 0, \"ticks\": \"\"}, \"colorscale\": [[0.0, \"#0d0887\"], [0.1111111111111111, \"#46039f\"], [0.2222222222222222, \"#7201a8\"], [0.3333333333333333, \"#9c179e\"], [0.4444444444444444, \"#bd3786\"], [0.5555555555555556, \"#d8576b\"], [0.6666666666666666, \"#ed7953\"], [0.7777777777777778, \"#fb9f3a\"], [0.8888888888888888, \"#fdca26\"], [1.0, \"#f0f921\"]], \"type\": \"histogram2dcontour\"}], \"mesh3d\": [{\"colorbar\": {\"outlinewidth\": 0, \"ticks\": \"\"}, \"type\": \"mesh3d\"}], \"parcoords\": [{\"line\": {\"colorbar\": {\"outlinewidth\": 0, \"ticks\": \"\"}}, \"type\": \"parcoords\"}], \"pie\": [{\"automargin\": true, \"type\": \"pie\"}], \"scatter\": [{\"marker\": {\"colorbar\": {\"outlinewidth\": 0, \"ticks\": \"\"}}, \"type\": \"scatter\"}], \"scatter3d\": [{\"line\": {\"colorbar\": {\"outlinewidth\": 0, \"ticks\": \"\"}}, \"marker\": {\"colorbar\": {\"outlinewidth\": 0, \"ticks\": \"\"}}, \"type\": \"scatter3d\"}], \"scattercarpet\": [{\"marker\": {\"colorbar\": {\"outlinewidth\": 0, \"ticks\": \"\"}}, \"type\": \"scattercarpet\"}], \"scattergeo\": [{\"marker\": {\"colorbar\": {\"outlinewidth\": 0, \"ticks\": \"\"}}, \"type\": \"scattergeo\"}], \"scattergl\": [{\"marker\": {\"colorbar\": {\"outlinewidth\": 0, \"ticks\": \"\"}}, \"type\": \"scattergl\"}], \"scattermapbox\": [{\"marker\": {\"colorbar\": {\"outlinewidth\": 0, \"ticks\": \"\"}}, \"type\": \"scattermapbox\"}], \"scatterpolar\": [{\"marker\": {\"colorbar\": {\"outlinewidth\": 0, \"ticks\": \"\"}}, \"type\": \"scatterpolar\"}], \"scatterpolargl\": [{\"marker\": {\"colorbar\": {\"outlinewidth\": 0, \"ticks\": \"\"}}, \"type\": \"scatterpolargl\"}], \"scatterternary\": [{\"marker\": {\"colorbar\": {\"outlinewidth\": 0, \"ticks\": \"\"}}, \"type\": \"scatterternary\"}], \"surface\": [{\"colorbar\": {\"outlinewidth\": 0, \"ticks\": \"\"}, \"colorscale\": [[0.0, \"#0d0887\"], [0.1111111111111111, \"#46039f\"], [0.2222222222222222, \"#7201a8\"], [0.3333333333333333, \"#9c179e\"], [0.4444444444444444, \"#bd3786\"], [0.5555555555555556, \"#d8576b\"], [0.6666666666666666, \"#ed7953\"], [0.7777777777777778, \"#fb9f3a\"], [0.8888888888888888, \"#fdca26\"], [1.0, \"#f0f921\"]], \"type\": \"surface\"}], \"table\": [{\"cells\": {\"fill\": {\"color\": \"#EBF0F8\"}, \"line\": {\"color\": \"white\"}}, \"header\": {\"fill\": {\"color\": \"#C8D4E3\"}, \"line\": {\"color\": \"white\"}}, \"type\": \"table\"}]}, \"layout\": {\"annotationdefaults\": {\"arrowcolor\": \"#2a3f5f\", \"arrowhead\": 0, \"arrowwidth\": 1}, \"coloraxis\": {\"colorbar\": {\"outlinewidth\": 0, \"ticks\": \"\"}}, \"colorscale\": {\"diverging\": [[0, \"#8e0152\"], [0.1, \"#c51b7d\"], [0.2, \"#de77ae\"], [0.3, \"#f1b6da\"], [0.4, \"#fde0ef\"], [0.5, \"#f7f7f7\"], [0.6, \"#e6f5d0\"], [0.7, \"#b8e186\"], [0.8, \"#7fbc41\"], [0.9, \"#4d9221\"], [1, \"#276419\"]], \"sequential\": [[0.0, \"#0d0887\"], [0.1111111111111111, \"#46039f\"], [0.2222222222222222, \"#7201a8\"], [0.3333333333333333, \"#9c179e\"], [0.4444444444444444, \"#bd3786\"], [0.5555555555555556, \"#d8576b\"], [0.6666666666666666, \"#ed7953\"], [0.7777777777777778, \"#fb9f3a\"], [0.8888888888888888, \"#fdca26\"], [1.0, \"#f0f921\"]], \"sequentialminus\": [[0.0, \"#0d0887\"], [0.1111111111111111, \"#46039f\"], [0.2222222222222222, \"#7201a8\"], [0.3333333333333333, \"#9c179e\"], [0.4444444444444444, \"#bd3786\"], [0.5555555555555556, \"#d8576b\"], [0.6666666666666666, \"#ed7953\"], [0.7777777777777778, \"#fb9f3a\"], [0.8888888888888888, \"#fdca26\"], [1.0, \"#f0f921\"]]}, \"colorway\": [\"#636efa\", \"#EF553B\", \"#00cc96\", \"#ab63fa\", \"#FFA15A\", \"#19d3f3\", \"#FF6692\", \"#B6E880\", \"#FF97FF\", \"#FECB52\"], \"font\": {\"color\": \"#2a3f5f\"}, \"geo\": {\"bgcolor\": \"white\", \"lakecolor\": \"white\", \"landcolor\": \"#E5ECF6\", \"showlakes\": true, \"showland\": true, \"subunitcolor\": \"white\"}, \"hoverlabel\": {\"align\": \"left\"}, \"hovermode\": \"closest\", \"mapbox\": {\"style\": \"light\"}, \"paper_bgcolor\": \"white\", \"plot_bgcolor\": \"#E5ECF6\", \"polar\": {\"angularaxis\": {\"gridcolor\": \"white\", \"linecolor\": \"white\", \"ticks\": \"\"}, \"bgcolor\": \"#E5ECF6\", \"radialaxis\": {\"gridcolor\": \"white\", \"linecolor\": \"white\", \"ticks\": \"\"}}, \"scene\": {\"xaxis\": {\"backgroundcolor\": \"#E5ECF6\", \"gridcolor\": \"white\", \"gridwidth\": 2, \"linecolor\": \"white\", \"showbackground\": true, \"ticks\": \"\", \"zerolinecolor\": \"white\"}, \"yaxis\": {\"backgroundcolor\": \"#E5ECF6\", \"gridcolor\": \"white\", \"gridwidth\": 2, \"linecolor\": \"white\", \"showbackground\": true, \"ticks\": \"\", \"zerolinecolor\": \"white\"}, \"zaxis\": {\"backgroundcolor\": \"#E5ECF6\", \"gridcolor\": \"white\", \"gridwidth\": 2, \"linecolor\": \"white\", \"showbackground\": true, \"ticks\": \"\", \"zerolinecolor\": \"white\"}}, \"shapedefaults\": {\"line\": {\"color\": \"#2a3f5f\"}}, \"ternary\": {\"aaxis\": {\"gridcolor\": \"white\", \"linecolor\": \"white\", \"ticks\": \"\"}, \"baxis\": {\"gridcolor\": \"white\", \"linecolor\": \"white\", \"ticks\": \"\"}, \"bgcolor\": \"#E5ECF6\", \"caxis\": {\"gridcolor\": \"white\", \"linecolor\": \"white\", \"ticks\": \"\"}}, \"title\": {\"x\": 0.05}, \"xaxis\": {\"automargin\": true, \"gridcolor\": \"white\", \"linecolor\": \"white\", \"ticks\": \"\", \"title\": {\"standoff\": 15}, \"zerolinecolor\": \"white\", \"zerolinewidth\": 2}, \"yaxis\": {\"automargin\": true, \"gridcolor\": \"white\", \"linecolor\": \"white\", \"ticks\": \"\", \"title\": {\"standoff\": 15}, \"zerolinecolor\": \"white\", \"zerolinewidth\": 2}}}, \"xaxis\": {\"gridcolor\": \"Lightgray\", \"gridwidth\": 1, \"linecolor\": \"Lightgray\", \"linewidth\": 1, \"mirror\": true, \"range\": [0, 29], \"showgrid\": true, \"showline\": true}, \"yaxis\": {\"gridcolor\": \"Lightgray\", \"gridwidth\": 1, \"linecolor\": \"Lightgray\", \"linewidth\": 1, \"mirror\": true, \"range\": [0, 1.0], \"showgrid\": true, \"showline\": true}},\n",
              "                        {\"responsive\": true}\n",
              "                    ).then(function(){\n",
              "                            \n",
              "var gd = document.getElementById('73e043f9-7687-48b2-b8cf-b310dee988e1');\n",
              "var x = new MutationObserver(function (mutations, observer) {{\n",
              "        var display = window.getComputedStyle(gd).display;\n",
              "        if (!display || display === 'none') {{\n",
              "            console.log([gd, 'removed!']);\n",
              "            Plotly.purge(gd);\n",
              "            observer.disconnect();\n",
              "        }}\n",
              "}});\n",
              "\n",
              "// Listen for the removal of the full notebook cells\n",
              "var notebookContainer = gd.closest('#notebook-container');\n",
              "if (notebookContainer) {{\n",
              "    x.observe(notebookContainer, {childList: true});\n",
              "}}\n",
              "\n",
              "// Listen for the clearing of the current output cell\n",
              "var outputEl = gd.closest('.output');\n",
              "if (outputEl) {{\n",
              "    x.observe(outputEl, {childList: true});\n",
              "}}\n",
              "\n",
              "                        })\n",
              "                };\n",
              "                \n",
              "            </script>\n",
              "        </div>\n",
              "</body>\n",
              "</html>"
            ]
          },
          "metadata": {
            "tags": []
          }
        }
      ]
    },
    {
      "cell_type": "code",
      "metadata": {
        "colab": {
          "base_uri": "https://localhost:8080/",
          "height": 728
        },
        "id": "pYH-Jjj7Bxxh",
        "outputId": "2f321ca8-91d4-47e1-9af2-85c4134798de"
      },
      "source": [
        "# Train set\n",
        "train_pred = model.predict(train_X)\n",
        "Confusion_Matrix = confusion_matrix(train_Y.argmax(axis=1), train_pred.argmax(axis=1))\n",
        "\n",
        "fig, ax = plt.subplots(1, 2, figsize=(15, 5))\n",
        "fig.suptitle('Train Set', fontsize = 18)\n",
        "_ = sns.heatmap(Confusion_Matrix, annot=True, annot_kws={\"size\": 14}, cmap=\"Blues\", ax = ax[0],\n",
        "               linewidths = 0.2, cbar_kws={\"shrink\": 1})\n",
        "_ = ax[0].set_xlabel('Predicted labels')\n",
        "_ = ax[0].set_ylabel('True labels'); \n",
        "_ = ax[0].set_title('Confusion Matrix');\n",
        "#_ = ax[0].xaxis.set_ticklabels(Labels)\n",
        "#_ = ax[0].yaxis.set_ticklabels(Labels)\n",
        "\n",
        "Confusion_Matrix = Confusion_Matrix.astype('float') / Confusion_Matrix.sum(axis=1)[:, np.newaxis]\n",
        "_ = sns.heatmap(Confusion_Matrix, annot=True, annot_kws={\"size\": 14}, cmap=\"Greens\", ax = ax[1],\n",
        "               linewidths = 0.2, vmin=0, vmax=1, cbar_kws={\"shrink\": 1})\n",
        "_ = ax[1].set_xlabel('Predicted labels')\n",
        "_ = ax[1].set_ylabel('True labels'); \n",
        "_ = ax[1].set_title('Normalized Confusion Matrix');\n",
        "#_ = ax[1].xaxis.set_ticklabels(Labels)\n",
        "#_ = ax[1].yaxis.set_ticklabels(Labels)\n",
        "\n",
        "# Test set\n",
        "Confusion_Matrix = confusion_matrix(test_Y.argmax(axis=1), Y_predict.argmax(axis=1))\n",
        "\n",
        "fig, ax = plt.subplots(1, 2, figsize=(15, 5))\n",
        "fig.suptitle('Test Set', fontsize = 18)\n",
        "_ = sns.heatmap(Confusion_Matrix, annot=True, annot_kws={\"size\": 14}, cmap=\"Blues\", ax = ax[0],\n",
        "                linewidths = 0.2, cbar_kws={\"shrink\": 1})\n",
        "_ = ax[0].set_xlabel('Predicted labels')\n",
        "_ = ax[0].set_ylabel('True labels'); \n",
        "_ = ax[0].set_title('Confusion Matrix');\n",
        "#_ = ax[0].xaxis.set_ticklabels(Labels)\n",
        "#_ = ax[0].yaxis.set_ticklabels(Labels)\n",
        "\n",
        "Confusion_Matrix = Confusion_Matrix.astype('float') / Confusion_Matrix.sum(axis=1)[:, np.newaxis]\n",
        "_ = sns.heatmap(Confusion_Matrix, annot=True, annot_kws={\"size\": 14}, cmap=\"Greens\", ax = ax[1],\n",
        "               linewidths = 0.2, vmin=0, vmax=1, cbar_kws={\"shrink\": 1})\n",
        "_ = ax[1].set_xlabel('Predicted labels')\n",
        "_ = ax[1].set_ylabel('True labels'); \n",
        "_ = ax[1].set_title('Normalized Confusion Matrix');\n",
        "#_ = ax[1].xaxis.set_ticklabels(Labels)\n",
        "#_ = ax[1].yaxis.set_ticklabels(Labels)\n",
        "\n"
      ],
      "execution_count": null,
      "outputs": [
        {
          "output_type": "display_data",
          "data": {
            "image/png": "[encoded data removed]",
            "text/plain": [
              "<Figure size 1080x360 with 4 Axes>"
            ]
          },
          "metadata": {
            "tags": []
          }
        },
        {
          "output_type": "display_data",
          "data": {
            "image/png": "[encoded data removed]",
            "text/plain": [
              "<Figure size 1080x360 with 4 Axes>"
            ]
          },
          "metadata": {
            "tags": []
          }
        }
      ]
    },
    {
      "cell_type": "markdown",
      "metadata": {
        "id": "3gq46_1SUXAz"
      },
      "source": [
        "## 3. Classification 문제 해결\n",
        "- 클래스 불균형 (class imbalance) 문제\n"
      ]
    },
    {
      "cell_type": "markdown",
      "metadata": {
        "id": "q2MSadybXBLV"
      },
      "source": [
        "**(1) Class Imbalanced problem이란**\n",
        " - 클래스 불균형 문제는 다수 클래스(majority class)의 수가 소수 클래스(minority class)의 수보다 월등히 많은 학습상황에서 발생하며, 해당 상황에서 분류모델을 학습하면 분류성능이 저하되는 문제를 클래스 불균형 문제라고 한다.\n",
        "\n",
        " - 즉 주어진 테스트 데이터에 대해 overfitting 하여, 소수클래스에 해당하는 데이터를 잘 구분하지 못하는 현상이다.(즉 모델이 소수의 데이터를 무시하는 경향이 생기는 문제)\n",
        "\n",
        " - 이런 클래스 불균형 문제는 의료, 반도체, 보험, 텍스트 등 여러분야에 걸쳐서 발생하고 있는 문제이다.\n",
        "\n",
        " - 클래스 불균형 문제에 대한 지수를 IR(class imbalanced ratio) = # of majority class / # of minority class 라고 한다.\n",
        "\n",
        "**(2) 왜 클래스 균형이 필요한가?**\n",
        " - 왜 데이터가 클래스 균형을 이루어야할까? 그리고 언제 클래스 균형이 필요할까? 핵심은 다음과 같다. 클래스 균형 클래스 균형은 소수의 클래스에 특별히 더 큰 관심이 있는 경우에 필요하다. \n",
        "\n",
        " - 예를 들어 현재 재정 상황 및 집의 특성 등을 토대로 집을 사야할지 말아야할지를 예측하는 모델을 만들고 싶다고 하자. 사지말라고 예측하는 것과 사라고 예측하는 것은 그 무게가 다르다. 집을 사라고 예측하는 것은 훨씬 더 큰 리스크를 수반한다. 잘못된 투자는 큰 손실로 이루어질 수 있기 때문이다. 따라서 '집을 사라' 라고 예측하는 것에 대해서는 더 큰 정확도를 가져야한다. 하지만 데이터가 '집을 사지마라' 클래스에 몰려있는 경우, '집을 사지마라' 예측에 있어서는 높은 정확도를 가질 수 있어도 '집을 사라' 라고 예측하는 것에 관해서는 예측 성능이 좋지 않게 된다. 따라서 클래스 불균형이 있는 경우, 클래스에 따라 정확도가 달라지게 된다. 이를 해결하기 위해서는 따라서 '집을 사라' 클래스에는 더욱 큰 비중 (weight) 를 두고 정확한 예측을 할 수 있도록 만들어야한다.   \n",
        "\n",
        " - 만약 소수 클래스에 관심이 없다면 어떻게 할까? 예를 들어, 이미지 분류 문제를 예로 들어보자. 그리고 오직, 전체 예측의 정확도 (accuracy) 에만 관심이 있다고 하자. 이 경우에는 굳이 클래스 균형을 맞출 필요가 없다. 왜냐하면 트레이닝 데이터에 만에 데이터를 위주로 학습하면, 모델의 정확도가 높아질 것이기 때문이다. 따라서 이런 경우에는 소수 클래스를 무시하더라도 전체 성능에 큰 영향을 주지 않기 때문에, 클래스 균형을 맞추는 것이 굳이 필요하지 않다고 할 수 있다. \n",
        "\n",
        "\n",
        "**(3) Class Imbalanced problem이 발생했을 때 사용하는 모델성능 지표**\n",
        " - G-mean: 제1종 오류와 제2종 오류중 성능이 나쁜쪽에 더 가중치는 주는 지표\n",
        " - F1 measure: 불량에 관여하는 지표인 정밀도와 재현율만 고려하는 지표\n",
        " - 정밀도: precision, 옳게 분류된 불량 데이터 수/불량으로 예측한 데이터, 분류모형이 불량을 진단하기 위해 얼마나 잘 동작했는지 보여주는 지표\n",
        " - 재현율: recall, 옳게 분류된 불량 데이터 수/실제 불량 데이터의 수, 불량데이터 중 실제로 불량이라고 진단한 비율(=진단확률)\n",
        " - 특이도: specificity, 옳게 분류된 정상 데이터 수/실제 정상 데이터의 수, 분류모형이 정상데이터를 정상이라고 진단한 비율\n",
        " -  ROC curve : 가로축을 '1-특이도'로 계산한 값, 세로축을 재현율로 하여 시각화한 그래프(그래프가 볼록해질수록 좋은 성능을 가진다)\n",
        " - AUC: ROC curve의 면적(0~1값을 가진다)\n"
      ]
    },
    {
      "cell_type": "markdown",
      "metadata": {
        "id": "5MNlsJcuYDu_"
      },
      "source": [
        "## Class Imbalanced problem을 해결하기위한 방법\n",
        "\n",
        " "
      ]
    },
    {
      "cell_type": "markdown",
      "metadata": {
        "id": "_w65r5ZLYUmg"
      },
      "source": [
        "**1) resampling method**\n",
        "  - over sampling : 소수의 데이터를 부풀리는 방법 -> 모델이 소수데이터를 무시못하게함\n",
        "\n",
        "    -> 선정되는 데이터마다 성능편차가 심하며, minority 데이터에 대해 over-generalization이 되는 경향성을 가지는 단점이 있음\n",
        "\n",
        "  - under sampling: 다수의 데이터를 줄이는 방법\n",
        "\n",
        "    -> 다수에 해당하는 데이터를 제거하여 소수데이터의 비중을 높임\n",
        "    -> (over sampling기법에 비해 잘 사용되지는 않는다. 학습에 불필요한 데이터를 제거해 학습속도가 향상되나, decision boundary 부근의 데이터를 제거했을 경우, 학습에 악영향을 끼칠 수 있는 단점이 있음)\n",
        "  ![image.png](data:image/png;base64,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)\n",
        "\n",
        "예를 들어, 위 그림에서 파란색 데이터가 주황색 데이터에비해 양이 현저히 적다. 이 경우 두 가지 방법 - Undersampling, Oversampling 으로 샘플링을 할 수 있다. \n",
        "\n",
        "Undersampling 은 Majority class (파란색 데이터) 의 일부만을 선택하고, Minority class (주황색 데이터) 는 최대한 많은 데이터를 사용하는 방법이다. 이 때 Undersampling 된 파란색 데이터가 원본 데이터와 비교해 대표성이 있어야한다. Oversampling 은 Minority class 의 복사본을 만들어, Majority class 의 수만큼 데이터를 만들어주는 것이다. 똑같은 데이터를 그대로 복사하는 것이기 때문에 새로운 데이터는 기존 데이터와 같은 성질을 갖게된다.  \n",
        "\n",
        "\n",
        "\n",
        "    \n",
        "   "
      ]
    },
    {
      "cell_type": "markdown",
      "metadata": {
        "id": "CuCU5grdbvYT"
      },
      "source": [
        "  - Algorithm Over Sampling (알고리즘을 통한 오버샘플링)\n",
        "\n",
        "    1) SMOTE(synthetic minority over-sampling technique): over sampling에서 많이 쓰이는 기법\n",
        "    - 먼저 소수 클래스에서 각각의 샘플들의 knn(k-nearest neighbors)을 찾는다.\n",
        "    - 그리고 그 이웃들 사이에 선을 그어 무작위 점을 생성한다.\n",
        "    ![image.png](data:image/png;base64,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)\n",
        "\n",
        "-> SMOTE의 변형기법: BLSMOTE(borderline SMOTE), DBSMOTE(dbscan SMOTE)\n",
        "\n",
        "  - hybrid resampling: over & under sampling를 결합하여 사용하는 방법"
      ]
    },
    {
      "cell_type": "markdown",
      "metadata": {
        "id": "tSE1ZCc-eYWo"
      },
      "source": [
        "**2) cost-sensitive learning**: \n",
        "\n",
        "class의 오분류(잘못된 분류)에 대한 cost의 가중치를 조절하여 학습하는 방법, \n",
        "\n",
        "Cost sensitive learning은 데이터 자체를 생성하진 않는다. 다만 머신러닝을 학습할 때 소수의 클래스에 대한 cost값에 가중치를 더 많이 주어 균형 잡힌 학습이 가능하게 하는 방법이다.\n",
        "\n",
        "->resampling method는 학습전 데이터 단계에서 완화시키는 방법, cost-sensitive learning은 학습알고리즘 단계에서 완화시키는 방법이다. resampling method이 많이 사용된다"
      ]
    },
    {
      "cell_type": "markdown",
      "metadata": {
        "id": "KLKirM6QgGeX"
      },
      "source": [
        "## CASE 적용\n",
        "  - Under sampling\n",
        "  - SMOTE"
      ]
    },
    {
      "cell_type": "markdown",
      "metadata": {
        "id": "U4ecL9wJjE6x"
      },
      "source": [
        "1) 전체 데이터 : 총 1000개 \n",
        "  -> Good : 700개 , Bad : 300개\n",
        "\n",
        "2) train set : 700개 \n",
        "  -> Good : 490개, Bad : 210개\n",
        "\n",
        "3) test set : 300개\n",
        "  -> Good : 210개, Bad : 90개"
      ]
    },
    {
      "cell_type": "markdown",
      "metadata": {
        "id": "zSMczKg2k9mU"
      },
      "source": [
        "- train set under sampling"
      ]
    },
    {
      "cell_type": "code",
      "metadata": {
        "colab": {
          "base_uri": "https://localhost:8080/"
        },
        "id": "pvXBaX7QhoYR",
        "outputId": "5084d5a9-440c-43a0-cda9-a29adbc1f831"
      },
      "source": [
        "bad_indices=np.array(train_df[train_df.goodbad==1].index)\n",
        "no_records_bad=len(bad_indices)\n",
        "print(no_records_bad)"
      ],
      "execution_count": null,
      "outputs": [
        {
          "output_type": "stream",
          "text": [
            "210\n"
          ],
          "name": "stdout"
        }
      ]
    },
    {
      "cell_type": "code",
      "metadata": {
        "colab": {
          "base_uri": "https://localhost:8080/"
        },
        "id": "9QOm8bGXjg4r",
        "outputId": "7149e946-f2ee-4d00-ca88-5337713b61e9"
      },
      "source": [
        "normal_indices=train_df[train_df.goodbad==0].index\n",
        "random_normal_indices=np.random.choice(normal_indices,no_records_bad,replace=False)\n",
        "random_normal_indices=np.array(random_normal_indices)\n",
        "print(len(random_normal_indices))"
      ],
      "execution_count": null,
      "outputs": [
        {
          "output_type": "stream",
          "text": [
            "210\n"
          ],
          "name": "stdout"
        }
      ]
    },
    {
      "cell_type": "code",
      "metadata": {
        "colab": {
          "base_uri": "https://localhost:8080/"
        },
        "id": "W50oydP-j9BL",
        "outputId": "79ef9247-e1c3-47d0-c512-67d37a7213fa"
      },
      "source": [
        "under_sample_indices=np.concatenate([bad_indices,random_normal_indices])\n",
        "print(len(under_sample_indices))"
      ],
      "execution_count": null,
      "outputs": [
        {
          "output_type": "stream",
          "text": [
            "420\n"
          ],
          "name": "stdout"
        }
      ]
    },
    {
      "cell_type": "code",
      "metadata": {
        "colab": {
          "base_uri": "https://localhost:8080/",
          "height": 191
        },
        "id": "97pDqYcIkGz4",
        "outputId": "4cb696aa-aaba-4d3b-e78f-673c75cef24a"
      },
      "source": [
        "under_sample_data=train_df.iloc[under_sample_indices,:]\n",
        "under_sample_data.head()"
      ],
      "execution_count": null,
      "outputs": [
        {
          "output_type": "execute_result",
          "data": {
            "text/html": [
              "<div>\n",
              "<style scoped>\n",
              "    .dataframe tbody tr th:only-of-type {\n",
              "        vertical-align: middle;\n",
              "    }\n",
              "\n",
              "    .dataframe tbody tr th {\n",
              "        vertical-align: top;\n",
              "    }\n",
              "\n",
              "    .dataframe thead th {\n",
              "        text-align: right;\n",
              "    }\n",
              "</style>\n",
              "<table border=\"1\" class=\"dataframe\">\n",
              "  <thead>\n",
              "    <tr style=\"text-align: right;\">\n",
              "      <th></th>\n",
              "      <th>goodbad</th>\n",
              "      <th>checking</th>\n",
              "      <th>duration</th>\n",
              "      <th>history</th>\n",
              "      <th>purpose</th>\n",
              "      <th>amount</th>\n",
              "      <th>savings</th>\n",
              "      <th>employed</th>\n",
              "      <th>installp</th>\n",
              "      <th>martial</th>\n",
              "      <th>coapp</th>\n",
              "      <th>resident</th>\n",
              "      <th>property</th>\n",
              "      <th>age</th>\n",
              "      <th>other</th>\n",
              "      <th>housing</th>\n",
              "      <th>existcr</th>\n",
              "      <th>job</th>\n",
              "      <th>depends</th>\n",
              "      <th>telephon</th>\n",
              "      <th>foreign</th>\n",
              "    </tr>\n",
              "  </thead>\n",
              "  <tbody>\n",
              "    <tr>\n",
              "      <th>3</th>\n",
              "      <td>1</td>\n",
              "      <td>1</td>\n",
              "      <td>4</td>\n",
              "      <td>5</td>\n",
              "      <td>7</td>\n",
              "      <td>4</td>\n",
              "      <td>1</td>\n",
              "      <td>3</td>\n",
              "      <td>4</td>\n",
              "      <td>3</td>\n",
              "      <td>1</td>\n",
              "      <td>3</td>\n",
              "      <td>4</td>\n",
              "      <td>2</td>\n",
              "      <td>1</td>\n",
              "      <td>2</td>\n",
              "      <td>1</td>\n",
              "      <td>3</td>\n",
              "      <td>1</td>\n",
              "      <td>2</td>\n",
              "      <td>1</td>\n",
              "    </tr>\n",
              "    <tr>\n",
              "      <th>12</th>\n",
              "      <td>1</td>\n",
              "      <td>1</td>\n",
              "      <td>2</td>\n",
              "      <td>3</td>\n",
              "      <td>3</td>\n",
              "      <td>4</td>\n",
              "      <td>1</td>\n",
              "      <td>5</td>\n",
              "      <td>4</td>\n",
              "      <td>3</td>\n",
              "      <td>1</td>\n",
              "      <td>4</td>\n",
              "      <td>4</td>\n",
              "      <td>5</td>\n",
              "      <td>3</td>\n",
              "      <td>3</td>\n",
              "      <td>1</td>\n",
              "      <td>4</td>\n",
              "      <td>1</td>\n",
              "      <td>2</td>\n",
              "      <td>1</td>\n",
              "    </tr>\n",
              "    <tr>\n",
              "      <th>15</th>\n",
              "      <td>1</td>\n",
              "      <td>2</td>\n",
              "      <td>3</td>\n",
              "      <td>5</td>\n",
              "      <td>1</td>\n",
              "      <td>1</td>\n",
              "      <td>1</td>\n",
              "      <td>5</td>\n",
              "      <td>4</td>\n",
              "      <td>3</td>\n",
              "      <td>1</td>\n",
              "      <td>4</td>\n",
              "      <td>3</td>\n",
              "      <td>4</td>\n",
              "      <td>1</td>\n",
              "      <td>2</td>\n",
              "      <td>1</td>\n",
              "      <td>3</td>\n",
              "      <td>2</td>\n",
              "      <td>2</td>\n",
              "      <td>1</td>\n",
              "    </tr>\n",
              "    <tr>\n",
              "      <th>16</th>\n",
              "      <td>1</td>\n",
              "      <td>1</td>\n",
              "      <td>4</td>\n",
              "      <td>3</td>\n",
              "      <td>1</td>\n",
              "      <td>3</td>\n",
              "      <td>1</td>\n",
              "      <td>2</td>\n",
              "      <td>4</td>\n",
              "      <td>2</td>\n",
              "      <td>1</td>\n",
              "      <td>4</td>\n",
              "      <td>3</td>\n",
              "      <td>3</td>\n",
              "      <td>3</td>\n",
              "      <td>2</td>\n",
              "      <td>1</td>\n",
              "      <td>3</td>\n",
              "      <td>1</td>\n",
              "      <td>2</td>\n",
              "      <td>1</td>\n",
              "    </tr>\n",
              "    <tr>\n",
              "      <th>25</th>\n",
              "      <td>1</td>\n",
              "      <td>1</td>\n",
              "      <td>3</td>\n",
              "      <td>3</td>\n",
              "      <td>1</td>\n",
              "      <td>3</td>\n",
              "      <td>1</td>\n",
              "      <td>2</td>\n",
              "      <td>4</td>\n",
              "      <td>2</td>\n",
              "      <td>1</td>\n",
              "      <td>1</td>\n",
              "      <td>2</td>\n",
              "      <td>2</td>\n",
              "      <td>3</td>\n",
              "      <td>2</td>\n",
              "      <td>1</td>\n",
              "      <td>3</td>\n",
              "      <td>1</td>\n",
              "      <td>1</td>\n",
              "      <td>1</td>\n",
              "    </tr>\n",
              "  </tbody>\n",
              "</table>\n",
              "</div>"
            ],
            "text/plain": [
              "    goodbad  checking  duration  history  ...  job  depends  telephon  foreign\n",
              "3         1         1         4        5  ...    3        1         2        1\n",
              "12        1         1         2        3  ...    4        1         2        1\n",
              "15        1         2         3        5  ...    3        2         2        1\n",
              "16        1         1         4        3  ...    3        1         2        1\n",
              "25        1         1         3        3  ...    3        1         1        1\n",
              "\n",
              "[5 rows x 21 columns]"
            ]
          },
          "metadata": {
            "tags": []
          },
          "execution_count": 265
        }
      ]
    },
    {
      "cell_type": "code",
      "metadata": {
        "id": "Lz-TkBZ4kPsR"
      },
      "source": [
        "X_undersample=under_sample_data.iloc[:,under_sample_data.columns!='goodbad']\n",
        "y_undersample=under_sample_data.iloc[:,under_sample_data.columns=='goodbad']"
      ],
      "execution_count": null,
      "outputs": []
    },
    {
      "cell_type": "markdown",
      "metadata": {
        "id": "vjtiSegdlBFb"
      },
      "source": [
        "- test set under sampling"
      ]
    },
    {
      "cell_type": "code",
      "metadata": {
        "colab": {
          "base_uri": "https://localhost:8080/"
        },
        "id": "sSt0Sm6IlFA0",
        "outputId": "20f9e930-7276-478b-a5c3-befb1cefd076"
      },
      "source": [
        "bad_indices1=np.array(test_df[test_df.goodbad==1].index)\n",
        "no_records_bad1=len(bad_indices1)\n",
        "print(no_records_bad1)"
      ],
      "execution_count": null,
      "outputs": [
        {
          "output_type": "stream",
          "text": [
            "90\n"
          ],
          "name": "stdout"
        }
      ]
    },
    {
      "cell_type": "code",
      "metadata": {
        "colab": {
          "base_uri": "https://localhost:8080/"
        },
        "id": "n7M375V4lN0q",
        "outputId": "98b8385e-2ee6-4266-9a6d-a87af42c1eae"
      },
      "source": [
        "normal_indices1=test_df[test_df.goodbad==0].index\n",
        "random_normal_indices1=np.random.choice(normal_indices1,no_records_bad1,replace=False)\n",
        "random_normal_indices1=np.array(random_normal_indices1)\n",
        "print(len(random_normal_indices1))"
      ],
      "execution_count": null,
      "outputs": [
        {
          "output_type": "stream",
          "text": [
            "90\n"
          ],
          "name": "stdout"
        }
      ]
    },
    {
      "cell_type": "code",
      "metadata": {
        "colab": {
          "base_uri": "https://localhost:8080/"
        },
        "id": "eUSMCtC6lWu_",
        "outputId": "4fc83961-597d-43b1-856a-6b5ff1ffb27a"
      },
      "source": [
        "under_sample_indices1=np.concatenate([bad_indices1,random_normal_indices1])\n",
        "print(len(under_sample_indices1))"
      ],
      "execution_count": null,
      "outputs": [
        {
          "output_type": "stream",
          "text": [
            "180\n"
          ],
          "name": "stdout"
        }
      ]
    },
    {
      "cell_type": "code",
      "metadata": {
        "colab": {
          "base_uri": "https://localhost:8080/",
          "height": 191
        },
        "id": "KwnNFsFilttj",
        "outputId": "0b8736a3-a590-436f-a081-57c825300566"
      },
      "source": [
        "under_sample_data1=test_df.iloc[under_sample_indices1,:]\n",
        "under_sample_data1.head()"
      ],
      "execution_count": null,
      "outputs": [
        {
          "output_type": "execute_result",
          "data": {
            "text/html": [
              "<div>\n",
              "<style scoped>\n",
              "    .dataframe tbody tr th:only-of-type {\n",
              "        vertical-align: middle;\n",
              "    }\n",
              "\n",
              "    .dataframe tbody tr th {\n",
              "        vertical-align: top;\n",
              "    }\n",
              "\n",
              "    .dataframe thead th {\n",
              "        text-align: right;\n",
              "    }\n",
              "</style>\n",
              "<table border=\"1\" class=\"dataframe\">\n",
              "  <thead>\n",
              "    <tr style=\"text-align: right;\">\n",
              "      <th></th>\n",
              "      <th>goodbad</th>\n",
              "      <th>checking</th>\n",
              "      <th>duration</th>\n",
              "      <th>history</th>\n",
              "      <th>purpose</th>\n",
              "      <th>amount</th>\n",
              "      <th>savings</th>\n",
              "      <th>employed</th>\n",
              "      <th>installp</th>\n",
              "      <th>martial</th>\n",
              "      <th>coapp</th>\n",
              "      <th>resident</th>\n",
              "      <th>property</th>\n",
              "      <th>age</th>\n",
              "      <th>other</th>\n",
              "      <th>housing</th>\n",
              "      <th>existcr</th>\n",
              "      <th>job</th>\n",
              "      <th>depends</th>\n",
              "      <th>telephon</th>\n",
              "      <th>foreign</th>\n",
              "    </tr>\n",
              "  </thead>\n",
              "  <tbody>\n",
              "    <tr>\n",
              "      <th>1</th>\n",
              "      <td>1</td>\n",
              "      <td>1</td>\n",
              "      <td>3</td>\n",
              "      <td>3</td>\n",
              "      <td>1</td>\n",
              "      <td>1</td>\n",
              "      <td>1</td>\n",
              "      <td>2</td>\n",
              "      <td>4</td>\n",
              "      <td>2</td>\n",
              "      <td>1</td>\n",
              "      <td>3</td>\n",
              "      <td>3</td>\n",
              "      <td>1</td>\n",
              "      <td>3</td>\n",
              "      <td>1</td>\n",
              "      <td>1</td>\n",
              "      <td>3</td>\n",
              "      <td>1</td>\n",
              "      <td>2</td>\n",
              "      <td>1</td>\n",
              "    </tr>\n",
              "    <tr>\n",
              "      <th>12</th>\n",
              "      <td>1</td>\n",
              "      <td>4</td>\n",
              "      <td>3</td>\n",
              "      <td>3</td>\n",
              "      <td>3</td>\n",
              "      <td>2</td>\n",
              "      <td>1</td>\n",
              "      <td>2</td>\n",
              "      <td>4</td>\n",
              "      <td>4</td>\n",
              "      <td>2</td>\n",
              "      <td>1</td>\n",
              "      <td>2</td>\n",
              "      <td>5</td>\n",
              "      <td>3</td>\n",
              "      <td>2</td>\n",
              "      <td>1</td>\n",
              "      <td>2</td>\n",
              "      <td>2</td>\n",
              "      <td>1</td>\n",
              "      <td>1</td>\n",
              "    </tr>\n",
              "    <tr>\n",
              "      <th>15</th>\n",
              "      <td>1</td>\n",
              "      <td>2</td>\n",
              "      <td>3</td>\n",
              "      <td>3</td>\n",
              "      <td>4</td>\n",
              "      <td>3</td>\n",
              "      <td>1</td>\n",
              "      <td>2</td>\n",
              "      <td>1</td>\n",
              "      <td>4</td>\n",
              "      <td>1</td>\n",
              "      <td>1</td>\n",
              "      <td>2</td>\n",
              "      <td>1</td>\n",
              "      <td>3</td>\n",
              "      <td>2</td>\n",
              "      <td>1</td>\n",
              "      <td>3</td>\n",
              "      <td>1</td>\n",
              "      <td>2</td>\n",
              "      <td>1</td>\n",
              "    </tr>\n",
              "    <tr>\n",
              "      <th>18</th>\n",
              "      <td>1</td>\n",
              "      <td>4</td>\n",
              "      <td>3</td>\n",
              "      <td>3</td>\n",
              "      <td>9</td>\n",
              "      <td>4</td>\n",
              "      <td>4</td>\n",
              "      <td>3</td>\n",
              "      <td>2</td>\n",
              "      <td>3</td>\n",
              "      <td>1</td>\n",
              "      <td>3</td>\n",
              "      <td>2</td>\n",
              "      <td>5</td>\n",
              "      <td>3</td>\n",
              "      <td>2</td>\n",
              "      <td>3</td>\n",
              "      <td>4</td>\n",
              "      <td>1</td>\n",
              "      <td>2</td>\n",
              "      <td>1</td>\n",
              "    </tr>\n",
              "    <tr>\n",
              "      <th>23</th>\n",
              "      <td>1</td>\n",
              "      <td>1</td>\n",
              "      <td>2</td>\n",
              "      <td>3</td>\n",
              "      <td>1</td>\n",
              "      <td>3</td>\n",
              "      <td>1</td>\n",
              "      <td>3</td>\n",
              "      <td>3</td>\n",
              "      <td>2</td>\n",
              "      <td>1</td>\n",
              "      <td>2</td>\n",
              "      <td>2</td>\n",
              "      <td>3</td>\n",
              "      <td>3</td>\n",
              "      <td>2</td>\n",
              "      <td>1</td>\n",
              "      <td>3</td>\n",
              "      <td>1</td>\n",
              "      <td>2</td>\n",
              "      <td>1</td>\n",
              "    </tr>\n",
              "  </tbody>\n",
              "</table>\n",
              "</div>"
            ],
            "text/plain": [
              "    goodbad  checking  duration  history  ...  job  depends  telephon  foreign\n",
              "1         1         1         3        3  ...    3        1         2        1\n",
              "12        1         4         3        3  ...    2        2         1        1\n",
              "15        1         2         3        3  ...    3        1         2        1\n",
              "18        1         4         3        3  ...    4        1         2        1\n",
              "23        1         1         2        3  ...    3        1         2        1\n",
              "\n",
              "[5 rows x 21 columns]"
            ]
          },
          "metadata": {
            "tags": []
          },
          "execution_count": 270
        }
      ]
    },
    {
      "cell_type": "code",
      "metadata": {
        "id": "fegiG4KImFv6"
      },
      "source": [
        "X1_undersample=under_sample_data1.iloc[:,under_sample_data1.columns!='goodbad']\n",
        "y1_undersample=under_sample_data1.iloc[:,under_sample_data1.columns=='goodbad']"
      ],
      "execution_count": null,
      "outputs": []
    },
    {
      "cell_type": "code",
      "metadata": {
        "id": "YL0-cAGSpUWa"
      },
      "source": [
        "#원핫인코딩_train_df\n",
        "dataset_x = X_undersample.values\n",
        "X_undersample = dataset_x[:,0:21].astype('float')  \n",
        "#y_obj = dataset[:,0]   #target -> y_undersample\n",
        "\n",
        "e=LabelEncoder()\n",
        "e.fit(y_undersample)\n",
        "y_sampling=e.transform(y_undersample)\n",
        "y_encoded_samp=tf.keras.utils.to_categorical(y_sampling)\n",
        "y_encoded_samp[:21]\n",
        "\n",
        "\n",
        "\n",
        "#원핫인코딩_test_df\n",
        "dataset_x1 = X1_undersample.values\n",
        "X_test = dataset_x1[:,0:21].astype('float')  \n",
        "#y_obj1 = dataset1[:,0]   #target -> y1_undersample\n",
        "\n",
        "e1=LabelEncoder()\n",
        "e1.fit(y1_undersample)\n",
        "y1_samp=e1.transform(y1_undersample)\n",
        "y_test=tf.keras.utils.to_categorical(y1_samp)\n",
        "y_test[:21]"
      ],
      "execution_count": null,
      "outputs": []
    },
    {
      "cell_type": "code",
      "metadata": {
        "id": "xm_sP4KbpZhh"
      },
      "source": [
        "X_train, X_val, y_train, y_val = train_test_split(X_undersample, y_encoded_samp, test_size=0.8, random_state=0)"
      ],
      "execution_count": null,
      "outputs": []
    },
    {
      "cell_type": "code",
      "metadata": {
        "id": "4QeAVUc5owqY"
      },
      "source": [
        "model = Sequential()\n",
        "\n",
        "# 옵티마이저는 경사하강법 sgd를 사용\n",
        "sgd = optimizers.SGD(lr=0.03, decay=0, momentum=0.9, nesterov=False)\n",
        "model.add(Dense(18, input_dim=train_X.shape[1], activation='relu'))\n",
        "model.add(Dense(8, activation='relu'))\n",
        "model.add(Dense(2, activation='sigmoid'))\n",
        "model.compile(loss='binary_crossentropy',\n",
        "              optimizer='sgd',\n",
        "              metrics=['accuracy','mae', 'mse'])"
      ],
      "execution_count": null,
      "outputs": []
    },
    {
      "cell_type": "code",
      "metadata": {
        "colab": {
          "base_uri": "https://localhost:8080/"
        },
        "id": "Q_HxPj5EraFA",
        "outputId": "ff947adb-bc3b-499b-9d18-508f8b0de794"
      },
      "source": [
        "history=model.fit(X_train, y_train, validation_data=(X_val, y_val), epochs=30, batch_size=5)"
      ],
      "execution_count": null,
      "outputs": [
        {
          "output_type": "stream",
          "text": [
            "Epoch 1/30\n",
            "17/17 [==============================] - 1s 17ms/step - loss: 0.7004 - accuracy: 0.7024 - mae: 0.3473 - mse: 0.2135 - val_loss: 0.6486 - val_accuracy: 0.6964 - val_mae: 0.3522 - val_mse: 0.2105\n",
            "Epoch 2/30\n",
            "17/17 [==============================] - 0s 11ms/step - loss: 0.6332 - accuracy: 0.7143 - mae: 0.3432 - mse: 0.2047 - val_loss: 0.7383 - val_accuracy: 0.6548 - val_mae: 0.3751 - val_mse: 0.2378\n",
            "Epoch 3/30\n",
            "17/17 [==============================] - 0s 10ms/step - loss: 0.6287 - accuracy: 0.6667 - mae: 0.3585 - mse: 0.2061 - val_loss: 0.7108 - val_accuracy: 0.6488 - val_mae: 0.3788 - val_mse: 0.2334\n",
            "Epoch 4/30\n",
            "17/17 [==============================] - 0s 11ms/step - loss: 0.6214 - accuracy: 0.7143 - mae: 0.3570 - mse: 0.2026 - val_loss: 0.6498 - val_accuracy: 0.6548 - val_mae: 0.3844 - val_mse: 0.2210\n",
            "Epoch 5/30\n",
            "17/17 [==============================] - 0s 10ms/step - loss: 0.6306 - accuracy: 0.6310 - mae: 0.3618 - mse: 0.2125 - val_loss: 0.6271 - val_accuracy: 0.6786 - val_mae: 0.3811 - val_mse: 0.2120\n",
            "Epoch 6/30\n",
            "17/17 [==============================] - 0s 11ms/step - loss: 0.5810 - accuracy: 0.7262 - mae: 0.3594 - mse: 0.1954 - val_loss: 0.6672 - val_accuracy: 0.6577 - val_mae: 0.3896 - val_mse: 0.2255\n",
            "Epoch 7/30\n",
            "17/17 [==============================] - 0s 11ms/step - loss: 0.5788 - accuracy: 0.7024 - mae: 0.3606 - mse: 0.1963 - val_loss: 0.6338 - val_accuracy: 0.6667 - val_mae: 0.3853 - val_mse: 0.2160\n",
            "Epoch 8/30\n",
            "17/17 [==============================] - 0s 11ms/step - loss: 0.5638 - accuracy: 0.6905 - mae: 0.3616 - mse: 0.1947 - val_loss: 0.6243 - val_accuracy: 0.6845 - val_mae: 0.3813 - val_mse: 0.2104\n",
            "Epoch 9/30\n",
            "17/17 [==============================] - 0s 10ms/step - loss: 0.5340 - accuracy: 0.7500 - mae: 0.3468 - mse: 0.1771 - val_loss: 0.6187 - val_accuracy: 0.7054 - val_mae: 0.3789 - val_mse: 0.2079\n",
            "Epoch 10/30\n",
            "17/17 [==============================] - 0s 11ms/step - loss: 0.5510 - accuracy: 0.7381 - mae: 0.3426 - mse: 0.1787 - val_loss: 0.6136 - val_accuracy: 0.6815 - val_mae: 0.3824 - val_mse: 0.2075\n",
            "Epoch 11/30\n",
            "17/17 [==============================] - 0s 11ms/step - loss: 0.5625 - accuracy: 0.6905 - mae: 0.3629 - mse: 0.1905 - val_loss: 0.6290 - val_accuracy: 0.6786 - val_mae: 0.3849 - val_mse: 0.2133\n",
            "Epoch 12/30\n",
            "17/17 [==============================] - 0s 10ms/step - loss: 0.5655 - accuracy: 0.7024 - mae: 0.3526 - mse: 0.1868 - val_loss: 0.6225 - val_accuracy: 0.6786 - val_mae: 0.3850 - val_mse: 0.2138\n",
            "Epoch 13/30\n",
            "17/17 [==============================] - 0s 11ms/step - loss: 0.5357 - accuracy: 0.7500 - mae: 0.3505 - mse: 0.1812 - val_loss: 0.6905 - val_accuracy: 0.6399 - val_mae: 0.3970 - val_mse: 0.2314\n",
            "Epoch 14/30\n",
            "17/17 [==============================] - 0s 11ms/step - loss: 0.5306 - accuracy: 0.7024 - mae: 0.3462 - mse: 0.1775 - val_loss: 0.6210 - val_accuracy: 0.6756 - val_mae: 0.3882 - val_mse: 0.2134\n",
            "Epoch 15/30\n",
            "17/17 [==============================] - 0s 11ms/step - loss: 0.4979 - accuracy: 0.7857 - mae: 0.3385 - mse: 0.1666 - val_loss: 0.6160 - val_accuracy: 0.6815 - val_mae: 0.3802 - val_mse: 0.2086\n",
            "Epoch 16/30\n",
            "17/17 [==============================] - 0s 11ms/step - loss: 0.5207 - accuracy: 0.7024 - mae: 0.3404 - mse: 0.1757 - val_loss: 0.6091 - val_accuracy: 0.6905 - val_mae: 0.3810 - val_mse: 0.2080\n",
            "Epoch 17/30\n",
            "17/17 [==============================] - 0s 10ms/step - loss: 0.5141 - accuracy: 0.7381 - mae: 0.3392 - mse: 0.1731 - val_loss: 0.6149 - val_accuracy: 0.6726 - val_mae: 0.3804 - val_mse: 0.2106\n",
            "Epoch 18/30\n",
            "17/17 [==============================] - 0s 11ms/step - loss: 0.4889 - accuracy: 0.7738 - mae: 0.3235 - mse: 0.1613 - val_loss: 0.6232 - val_accuracy: 0.6845 - val_mae: 0.3824 - val_mse: 0.2141\n",
            "Epoch 19/30\n",
            "17/17 [==============================] - 0s 11ms/step - loss: 0.4968 - accuracy: 0.7500 - mae: 0.3325 - mse: 0.1663 - val_loss: 0.6129 - val_accuracy: 0.6935 - val_mae: 0.3805 - val_mse: 0.2092\n",
            "Epoch 20/30\n",
            "17/17 [==============================] - 0s 11ms/step - loss: 0.4958 - accuracy: 0.7381 - mae: 0.3224 - mse: 0.1627 - val_loss: 0.6221 - val_accuracy: 0.6667 - val_mae: 0.3855 - val_mse: 0.2106\n",
            "Epoch 21/30\n",
            "17/17 [==============================] - 0s 11ms/step - loss: 0.5010 - accuracy: 0.7381 - mae: 0.3369 - mse: 0.1688 - val_loss: 0.6083 - val_accuracy: 0.6875 - val_mae: 0.3800 - val_mse: 0.2071\n",
            "Epoch 22/30\n",
            "17/17 [==============================] - 0s 10ms/step - loss: 0.5061 - accuracy: 0.7738 - mae: 0.3350 - mse: 0.1679 - val_loss: 0.6240 - val_accuracy: 0.6607 - val_mae: 0.3824 - val_mse: 0.2146\n",
            "Epoch 23/30\n",
            "17/17 [==============================] - 0s 12ms/step - loss: 0.4835 - accuracy: 0.7381 - mae: 0.3292 - mse: 0.1643 - val_loss: 0.6627 - val_accuracy: 0.6548 - val_mae: 0.3918 - val_mse: 0.2244\n",
            "Epoch 24/30\n",
            "17/17 [==============================] - 0s 10ms/step - loss: 0.4889 - accuracy: 0.7619 - mae: 0.3234 - mse: 0.1650 - val_loss: 0.6998 - val_accuracy: 0.6458 - val_mae: 0.3977 - val_mse: 0.2345\n",
            "Epoch 25/30\n",
            "17/17 [==============================] - 0s 11ms/step - loss: 0.4871 - accuracy: 0.7381 - mae: 0.3327 - mse: 0.1640 - val_loss: 0.6775 - val_accuracy: 0.6577 - val_mae: 0.3914 - val_mse: 0.2273\n",
            "Epoch 26/30\n",
            "17/17 [==============================] - 0s 11ms/step - loss: 0.4658 - accuracy: 0.7500 - mae: 0.3144 - mse: 0.1536 - val_loss: 0.6434 - val_accuracy: 0.6607 - val_mae: 0.3864 - val_mse: 0.2230\n",
            "Epoch 27/30\n",
            "17/17 [==============================] - 0s 11ms/step - loss: 0.4833 - accuracy: 0.7500 - mae: 0.3268 - mse: 0.1623 - val_loss: 0.6639 - val_accuracy: 0.6310 - val_mae: 0.3922 - val_mse: 0.2304\n",
            "Epoch 28/30\n",
            "17/17 [==============================] - 0s 10ms/step - loss: 0.4860 - accuracy: 0.7500 - mae: 0.3277 - mse: 0.1662 - val_loss: 0.6151 - val_accuracy: 0.6875 - val_mae: 0.3809 - val_mse: 0.2101\n",
            "Epoch 29/30\n",
            "17/17 [==============================] - 0s 12ms/step - loss: 0.4661 - accuracy: 0.7857 - mae: 0.3206 - mse: 0.1564 - val_loss: 0.6462 - val_accuracy: 0.6458 - val_mae: 0.3874 - val_mse: 0.2201\n",
            "Epoch 30/30\n",
            "17/17 [==============================] - 0s 12ms/step - loss: 0.4883 - accuracy: 0.7262 - mae: 0.3282 - mse: 0.1649 - val_loss: 0.6278 - val_accuracy: 0.6815 - val_mae: 0.3877 - val_mse: 0.2157\n"
          ],
          "name": "stdout"
        }
      ]
    },
    {
      "cell_type": "code",
      "metadata": {
        "colab": {
          "base_uri": "https://localhost:8080/"
        },
        "id": "0CyoDQivtdGO",
        "outputId": "3e4b38d5-1b2e-4155-ff02-006d25f0e512"
      },
      "source": [
        "Y_PRED = model.predict(X_test)\n",
        "score = model.evaluate(X_test, y_test) "
      ],
      "execution_count": null,
      "outputs": [
        {
          "output_type": "stream",
          "text": [
            "6/6 [==============================] - 0s 3ms/step - loss: 0.6614 - accuracy: 0.6778 - mae: 0.3934 - mse: 0.2208\n"
          ],
          "name": "stdout"
        }
      ]
    },
    {
      "cell_type": "code",
      "metadata": {
        "colab": {
          "base_uri": "https://localhost:8080/",
          "height": 88
        },
        "id": "jtgdeQirtlP3",
        "outputId": "97108ff8-0cf9-4275-c5bd-3c35943a9233"
      },
      "source": [
        "print(\"정확도 결과는 : {} %\".format(np.round(model.evaluate(X_test, y_test)[1],3)))\n",
        "score = pd.DataFrame(score, index = model.metrics_names).T\n",
        "history = pd.DataFrame(history.history)\n",
        "display(score.style.hide_index())"
      ],
      "execution_count": null,
      "outputs": [
        {
          "output_type": "stream",
          "text": [
            "6/6 [==============================] - 0s 3ms/step - loss: 0.6614 - accuracy: 0.6778 - mae: 0.3934 - mse: 0.2208\n",
            "정확도 결과는 : 0.678 %\n"
          ],
          "name": "stdout"
        },
        {
          "output_type": "display_data",
          "data": {
            "text/html": [
              "<style  type=\"text/css\" >\n",
              "</style><table id=\"T_6a4c6110_8e61_11eb_8d31_0242ac1c0002\" ><thead>    <tr>        <th class=\"col_heading level0 col0\" >loss</th>        <th class=\"col_heading level0 col1\" >accuracy</th>        <th class=\"col_heading level0 col2\" >mae</th>        <th class=\"col_heading level0 col3\" >mse</th>    </tr></thead><tbody>\n",
              "                <tr>\n",
              "                                <td id=\"T_6a4c6110_8e61_11eb_8d31_0242ac1c0002row0_col0\" class=\"data row0 col0\" >0.661424</td>\n",
              "                        <td id=\"T_6a4c6110_8e61_11eb_8d31_0242ac1c0002row0_col1\" class=\"data row0 col1\" >0.677778</td>\n",
              "                        <td id=\"T_6a4c6110_8e61_11eb_8d31_0242ac1c0002row0_col2\" class=\"data row0 col2\" >0.393402</td>\n",
              "                        <td id=\"T_6a4c6110_8e61_11eb_8d31_0242ac1c0002row0_col3\" class=\"data row0 col3\" >0.220782</td>\n",
              "            </tr>\n",
              "    </tbody></table>"
            ],
            "text/plain": [
              "<pandas.io.formats.style.Styler at 0x7f574f3e0b10>"
            ]
          },
          "metadata": {
            "tags": []
          }
        }
      ]
    },
    {
      "cell_type": "code",
      "metadata": {
        "colab": {
          "base_uri": "https://localhost:8080/"
        },
        "id": "cSIRiJJbvumn",
        "outputId": "81f5d0ad-722c-45a0-f13d-6af1e2b1e17b"
      },
      "source": [
        "rounded_pred=np.argmax(Y_PRED, axis=1)\n",
        "rounded_pred[1]\n",
        "\n",
        "rounded_labels=np.argmax(y_test, axis=1)\n",
        "rounded_labels[1]"
      ],
      "execution_count": null,
      "outputs": [
        {
          "output_type": "execute_result",
          "data": {
            "text/plain": [
              "1"
            ]
          },
          "metadata": {
            "tags": []
          },
          "execution_count": 368
        }
      ]
    },
    {
      "cell_type": "code",
      "metadata": {
        "colab": {
          "base_uri": "https://localhost:8080/"
        },
        "id": "8RbvosIJutxy",
        "outputId": "6619c1d1-bb63-4bb9-f825-28baf830f771"
      },
      "source": [
        "# confusion matrix (분류 표를 나타낸 행렬)\n",
        "\n",
        "cfmat = confusion_matrix(rounded_labels, rounded_pred)\n",
        "print(cfmat)\n",
        "print(classification_report(rounded_labels, rounded_pred))\n",
        "print()"
      ],
      "execution_count": null,
      "outputs": [
        {
          "output_type": "stream",
          "text": [
            "[[66 24]\n",
            " [34 56]]\n",
            "              precision    recall  f1-score   support\n",
            "\n",
            "           0       0.66      0.73      0.69        90\n",
            "           1       0.70      0.62      0.66        90\n",
            "\n",
            "    accuracy                           0.68       180\n",
            "   macro avg       0.68      0.68      0.68       180\n",
            "weighted avg       0.68      0.68      0.68       180\n",
            "\n",
            "\n"
          ],
          "name": "stdout"
        }
      ]
    },
    {
      "cell_type": "markdown",
      "metadata": {
        "id": "tWL-VmkK1__n"
      },
      "source": [
        "precision(정밀도) : 0(정상)이라고 예측한 데이터의 66%만 실제로 정상이었고 1(부도)이라고 예측한 데이터의 70%만 실제로 부도이었음을 알 수 있다. \n",
        "\n",
        "recall(재현율) : 또한 실제 0(정상)인 데이터 중의 73%만 정상으로 판별되었고 실제 1(부도)인 데이터 중의 62%만 1(부도)로 판별되었음을 알 수 있다."
      ]
    }
  ]
}